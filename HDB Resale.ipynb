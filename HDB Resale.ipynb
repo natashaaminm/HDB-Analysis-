{
 "cells": [
  {
   "cell_type": "code",
   "execution_count": 1,
   "metadata": {},
   "outputs": [],
   "source": [
    "%matplotlib inline\n",
    "import pandas as pd\n",
    "import numpy as np\n",
    "import matplotlib.pyplot as plt\n",
    "import glob\n",
    "import requests\n",
    "import json\n",
    "\n",
    "\n"
   ]
  },
  {
   "cell_type": "code",
   "execution_count": 2,
   "metadata": {},
   "outputs": [],
   "source": [
    "#running the api to get data of resale flats for 2017 and beyond\n",
    "\n",
    "payload = \"------WebKitFormBoundary7MA4YWxkTrZu0gW\\r\\nContent-Disposition: form-data; name=\\\"searchVal\\\"\\r\\n\\r\\n\\r\\n------WebKitFormBoundary7MA4YWxkTrZu0gW\\r\\nContent-Disposition: form-data; name=\\\"returnGeom {Y/N}\\\"\\r\\n\\r\\n\\r\\n------WebKitFormBoundary7MA4YWxkTrZu0gW\\r\\nContent-Disposition: form-data; name=\\\"getAddrDetails {Y/N}\\\"\\r\\n\\r\\n\\r\\n------WebKitFormBoundary7MA4YWxkTrZu0gW\\r\\nContent-Disposition: form-data; name=\\\"pageNum\\\"\\r\\n\\r\\n\\r\\n------WebKitFormBoundary7MA4YWxkTrZu0gW--\"\n",
    "headers = {\n",
    "'content-type': \"multipart/form-data; boundary=----WebKitFormBoundary7MA4YWxkTrZu0gW\",\n",
    "'Cache-Control': \"no-cache\",\n",
    "'Postman-Token': \"5f4af03e-410e-4b28-93bc-05006b4de49a\"\n",
    " }\n",
    "url = 'https://data.gov.sg/api/action/datastore_search?resource_id=42ff9cfe-abe5-4b54-beda-c88f9bb438ee&limit=100000'\n",
    "   \n",
    "response = requests.request(\"GET\", url, data=payload, headers=headers)\n",
    "x= response.json()"
   ]
  },
  {
   "cell_type": "code",
   "execution_count": 3,
   "metadata": {},
   "outputs": [],
   "source": [
    "#converting the json response into a df\n",
    "flats= pd.DataFrame()\n",
    "for entry in range(len(x)):\n",
    "    temp_df = pd.DataFrame.from_dict(x['result']['records'])\n",
    "    flats=flats.append(temp_df)"
   ]
  },
  {
   "cell_type": "code",
   "execution_count": 4,
   "metadata": {},
   "outputs": [
    {
     "data": {
      "text/html": [
       "<div>\n",
       "<style scoped>\n",
       "    .dataframe tbody tr th:only-of-type {\n",
       "        vertical-align: middle;\n",
       "    }\n",
       "\n",
       "    .dataframe tbody tr th {\n",
       "        vertical-align: top;\n",
       "    }\n",
       "\n",
       "    .dataframe thead th {\n",
       "        text-align: right;\n",
       "    }\n",
       "</style>\n",
       "<table border=\"1\" class=\"dataframe\">\n",
       "  <thead>\n",
       "    <tr style=\"text-align: right;\">\n",
       "      <th></th>\n",
       "      <th>town</th>\n",
       "      <th>flat_type</th>\n",
       "      <th>flat_model</th>\n",
       "      <th>floor_area_sqm</th>\n",
       "      <th>street_name</th>\n",
       "      <th>resale_price</th>\n",
       "      <th>month</th>\n",
       "      <th>remaining_lease</th>\n",
       "      <th>lease_commence_date</th>\n",
       "      <th>storey_range</th>\n",
       "      <th>_id</th>\n",
       "      <th>block</th>\n",
       "    </tr>\n",
       "  </thead>\n",
       "  <tbody>\n",
       "    <tr>\n",
       "      <td>0</td>\n",
       "      <td>ANG MO KIO</td>\n",
       "      <td>2 ROOM</td>\n",
       "      <td>Improved</td>\n",
       "      <td>44</td>\n",
       "      <td>ANG MO KIO AVE 10</td>\n",
       "      <td>232000</td>\n",
       "      <td>2017-01</td>\n",
       "      <td>61 years 04 months</td>\n",
       "      <td>1979</td>\n",
       "      <td>10 TO 12</td>\n",
       "      <td>1</td>\n",
       "      <td>406</td>\n",
       "    </tr>\n",
       "    <tr>\n",
       "      <td>1</td>\n",
       "      <td>ANG MO KIO</td>\n",
       "      <td>3 ROOM</td>\n",
       "      <td>New Generation</td>\n",
       "      <td>67</td>\n",
       "      <td>ANG MO KIO AVE 4</td>\n",
       "      <td>250000</td>\n",
       "      <td>2017-01</td>\n",
       "      <td>60 years 07 months</td>\n",
       "      <td>1978</td>\n",
       "      <td>01 TO 03</td>\n",
       "      <td>2</td>\n",
       "      <td>108</td>\n",
       "    </tr>\n",
       "    <tr>\n",
       "      <td>2</td>\n",
       "      <td>ANG MO KIO</td>\n",
       "      <td>3 ROOM</td>\n",
       "      <td>New Generation</td>\n",
       "      <td>67</td>\n",
       "      <td>ANG MO KIO AVE 5</td>\n",
       "      <td>262000</td>\n",
       "      <td>2017-01</td>\n",
       "      <td>62 years 05 months</td>\n",
       "      <td>1980</td>\n",
       "      <td>01 TO 03</td>\n",
       "      <td>3</td>\n",
       "      <td>602</td>\n",
       "    </tr>\n",
       "    <tr>\n",
       "      <td>3</td>\n",
       "      <td>ANG MO KIO</td>\n",
       "      <td>3 ROOM</td>\n",
       "      <td>New Generation</td>\n",
       "      <td>68</td>\n",
       "      <td>ANG MO KIO AVE 10</td>\n",
       "      <td>265000</td>\n",
       "      <td>2017-01</td>\n",
       "      <td>62 years 01 month</td>\n",
       "      <td>1980</td>\n",
       "      <td>04 TO 06</td>\n",
       "      <td>4</td>\n",
       "      <td>465</td>\n",
       "    </tr>\n",
       "    <tr>\n",
       "      <td>4</td>\n",
       "      <td>ANG MO KIO</td>\n",
       "      <td>3 ROOM</td>\n",
       "      <td>New Generation</td>\n",
       "      <td>67</td>\n",
       "      <td>ANG MO KIO AVE 5</td>\n",
       "      <td>265000</td>\n",
       "      <td>2017-01</td>\n",
       "      <td>62 years 05 months</td>\n",
       "      <td>1980</td>\n",
       "      <td>01 TO 03</td>\n",
       "      <td>5</td>\n",
       "      <td>601</td>\n",
       "    </tr>\n",
       "    <tr>\n",
       "      <td>...</td>\n",
       "      <td>...</td>\n",
       "      <td>...</td>\n",
       "      <td>...</td>\n",
       "      <td>...</td>\n",
       "      <td>...</td>\n",
       "      <td>...</td>\n",
       "      <td>...</td>\n",
       "      <td>...</td>\n",
       "      <td>...</td>\n",
       "      <td>...</td>\n",
       "      <td>...</td>\n",
       "      <td>...</td>\n",
       "    </tr>\n",
       "    <tr>\n",
       "      <td>64583</td>\n",
       "      <td>YISHUN</td>\n",
       "      <td>EXECUTIVE</td>\n",
       "      <td>Apartment</td>\n",
       "      <td>142</td>\n",
       "      <td>YISHUN RING RD</td>\n",
       "      <td>580000</td>\n",
       "      <td>2019-12</td>\n",
       "      <td>67 years 07 months</td>\n",
       "      <td>1988</td>\n",
       "      <td>04 TO 06</td>\n",
       "      <td>64584</td>\n",
       "      <td>326</td>\n",
       "    </tr>\n",
       "    <tr>\n",
       "      <td>64584</td>\n",
       "      <td>YISHUN</td>\n",
       "      <td>EXECUTIVE</td>\n",
       "      <td>Maisonette</td>\n",
       "      <td>146</td>\n",
       "      <td>YISHUN RING RD</td>\n",
       "      <td>565000</td>\n",
       "      <td>2019-12</td>\n",
       "      <td>67 years 07 months</td>\n",
       "      <td>1988</td>\n",
       "      <td>07 TO 09</td>\n",
       "      <td>64585</td>\n",
       "      <td>326</td>\n",
       "    </tr>\n",
       "    <tr>\n",
       "      <td>64585</td>\n",
       "      <td>YISHUN</td>\n",
       "      <td>EXECUTIVE</td>\n",
       "      <td>Apartment</td>\n",
       "      <td>164</td>\n",
       "      <td>YISHUN ST 61</td>\n",
       "      <td>633000</td>\n",
       "      <td>2019-12</td>\n",
       "      <td>71 years 06 months</td>\n",
       "      <td>1992</td>\n",
       "      <td>01 TO 03</td>\n",
       "      <td>64586</td>\n",
       "      <td>608</td>\n",
       "    </tr>\n",
       "    <tr>\n",
       "      <td>64586</td>\n",
       "      <td>YISHUN</td>\n",
       "      <td>EXECUTIVE</td>\n",
       "      <td>Apartment</td>\n",
       "      <td>164</td>\n",
       "      <td>YISHUN ST 61</td>\n",
       "      <td>788888</td>\n",
       "      <td>2019-12</td>\n",
       "      <td>71 years 06 months</td>\n",
       "      <td>1992</td>\n",
       "      <td>10 TO 12</td>\n",
       "      <td>64587</td>\n",
       "      <td>604</td>\n",
       "    </tr>\n",
       "    <tr>\n",
       "      <td>64587</td>\n",
       "      <td>YISHUN</td>\n",
       "      <td>EXECUTIVE</td>\n",
       "      <td>Maisonette</td>\n",
       "      <td>145</td>\n",
       "      <td>YISHUN ST 81</td>\n",
       "      <td>618000</td>\n",
       "      <td>2019-12</td>\n",
       "      <td>67 years 01 month</td>\n",
       "      <td>1987</td>\n",
       "      <td>07 TO 09</td>\n",
       "      <td>64588</td>\n",
       "      <td>877</td>\n",
       "    </tr>\n",
       "  </tbody>\n",
       "</table>\n",
       "<p>193764 rows × 12 columns</p>\n",
       "</div>"
      ],
      "text/plain": [
       "             town  flat_type      flat_model floor_area_sqm  \\\n",
       "0      ANG MO KIO     2 ROOM        Improved             44   \n",
       "1      ANG MO KIO     3 ROOM  New Generation             67   \n",
       "2      ANG MO KIO     3 ROOM  New Generation             67   \n",
       "3      ANG MO KIO     3 ROOM  New Generation             68   \n",
       "4      ANG MO KIO     3 ROOM  New Generation             67   \n",
       "...           ...        ...             ...            ...   \n",
       "64583      YISHUN  EXECUTIVE       Apartment            142   \n",
       "64584      YISHUN  EXECUTIVE      Maisonette            146   \n",
       "64585      YISHUN  EXECUTIVE       Apartment            164   \n",
       "64586      YISHUN  EXECUTIVE       Apartment            164   \n",
       "64587      YISHUN  EXECUTIVE      Maisonette            145   \n",
       "\n",
       "             street_name resale_price    month     remaining_lease  \\\n",
       "0      ANG MO KIO AVE 10       232000  2017-01  61 years 04 months   \n",
       "1       ANG MO KIO AVE 4       250000  2017-01  60 years 07 months   \n",
       "2       ANG MO KIO AVE 5       262000  2017-01  62 years 05 months   \n",
       "3      ANG MO KIO AVE 10       265000  2017-01   62 years 01 month   \n",
       "4       ANG MO KIO AVE 5       265000  2017-01  62 years 05 months   \n",
       "...                  ...          ...      ...                 ...   \n",
       "64583     YISHUN RING RD       580000  2019-12  67 years 07 months   \n",
       "64584     YISHUN RING RD       565000  2019-12  67 years 07 months   \n",
       "64585       YISHUN ST 61       633000  2019-12  71 years 06 months   \n",
       "64586       YISHUN ST 61       788888  2019-12  71 years 06 months   \n",
       "64587       YISHUN ST 81       618000  2019-12   67 years 01 month   \n",
       "\n",
       "      lease_commence_date storey_range    _id block  \n",
       "0                    1979     10 TO 12      1   406  \n",
       "1                    1978     01 TO 03      2   108  \n",
       "2                    1980     01 TO 03      3   602  \n",
       "3                    1980     04 TO 06      4   465  \n",
       "4                    1980     01 TO 03      5   601  \n",
       "...                   ...          ...    ...   ...  \n",
       "64583                1988     04 TO 06  64584   326  \n",
       "64584                1988     07 TO 09  64585   326  \n",
       "64585                1992     01 TO 03  64586   608  \n",
       "64586                1992     10 TO 12  64587   604  \n",
       "64587                1987     07 TO 09  64588   877  \n",
       "\n",
       "[193764 rows x 12 columns]"
      ]
     },
     "execution_count": 4,
     "metadata": {},
     "output_type": "execute_result"
    }
   ],
   "source": [
    "flats"
   ]
  },
  {
   "cell_type": "code",
   "execution_count": 5,
   "metadata": {},
   "outputs": [],
   "source": [
    "#running the api to get data of resale flats for 2015 to 2016\n",
    "\n",
    "payload = \"------WebKitFormBoundary7MA4YWxkTrZu0gW\\r\\nContent-Disposition: form-data; name=\\\"searchVal\\\"\\r\\n\\r\\n\\r\\n------WebKitFormBoundary7MA4YWxkTrZu0gW\\r\\nContent-Disposition: form-data; name=\\\"returnGeom {Y/N}\\\"\\r\\n\\r\\n\\r\\n------WebKitFormBoundary7MA4YWxkTrZu0gW\\r\\nContent-Disposition: form-data; name=\\\"getAddrDetails {Y/N}\\\"\\r\\n\\r\\n\\r\\n------WebKitFormBoundary7MA4YWxkTrZu0gW\\r\\nContent-Disposition: form-data; name=\\\"pageNum\\\"\\r\\n\\r\\n\\r\\n------WebKitFormBoundary7MA4YWxkTrZu0gW--\"\n",
    "headers = {\n",
    "'content-type': \"multipart/form-data; boundary=----WebKitFormBoundary7MA4YWxkTrZu0gW\",\n",
    "'Cache-Control': \"no-cache\",\n",
    "'Postman-Token': \"5f4af03e-410e-4b28-93bc-05006b4de49a\"\n",
    " }\n",
    "url = 'https://data.gov.sg/api/action/datastore_search?resource_id=1b702208-44bf-4829-b620-4615ee19b57c&limit=100000'\n",
    "   \n",
    "response = requests.request(\"GET\", url, data=payload, headers=headers)\n",
    "x= response.json()"
   ]
  },
  {
   "cell_type": "code",
   "execution_count": 6,
   "metadata": {},
   "outputs": [],
   "source": [
    "#adding the data for 2015 and 2016 into the existing df\n",
    "for entry in range(len(x)):\n",
    "    temp_df = pd.DataFrame.from_dict(x['result']['records'])\n",
    "    flats=flats.append(temp_df)"
   ]
  },
  {
   "cell_type": "code",
   "execution_count": 7,
   "metadata": {},
   "outputs": [
    {
     "data": {
      "text/plain": [
       "(305223, 12)"
      ]
     },
     "execution_count": 7,
     "metadata": {},
     "output_type": "execute_result"
    }
   ],
   "source": [
    "flats.shape"
   ]
  },
  {
   "cell_type": "code",
   "execution_count": 8,
   "metadata": {},
   "outputs": [
    {
     "data": {
      "text/html": [
       "<div>\n",
       "<style scoped>\n",
       "    .dataframe tbody tr th:only-of-type {\n",
       "        vertical-align: middle;\n",
       "    }\n",
       "\n",
       "    .dataframe tbody tr th {\n",
       "        vertical-align: top;\n",
       "    }\n",
       "\n",
       "    .dataframe thead th {\n",
       "        text-align: right;\n",
       "    }\n",
       "</style>\n",
       "<table border=\"1\" class=\"dataframe\">\n",
       "  <thead>\n",
       "    <tr style=\"text-align: right;\">\n",
       "      <th></th>\n",
       "      <th>town</th>\n",
       "      <th>flat_type</th>\n",
       "      <th>flat_model</th>\n",
       "      <th>floor_area_sqm</th>\n",
       "      <th>street_name</th>\n",
       "      <th>resale_price</th>\n",
       "      <th>month</th>\n",
       "      <th>remaining_lease</th>\n",
       "      <th>lease_commence_date</th>\n",
       "      <th>storey_range</th>\n",
       "      <th>_id</th>\n",
       "      <th>block</th>\n",
       "    </tr>\n",
       "  </thead>\n",
       "  <tbody>\n",
       "    <tr>\n",
       "      <td>0</td>\n",
       "      <td>ANG MO KIO</td>\n",
       "      <td>2 ROOM</td>\n",
       "      <td>Improved</td>\n",
       "      <td>44</td>\n",
       "      <td>ANG MO KIO AVE 10</td>\n",
       "      <td>232000</td>\n",
       "      <td>2017-01</td>\n",
       "      <td>61 years 04 months</td>\n",
       "      <td>1979</td>\n",
       "      <td>10 TO 12</td>\n",
       "      <td>1</td>\n",
       "      <td>406</td>\n",
       "    </tr>\n",
       "    <tr>\n",
       "      <td>1</td>\n",
       "      <td>ANG MO KIO</td>\n",
       "      <td>3 ROOM</td>\n",
       "      <td>New Generation</td>\n",
       "      <td>67</td>\n",
       "      <td>ANG MO KIO AVE 4</td>\n",
       "      <td>250000</td>\n",
       "      <td>2017-01</td>\n",
       "      <td>60 years 07 months</td>\n",
       "      <td>1978</td>\n",
       "      <td>01 TO 03</td>\n",
       "      <td>2</td>\n",
       "      <td>108</td>\n",
       "    </tr>\n",
       "    <tr>\n",
       "      <td>2</td>\n",
       "      <td>ANG MO KIO</td>\n",
       "      <td>3 ROOM</td>\n",
       "      <td>New Generation</td>\n",
       "      <td>67</td>\n",
       "      <td>ANG MO KIO AVE 5</td>\n",
       "      <td>262000</td>\n",
       "      <td>2017-01</td>\n",
       "      <td>62 years 05 months</td>\n",
       "      <td>1980</td>\n",
       "      <td>01 TO 03</td>\n",
       "      <td>3</td>\n",
       "      <td>602</td>\n",
       "    </tr>\n",
       "    <tr>\n",
       "      <td>3</td>\n",
       "      <td>ANG MO KIO</td>\n",
       "      <td>3 ROOM</td>\n",
       "      <td>New Generation</td>\n",
       "      <td>68</td>\n",
       "      <td>ANG MO KIO AVE 10</td>\n",
       "      <td>265000</td>\n",
       "      <td>2017-01</td>\n",
       "      <td>62 years 01 month</td>\n",
       "      <td>1980</td>\n",
       "      <td>04 TO 06</td>\n",
       "      <td>4</td>\n",
       "      <td>465</td>\n",
       "    </tr>\n",
       "    <tr>\n",
       "      <td>4</td>\n",
       "      <td>ANG MO KIO</td>\n",
       "      <td>3 ROOM</td>\n",
       "      <td>New Generation</td>\n",
       "      <td>67</td>\n",
       "      <td>ANG MO KIO AVE 5</td>\n",
       "      <td>265000</td>\n",
       "      <td>2017-01</td>\n",
       "      <td>62 years 05 months</td>\n",
       "      <td>1980</td>\n",
       "      <td>01 TO 03</td>\n",
       "      <td>5</td>\n",
       "      <td>601</td>\n",
       "    </tr>\n",
       "  </tbody>\n",
       "</table>\n",
       "</div>"
      ],
      "text/plain": [
       "         town flat_type      flat_model floor_area_sqm        street_name  \\\n",
       "0  ANG MO KIO    2 ROOM        Improved             44  ANG MO KIO AVE 10   \n",
       "1  ANG MO KIO    3 ROOM  New Generation             67   ANG MO KIO AVE 4   \n",
       "2  ANG MO KIO    3 ROOM  New Generation             67   ANG MO KIO AVE 5   \n",
       "3  ANG MO KIO    3 ROOM  New Generation             68  ANG MO KIO AVE 10   \n",
       "4  ANG MO KIO    3 ROOM  New Generation             67   ANG MO KIO AVE 5   \n",
       "\n",
       "  resale_price    month     remaining_lease lease_commence_date storey_range  \\\n",
       "0       232000  2017-01  61 years 04 months                1979     10 TO 12   \n",
       "1       250000  2017-01  60 years 07 months                1978     01 TO 03   \n",
       "2       262000  2017-01  62 years 05 months                1980     01 TO 03   \n",
       "3       265000  2017-01   62 years 01 month                1980     04 TO 06   \n",
       "4       265000  2017-01  62 years 05 months                1980     01 TO 03   \n",
       "\n",
       "   _id block  \n",
       "0    1   406  \n",
       "1    2   108  \n",
       "2    3   602  \n",
       "3    4   465  \n",
       "4    5   601  "
      ]
     },
     "execution_count": 8,
     "metadata": {},
     "output_type": "execute_result"
    }
   ],
   "source": [
    "flats.head()"
   ]
  },
  {
   "cell_type": "code",
   "execution_count": 9,
   "metadata": {},
   "outputs": [
    {
     "data": {
      "text/plain": [
       "town                   0\n",
       "flat_type              0\n",
       "flat_model             0\n",
       "floor_area_sqm         0\n",
       "street_name            0\n",
       "resale_price           0\n",
       "month                  0\n",
       "remaining_lease        0\n",
       "lease_commence_date    0\n",
       "storey_range           0\n",
       "_id                    0\n",
       "block                  0\n",
       "dtype: int64"
      ]
     },
     "execution_count": 9,
     "metadata": {},
     "output_type": "execute_result"
    }
   ],
   "source": [
    "flats.isnull().sum() #check for missing values"
   ]
  },
  {
   "cell_type": "code",
   "execution_count": 10,
   "metadata": {},
   "outputs": [],
   "source": [
    "flats = flats.drop(['_id'],axis =1)"
   ]
  },
  {
   "cell_type": "code",
   "execution_count": 11,
   "metadata": {},
   "outputs": [],
   "source": [
    "flats['year']= pd.DatetimeIndex(flats['month']).year"
   ]
  },
  {
   "cell_type": "code",
   "execution_count": 12,
   "metadata": {},
   "outputs": [
    {
     "data": {
      "text/plain": [
       "town                   object\n",
       "flat_type              object\n",
       "flat_model             object\n",
       "floor_area_sqm         object\n",
       "street_name            object\n",
       "resale_price           object\n",
       "month                  object\n",
       "remaining_lease        object\n",
       "lease_commence_date    object\n",
       "storey_range           object\n",
       "block                  object\n",
       "year                    int64\n",
       "dtype: object"
      ]
     },
     "execution_count": 12,
     "metadata": {},
     "output_type": "execute_result"
    }
   ],
   "source": [
    "flats.dtypes"
   ]
  },
  {
   "cell_type": "code",
   "execution_count": 13,
   "metadata": {},
   "outputs": [],
   "source": [
    "#limiting data from 2016 to 2019 \n",
    "\n",
    "flats = flats[flats['year']>2015]"
   ]
  },
  {
   "cell_type": "code",
   "execution_count": 14,
   "metadata": {},
   "outputs": [],
   "source": [
    "flats['floor_area_sqm']=flats['floor_area_sqm'].astype('float')\n",
    "flats['resale_price'] = flats['resale_price'].astype('float')\n",
    "\n",
    "flats['lease_commence_date']= flats['lease_commence_date'].astype('int')\n",
    "flats['year']= flats['year'].astype('int')"
   ]
  },
  {
   "cell_type": "code",
   "execution_count": 15,
   "metadata": {},
   "outputs": [],
   "source": [
    "flats['remaining_lease']= 99- (flats['year']-flats['lease_commence_date'])"
   ]
  },
  {
   "cell_type": "code",
   "execution_count": 16,
   "metadata": {},
   "outputs": [
    {
     "data": {
      "text/plain": [
       "town                    object\n",
       "flat_type               object\n",
       "flat_model              object\n",
       "floor_area_sqm         float64\n",
       "street_name             object\n",
       "resale_price           float64\n",
       "month                   object\n",
       "remaining_lease          int32\n",
       "lease_commence_date      int32\n",
       "storey_range            object\n",
       "block                   object\n",
       "year                     int32\n",
       "dtype: object"
      ]
     },
     "execution_count": 16,
     "metadata": {},
     "output_type": "execute_result"
    }
   ],
   "source": [
    "flats.dtypes"
   ]
  },
  {
   "cell_type": "code",
   "execution_count": 17,
   "metadata": {},
   "outputs": [
    {
     "data": {
      "text/html": [
       "<div>\n",
       "<style scoped>\n",
       "    .dataframe tbody tr th:only-of-type {\n",
       "        vertical-align: middle;\n",
       "    }\n",
       "\n",
       "    .dataframe tbody tr th {\n",
       "        vertical-align: top;\n",
       "    }\n",
       "\n",
       "    .dataframe thead th {\n",
       "        text-align: right;\n",
       "    }\n",
       "</style>\n",
       "<table border=\"1\" class=\"dataframe\">\n",
       "  <thead>\n",
       "    <tr style=\"text-align: right;\">\n",
       "      <th></th>\n",
       "      <th>town</th>\n",
       "      <th>flat_type</th>\n",
       "      <th>flat_model</th>\n",
       "      <th>floor_area_sqm</th>\n",
       "      <th>street_name</th>\n",
       "      <th>resale_price</th>\n",
       "      <th>month</th>\n",
       "      <th>remaining_lease</th>\n",
       "      <th>lease_commence_date</th>\n",
       "      <th>storey_range</th>\n",
       "      <th>block</th>\n",
       "      <th>year</th>\n",
       "    </tr>\n",
       "  </thead>\n",
       "  <tbody>\n",
       "    <tr>\n",
       "      <td>0</td>\n",
       "      <td>ANG MO KIO</td>\n",
       "      <td>2 ROOM</td>\n",
       "      <td>Improved</td>\n",
       "      <td>44.0</td>\n",
       "      <td>ANG MO KIO AVE 10</td>\n",
       "      <td>232000.0</td>\n",
       "      <td>2017-01</td>\n",
       "      <td>61</td>\n",
       "      <td>1979</td>\n",
       "      <td>10 TO 12</td>\n",
       "      <td>406</td>\n",
       "      <td>2017</td>\n",
       "    </tr>\n",
       "    <tr>\n",
       "      <td>1</td>\n",
       "      <td>ANG MO KIO</td>\n",
       "      <td>3 ROOM</td>\n",
       "      <td>New Generation</td>\n",
       "      <td>67.0</td>\n",
       "      <td>ANG MO KIO AVE 4</td>\n",
       "      <td>250000.0</td>\n",
       "      <td>2017-01</td>\n",
       "      <td>60</td>\n",
       "      <td>1978</td>\n",
       "      <td>01 TO 03</td>\n",
       "      <td>108</td>\n",
       "      <td>2017</td>\n",
       "    </tr>\n",
       "    <tr>\n",
       "      <td>2</td>\n",
       "      <td>ANG MO KIO</td>\n",
       "      <td>3 ROOM</td>\n",
       "      <td>New Generation</td>\n",
       "      <td>67.0</td>\n",
       "      <td>ANG MO KIO AVE 5</td>\n",
       "      <td>262000.0</td>\n",
       "      <td>2017-01</td>\n",
       "      <td>62</td>\n",
       "      <td>1980</td>\n",
       "      <td>01 TO 03</td>\n",
       "      <td>602</td>\n",
       "      <td>2017</td>\n",
       "    </tr>\n",
       "    <tr>\n",
       "      <td>3</td>\n",
       "      <td>ANG MO KIO</td>\n",
       "      <td>3 ROOM</td>\n",
       "      <td>New Generation</td>\n",
       "      <td>68.0</td>\n",
       "      <td>ANG MO KIO AVE 10</td>\n",
       "      <td>265000.0</td>\n",
       "      <td>2017-01</td>\n",
       "      <td>62</td>\n",
       "      <td>1980</td>\n",
       "      <td>04 TO 06</td>\n",
       "      <td>465</td>\n",
       "      <td>2017</td>\n",
       "    </tr>\n",
       "    <tr>\n",
       "      <td>4</td>\n",
       "      <td>ANG MO KIO</td>\n",
       "      <td>3 ROOM</td>\n",
       "      <td>New Generation</td>\n",
       "      <td>67.0</td>\n",
       "      <td>ANG MO KIO AVE 5</td>\n",
       "      <td>265000.0</td>\n",
       "      <td>2017-01</td>\n",
       "      <td>62</td>\n",
       "      <td>1980</td>\n",
       "      <td>01 TO 03</td>\n",
       "      <td>601</td>\n",
       "      <td>2017</td>\n",
       "    </tr>\n",
       "  </tbody>\n",
       "</table>\n",
       "</div>"
      ],
      "text/plain": [
       "         town flat_type      flat_model  floor_area_sqm        street_name  \\\n",
       "0  ANG MO KIO    2 ROOM        Improved            44.0  ANG MO KIO AVE 10   \n",
       "1  ANG MO KIO    3 ROOM  New Generation            67.0   ANG MO KIO AVE 4   \n",
       "2  ANG MO KIO    3 ROOM  New Generation            67.0   ANG MO KIO AVE 5   \n",
       "3  ANG MO KIO    3 ROOM  New Generation            68.0  ANG MO KIO AVE 10   \n",
       "4  ANG MO KIO    3 ROOM  New Generation            67.0   ANG MO KIO AVE 5   \n",
       "\n",
       "   resale_price    month  remaining_lease  lease_commence_date storey_range  \\\n",
       "0      232000.0  2017-01               61                 1979     10 TO 12   \n",
       "1      250000.0  2017-01               60                 1978     01 TO 03   \n",
       "2      262000.0  2017-01               62                 1980     01 TO 03   \n",
       "3      265000.0  2017-01               62                 1980     04 TO 06   \n",
       "4      265000.0  2017-01               62                 1980     01 TO 03   \n",
       "\n",
       "  block  year  \n",
       "0   406  2017  \n",
       "1   108  2017  \n",
       "2   602  2017  \n",
       "3   465  2017  \n",
       "4   601  2017  "
      ]
     },
     "execution_count": 17,
     "metadata": {},
     "output_type": "execute_result"
    }
   ],
   "source": [
    "flats.head()"
   ]
  },
  {
   "cell_type": "code",
   "execution_count": 18,
   "metadata": {},
   "outputs": [],
   "source": [
    "# psf stands for per square foot which is the price per square foot of house area. This helps to mitigate the impact of size differentials. \n",
    "flats['psf'] = flats['resale_price'] % flats['floor_area_sqm']"
   ]
  },
  {
   "cell_type": "code",
   "execution_count": 19,
   "metadata": {},
   "outputs": [
    {
     "data": {
      "text/plain": [
       "<matplotlib.axes._subplots.AxesSubplot at 0x1890b8659c8>"
      ]
     },
     "execution_count": 19,
     "metadata": {},
     "output_type": "execute_result"
    },
    {
     "data": {
      "image/png": "[encoded data removed]",
      "text/plain": [
       "<Figure size 432x288 with 1 Axes>"
      ]
     },
     "metadata": {
      "needs_background": "light"
     },
     "output_type": "display_data"
    }
   ],
   "source": [
    "#4room flats are most commonly sold\n",
    "flats['flat_type'].value_counts().plot(kind='bar')"
   ]
  },
  {
   "cell_type": "code",
   "execution_count": 20,
   "metadata": {},
   "outputs": [
    {
     "data": {
      "text/plain": [
       "<matplotlib.axes._subplots.AxesSubplot at 0x1890d0ec848>"
      ]
     },
     "execution_count": 20,
     "metadata": {},
     "output_type": "execute_result"
    },
    {
     "data": {
      "image/png": "[encoded data removed]",
      "text/plain": [
       "<Figure size 432x288 with 1 Axes>"
      ]
     },
     "metadata": {
      "needs_background": "light"
     },
     "output_type": "display_data"
    }
   ],
   "source": [
    "#there was a hige drop in prices around mid 2018\n",
    "flats_Year = flats.groupby(['month'],as_index=True).median()[['resale_price']]\n",
    "flats_Year.plot(kind='line')"
   ]
  },
  {
   "cell_type": "code",
   "execution_count": 21,
   "metadata": {},
   "outputs": [
    {
     "data": {
      "text/plain": [
       "<matplotlib.axes._subplots.AxesSubplot at 0x1890e0dc908>"
      ]
     },
     "execution_count": 21,
     "metadata": {},
     "output_type": "execute_result"
    },
    {
     "data": {
      "image/png": "[encoded data removed]",
      "text/plain": [
       "<Figure size 432x288 with 1 Axes>"
      ]
     },
     "metadata": {
      "needs_background": "light"
     },
     "output_type": "display_data"
    }
   ],
   "source": [
    "#housing prices decrease steadily with decreasing leases.\n",
    "\n",
    "flats_rem_lease = flats.groupby(['remaining_lease'],as_index=True).median()[['resale_price']]\n",
    "flats_rem_lease.plot(kind='line')"
   ]
  },
  {
   "cell_type": "code",
   "execution_count": 22,
   "metadata": {},
   "outputs": [
    {
     "data": {
      "text/plain": [
       "<matplotlib.axes._subplots.AxesSubplot at 0x1890ec171c8>"
      ]
     },
     "execution_count": 22,
     "metadata": {},
     "output_type": "execute_result"
    },
    {
     "data": {
      "image/png": "[encoded data removed]",
      "text/plain": [
       "<Figure size 432x288 with 1 Axes>"
      ]
     },
     "metadata": {
      "needs_background": "light"
     },
     "output_type": "display_data"
    }
   ],
   "source": [
    "#larger flats sell for a higher price. this is intuitive\n",
    "flats_type = flats.groupby(['flat_type'],as_index=True).median()[['resale_price']]\n",
    "flats_type.plot(kind='bar')"
   ]
  },
  {
   "cell_type": "code",
   "execution_count": 23,
   "metadata": {},
   "outputs": [
    {
     "data": {
      "text/plain": [
       "<matplotlib.axes._subplots.AxesSubplot at 0x18914073088>"
      ]
     },
     "execution_count": 23,
     "metadata": {},
     "output_type": "execute_result"
    },
    {
     "data": {
      "image/png": "[encoded data removed]",
      "text/plain": [
       "<Figure size 432x288 with 1 Axes>"
      ]
     },
     "metadata": {
      "needs_background": "light"
     },
     "output_type": "display_data"
    }
   ],
   "source": [
    "#flats on higher floors sell for a higher price.\n",
    "flats_type = flats.groupby(['storey_range'],as_index=True).median()[['resale_price']]\n",
    "flats_type.plot(kind='bar')"
   ]
  },
  {
   "cell_type": "code",
   "execution_count": 24,
   "metadata": {},
   "outputs": [
    {
     "data": {
      "text/plain": [
       "<matplotlib.axes._subplots.AxesSubplot at 0x1890a12e608>"
      ]
     },
     "execution_count": 24,
     "metadata": {},
     "output_type": "execute_result"
    },
    {
     "data": {
      "image/png": "[encoded data removed]",
      "text/plain": [
       "<Figure size 432x288 with 1 Axes>"
      ]
     },
     "metadata": {
      "needs_background": "light"
     },
     "output_type": "display_data"
    }
   ],
   "source": [
    "#areas closer to the city sell for higher prices\n",
    "flats_type = flats.groupby(['town'],as_index=True).median()[['resale_price']]\n",
    "flats_type.plot(kind='bar')"
   ]
  },
  {
   "cell_type": "code",
   "execution_count": 25,
   "metadata": {},
   "outputs": [],
   "source": [
    "four_rm = flats[flats['flat_type']== '4 ROOM' ]"
   ]
  },
  {
   "cell_type": "code",
   "execution_count": 26,
   "metadata": {},
   "outputs": [
    {
     "data": {
      "text/plain": [
       "<matplotlib.axes._subplots.AxesSubplot at 0x1890a1be788>"
      ]
     },
     "execution_count": 26,
     "metadata": {},
     "output_type": "execute_result"
    },
    {
     "data": {
      "image/png": "[encoded data removed]",
      "text/plain": [
       "<Figure size 432x288 with 1 Axes>"
      ]
     },
     "metadata": {
      "needs_background": "light"
     },
     "output_type": "display_data"
    }
   ],
   "source": [
    "#four room flats were also affected by the same price drop in mid 2018\n",
    "four_rm_Year = four_rm.groupby(['month'],as_index=True).mean()[['resale_price']]\n",
    "four_rm_Year.plot(kind='line')"
   ]
  },
  {
   "cell_type": "code",
   "execution_count": 27,
   "metadata": {},
   "outputs": [
    {
     "data": {
      "text/plain": [
       "<matplotlib.axes._subplots.AxesSubplot at 0x1890a5af348>"
      ]
     },
     "execution_count": 27,
     "metadata": {},
     "output_type": "execute_result"
    },
    {
     "data": {
      "image/png": "[encoded data removed]",
      "text/plain": [
       "<Figure size 432x288 with 1 Axes>"
      ]
     },
     "metadata": {
      "needs_background": "light"
     },
     "output_type": "display_data"
    }
   ],
   "source": [
    "four_rm_rem_lease = four_rm.groupby(['remaining_lease'],as_index=True).mean()[['resale_price']]\n",
    "four_rm_rem_lease.plot(kind='line')"
   ]
  },
  {
   "cell_type": "code",
   "execution_count": 28,
   "metadata": {},
   "outputs": [
    {
     "data": {
      "text/plain": [
       "<matplotlib.axes._subplots.AxesSubplot at 0x1890a5a34c8>"
      ]
     },
     "execution_count": 28,
     "metadata": {},
     "output_type": "execute_result"
    },
    {
     "data": {
      "image/png": "[encoded data removed]",
      "text/plain": [
       "<Figure size 432x288 with 1 Axes>"
      ]
     },
     "metadata": {
      "needs_background": "light"
     },
     "output_type": "display_data"
    }
   ],
   "source": [
    "four_rm_town = four_rm.groupby(['town'],as_index=True).mean()[['resale_price']]\n",
    "four_rm_town.plot(kind='bar')"
   ]
  },
  {
   "cell_type": "code",
   "execution_count": 29,
   "metadata": {},
   "outputs": [
    {
     "data": {
      "text/plain": [
       "<matplotlib.axes._subplots.AxesSubplot at 0x1890b671dc8>"
      ]
     },
     "execution_count": 29,
     "metadata": {},
     "output_type": "execute_result"
    },
    {
     "data": {
      "image/png": "[encoded data removed]",
      "text/plain": [
       "<Figure size 432x288 with 1 Axes>"
      ]
     },
     "metadata": {
      "needs_background": "light"
     },
     "output_type": "display_data"
    }
   ],
   "source": [
    "four_rm_storey = four_rm.groupby(['storey_range'],as_index=True).mean()[['resale_price']]\n",
    "four_rm_storey.plot(kind='bar')"
   ]
  },
  {
   "cell_type": "code",
   "execution_count": 30,
   "metadata": {},
   "outputs": [
    {
     "data": {
      "text/plain": [
       "<matplotlib.axes._subplots.AxesSubplot at 0x1890b6edcc8>"
      ]
     },
     "execution_count": 30,
     "metadata": {},
     "output_type": "execute_result"
    },
    {
     "data": {
      "image/png": "[encoded data removed]",
      "text/plain": [
       "<Figure size 432x288 with 1 Axes>"
      ]
     },
     "metadata": {
      "needs_background": "light"
     },
     "output_type": "display_data"
    }
   ],
   "source": [
    "four_rm_storey = four_rm.groupby(['floor_area_sqm'],as_index=True).mean()[['resale_price']]\n",
    "four_rm_storey.plot(kind='line')"
   ]
  },
  {
   "cell_type": "code",
   "execution_count": 31,
   "metadata": {},
   "outputs": [
    {
     "data": {
      "text/plain": [
       "<matplotlib.axes._subplots.AxesSubplot at 0x1890b7362c8>"
      ]
     },
     "execution_count": 31,
     "metadata": {},
     "output_type": "execute_result"
    },
    {
     "data": {
      "image/png": "[encoded data removed]",
      "text/plain": [
       "<Figure size 432x288 with 1 Axes>"
      ]
     },
     "metadata": {
      "needs_background": "light"
     },
     "output_type": "display_data"
    }
   ],
   "source": [
    "four_rm_px = four_rm.groupby(['psf'],as_index=True).mean()[['resale_price']]\n",
    "four_rm_px.plot(kind='line')"
   ]
  },
  {
   "cell_type": "code",
   "execution_count": 32,
   "metadata": {},
   "outputs": [
    {
     "data": {
      "text/plain": [
       "<matplotlib.axes._subplots.AxesSubplot at 0x1890b779708>"
      ]
     },
     "execution_count": 32,
     "metadata": {},
     "output_type": "execute_result"
    },
    {
     "data": {
      "image/png": "[encoded data removed]",
      "text/plain": [
       "<Figure size 432x288 with 1 Axes>"
      ]
     },
     "metadata": {
      "needs_background": "light"
     },
     "output_type": "display_data"
    }
   ],
   "source": [
    "four_rm_town = four_rm.groupby(['town'],as_index=True).mean()[['psf']]\n",
    "four_rm_town.plot(kind='bar')"
   ]
  },
  {
   "cell_type": "code",
   "execution_count": 33,
   "metadata": {},
   "outputs": [
    {
     "data": {
      "text/plain": [
       "<matplotlib.axes._subplots.AxesSubplot at 0x1890c3c8348>"
      ]
     },
     "execution_count": 33,
     "metadata": {},
     "output_type": "execute_result"
    },
    {
     "data": {
      "image/png": "[encoded data removed]",
      "text/plain": [
       "<Figure size 432x288 with 1 Axes>"
      ]
     },
     "metadata": {
      "needs_background": "light"
     },
     "output_type": "display_data"
    }
   ],
   "source": [
    "four_rm_Year = four_rm.groupby(['month'],as_index=True).mean()[['psf']]\n",
    "four_rm_Year.plot(kind='line')"
   ]
  },
  {
   "cell_type": "code",
   "execution_count": 34,
   "metadata": {},
   "outputs": [
    {
     "data": {
      "text/plain": [
       "<matplotlib.axes._subplots.AxesSubplot at 0x18911c500c8>"
      ]
     },
     "execution_count": 34,
     "metadata": {},
     "output_type": "execute_result"
    },
    {
     "data": {
      "image/png": "[encoded data removed]",
      "text/plain": [
       "<Figure size 432x288 with 1 Axes>"
      ]
     },
     "metadata": {
      "needs_background": "light"
     },
     "output_type": "display_data"
    }
   ],
   "source": [
    "#clear drop in psf and an especially sharp drop around the 50 year remaining lease mark\n",
    "\n",
    "four_rm_rem_lease = four_rm.groupby(['remaining_lease'],as_index=True).mean()[['psf']]\n",
    "four_rm_rem_lease.plot(kind='line')"
   ]
  },
  {
   "cell_type": "code",
   "execution_count": 35,
   "metadata": {},
   "outputs": [
    {
     "name": "stderr",
     "output_type": "stream",
     "text": [
      "C:\\Users\\Natasha\\Anaconda3\\lib\\site-packages\\ipykernel_launcher.py:3: SettingWithCopyWarning: \n",
      "A value is trying to be set on a copy of a slice from a DataFrame.\n",
      "Try using .loc[row_indexer,col_indexer] = value instead\n",
      "\n",
      "See the caveats in the documentation: http://pandas.pydata.org/pandas-docs/stable/user_guide/indexing.html#returning-a-view-versus-a-copy\n",
      "  This is separate from the ipykernel package so we can avoid doing imports until\n"
     ]
    }
   ],
   "source": [
    "#creating a full street name to be able to obtain geolocation information from\n",
    "new = four_rm['street_name'].copy()\n",
    "four_rm['full_address'] = four_rm['block'].str.cat(new, sep=\" \")\n",
    "                                 "
   ]
  },
  {
   "cell_type": "code",
   "execution_count": 36,
   "metadata": {},
   "outputs": [
    {
     "data": {
      "text/plain": [
       "33       472 ANG MO KIO AVE 10\n",
       "34       475 ANG MO KIO AVE 10\n",
       "35        629 ANG MO KIO AVE 4\n",
       "36       546 ANG MO KIO AVE 10\n",
       "37        131 ANG MO KIO AVE 3\n",
       "                 ...          \n",
       "37136         727 YISHUN ST 71\n",
       "37137         738 YISHUN ST 72\n",
       "37138         738 YISHUN ST 72\n",
       "37139         844 YISHUN ST 81\n",
       "37140         868 YISHUN ST 81\n",
       "Name: full_address, Length: 104367, dtype: object"
      ]
     },
     "execution_count": 36,
     "metadata": {},
     "output_type": "execute_result"
    }
   ],
   "source": [
    "four_rm['full_address'] #checking that the address is coming in correctly"
   ]
  },
  {
   "cell_type": "code",
   "execution_count": 37,
   "metadata": {},
   "outputs": [],
   "source": [
    "home_address = four_rm['full_address'].unique().tolist()"
   ]
  },
  {
   "cell_type": "code",
   "execution_count": 38,
   "metadata": {},
   "outputs": [
    {
     "data": {
      "text/plain": [
       "['475 ANG MO KIO AVE 10',\n",
       " '629 ANG MO KIO AVE 4',\n",
       " '546 ANG MO KIO AVE 10',\n",
       " '131 ANG MO KIO AVE 3',\n",
       " '254 ANG MO KIO AVE 4',\n",
       " '470 ANG MO KIO AVE 10',\n",
       " '601 ANG MO KIO AVE 5',\n",
       " '463 ANG MO KIO AVE 10',\n",
       " '207 ANG MO KIO AVE 1']"
      ]
     },
     "execution_count": 38,
     "metadata": {},
     "output_type": "execute_result"
    }
   ],
   "source": [
    "test = home_address[1:10]\n",
    "test"
   ]
  },
  {
   "cell_type": "code",
   "execution_count": 41,
   "metadata": {},
   "outputs": [
    {
     "name": "stdout",
     "output_type": "stream",
     "text": [
      "Search Done.\n"
     ]
    }
   ],
   "source": [
    "#running an api to be able to pull the longitude and latitude information from onemap\n",
    "\n",
    "import requests\n",
    "\n",
    "query_results = []\n",
    "querystring = {}\n",
    "\n",
    "for x in home_address:\n",
    "    url = \"https://developers.onemap.sg/commonapi/search\"\n",
    "    \n",
    "\n",
    "    querystring.update({\"searchVal\":x,\"returnGeom\":\"Y\",\"getAddrDetails\":\"Y\",\"pageNum\":\"1\"})\n",
    "    #print (querystring['searchVal'])\n",
    "    \n",
    "    payload = \"------WebKitFormBoundary7MA4YWxkTrZu0gW\\r\\nContent-Disposition: form-data; name=\\\"searchVal\\\"\\r\\n\\r\\n\\r\\n------WebKitFormBoundary7MA4YWxkTrZu0gW\\r\\nContent-Disposition: form-data; name=\\\"returnGeom {Y/N}\\\"\\r\\n\\r\\n\\r\\n------WebKitFormBoundary7MA4YWxkTrZu0gW\\r\\nContent-Disposition: form-data; name=\\\"getAddrDetails {Y/N}\\\"\\r\\n\\r\\n\\r\\n------WebKitFormBoundary7MA4YWxkTrZu0gW\\r\\nContent-Disposition: form-data; name=\\\"pageNum\\\"\\r\\n\\r\\n\\r\\n------WebKitFormBoundary7MA4YWxkTrZu0gW--\"\n",
    "    headers = {\n",
    "    'content-type': \"multipart/form-data; boundary=----WebKitFormBoundary7MA4YWxkTrZu0gW\",\n",
    "    'Cache-Control': \"no-cache\",\n",
    "    'Postman-Token': \"5f4af03e-410e-4b28-93bc-05006b4de49a\"\n",
    "    }\n",
    "\n",
    "    response = requests.request(\"GET\", url, data=payload, headers=headers, params=querystring)\n",
    "    \n",
    "\n",
    "    query_results.append(response.json())\n",
    "\n",
    "#print(response.text)\n",
    "print('Search Done.')"
   ]
  },
  {
   "cell_type": "code",
   "execution_count": 42,
   "metadata": {},
   "outputs": [
    {
     "data": {
      "text/plain": [
       "list"
      ]
     },
     "execution_count": 42,
     "metadata": {},
     "output_type": "execute_result"
    }
   ],
   "source": [
    "type(query_results)"
   ]
  },
  {
   "cell_type": "code",
   "execution_count": 43,
   "metadata": {},
   "outputs": [
    {
     "data": {
      "text/plain": [
       "5990"
      ]
     },
     "execution_count": 43,
     "metadata": {},
     "output_type": "execute_result"
    }
   ],
   "source": [
    "len(query_results)"
   ]
  },
  {
   "cell_type": "code",
   "execution_count": 44,
   "metadata": {},
   "outputs": [
    {
     "data": {
      "text/plain": [
       "[{'SEARCHVAL': 'TECK GHEE HORIZON',\n",
       "  'BLK_NO': '475',\n",
       "  'ROAD_NAME': 'ANG MO KIO AVENUE 10',\n",
       "  'BUILDING': 'TECK GHEE HORIZON',\n",
       "  'ADDRESS': '475 ANG MO KIO AVENUE 10 TECK GHEE HORIZON SINGAPORE 560475',\n",
       "  'POSTAL': '560475',\n",
       "  'X': '30581.59123',\n",
       "  'Y': '38301.87695',\n",
       "  'LATITUDE': '1.3626629780000001',\n",
       "  'LONGITUDE': '103.8565159',\n",
       "  'LONGTITUDE': '103.8565159'}]"
      ]
     },
     "execution_count": 44,
     "metadata": {},
     "output_type": "execute_result"
    }
   ],
   "source": [
    "query_results[1]['results']"
   ]
  },
  {
   "cell_type": "code",
   "execution_count": 45,
   "metadata": {},
   "outputs": [],
   "source": [
    "#creating a df with longitude and latitude information for all 4-room sold addresses\n",
    "geo_df = pd.DataFrame()\n",
    "for entry in range(len(query_results)):\n",
    "    df = pd.DataFrame.from_dict(query_results[entry]['results'])\n",
    "    geo_df = geo_df.append(df)"
   ]
  },
  {
   "cell_type": "code",
   "execution_count": 46,
   "metadata": {},
   "outputs": [
    {
     "data": {
      "text/html": [
       "<div>\n",
       "<style scoped>\n",
       "    .dataframe tbody tr th:only-of-type {\n",
       "        vertical-align: middle;\n",
       "    }\n",
       "\n",
       "    .dataframe tbody tr th {\n",
       "        vertical-align: top;\n",
       "    }\n",
       "\n",
       "    .dataframe thead th {\n",
       "        text-align: right;\n",
       "    }\n",
       "</style>\n",
       "<table border=\"1\" class=\"dataframe\">\n",
       "  <thead>\n",
       "    <tr style=\"text-align: right;\">\n",
       "      <th></th>\n",
       "      <th>SEARCHVAL</th>\n",
       "      <th>BLK_NO</th>\n",
       "      <th>ROAD_NAME</th>\n",
       "      <th>BUILDING</th>\n",
       "      <th>ADDRESS</th>\n",
       "      <th>POSTAL</th>\n",
       "      <th>X</th>\n",
       "      <th>Y</th>\n",
       "      <th>LATITUDE</th>\n",
       "      <th>LONGITUDE</th>\n",
       "      <th>LONGTITUDE</th>\n",
       "    </tr>\n",
       "  </thead>\n",
       "  <tbody>\n",
       "    <tr>\n",
       "      <td>0</td>\n",
       "      <td>TECK GHEE HORIZON</td>\n",
       "      <td>472</td>\n",
       "      <td>ANG MO KIO AVENUE 10</td>\n",
       "      <td>TECK GHEE HORIZON</td>\n",
       "      <td>472 ANG MO KIO AVENUE 10 TECK GHEE HORIZON SIN...</td>\n",
       "      <td>560472</td>\n",
       "      <td>30759.94902</td>\n",
       "      <td>38355.05955</td>\n",
       "      <td>1.3631439269999999</td>\n",
       "      <td>103.8581186</td>\n",
       "      <td>103.8581186</td>\n",
       "    </tr>\n",
       "    <tr>\n",
       "      <td>0</td>\n",
       "      <td>TECK GHEE HORIZON</td>\n",
       "      <td>475</td>\n",
       "      <td>ANG MO KIO AVENUE 10</td>\n",
       "      <td>TECK GHEE HORIZON</td>\n",
       "      <td>475 ANG MO KIO AVENUE 10 TECK GHEE HORIZON SIN...</td>\n",
       "      <td>560475</td>\n",
       "      <td>30581.59123</td>\n",
       "      <td>38301.87695</td>\n",
       "      <td>1.3626629780000001</td>\n",
       "      <td>103.8565159</td>\n",
       "      <td>103.8565159</td>\n",
       "    </tr>\n",
       "    <tr>\n",
       "      <td>0</td>\n",
       "      <td>YIO CHU KANG VIEW</td>\n",
       "      <td>629</td>\n",
       "      <td>ANG MO KIO AVENUE 4</td>\n",
       "      <td>YIO CHU KANG VIEW</td>\n",
       "      <td>629 ANG MO KIO AVENUE 4 YIO CHU KANG VIEW SING...</td>\n",
       "      <td>560629</td>\n",
       "      <td>28789.036030000003</td>\n",
       "      <td>40230.48807</td>\n",
       "      <td>1.38010475</td>\n",
       "      <td>103.84040870000001</td>\n",
       "      <td>103.84040870000001</td>\n",
       "    </tr>\n",
       "    <tr>\n",
       "      <td>1</td>\n",
       "      <td>DBS ANG MO KIO NORTH BRANCH</td>\n",
       "      <td>629</td>\n",
       "      <td>ANG MO KIO AVENUE 4</td>\n",
       "      <td>DBS ANG MO KIO NORTH BRANCH</td>\n",
       "      <td>629 ANG MO KIO AVENUE 4 DBS ANG MO KIO NORTH B...</td>\n",
       "      <td>560629</td>\n",
       "      <td>28789.03909</td>\n",
       "      <td>40230.47711</td>\n",
       "      <td>1.380104651</td>\n",
       "      <td>103.84040870000001</td>\n",
       "      <td>103.84040870000001</td>\n",
       "    </tr>\n",
       "    <tr>\n",
       "      <td>2</td>\n",
       "      <td>OCBC ANG MO KIO BRANCH</td>\n",
       "      <td>629</td>\n",
       "      <td>ANG MO KIO AVENUE 4</td>\n",
       "      <td>OCBC ANG MO KIO BRANCH</td>\n",
       "      <td>629 ANG MO KIO AVENUE 4 OCBC ANG MO KIO BRANCH...</td>\n",
       "      <td>560629</td>\n",
       "      <td>28789.03909</td>\n",
       "      <td>40230.47711</td>\n",
       "      <td>1.380104651</td>\n",
       "      <td>103.84040870000001</td>\n",
       "      <td>103.84040870000001</td>\n",
       "    </tr>\n",
       "  </tbody>\n",
       "</table>\n",
       "</div>"
      ],
      "text/plain": [
       "                     SEARCHVAL BLK_NO             ROAD_NAME  \\\n",
       "0            TECK GHEE HORIZON    472  ANG MO KIO AVENUE 10   \n",
       "0            TECK GHEE HORIZON    475  ANG MO KIO AVENUE 10   \n",
       "0            YIO CHU KANG VIEW    629   ANG MO KIO AVENUE 4   \n",
       "1  DBS ANG MO KIO NORTH BRANCH    629   ANG MO KIO AVENUE 4   \n",
       "2       OCBC ANG MO KIO BRANCH    629   ANG MO KIO AVENUE 4   \n",
       "\n",
       "                      BUILDING  \\\n",
       "0            TECK GHEE HORIZON   \n",
       "0            TECK GHEE HORIZON   \n",
       "0            YIO CHU KANG VIEW   \n",
       "1  DBS ANG MO KIO NORTH BRANCH   \n",
       "2       OCBC ANG MO KIO BRANCH   \n",
       "\n",
       "                                             ADDRESS  POSTAL  \\\n",
       "0  472 ANG MO KIO AVENUE 10 TECK GHEE HORIZON SIN...  560472   \n",
       "0  475 ANG MO KIO AVENUE 10 TECK GHEE HORIZON SIN...  560475   \n",
       "0  629 ANG MO KIO AVENUE 4 YIO CHU KANG VIEW SING...  560629   \n",
       "1  629 ANG MO KIO AVENUE 4 DBS ANG MO KIO NORTH B...  560629   \n",
       "2  629 ANG MO KIO AVENUE 4 OCBC ANG MO KIO BRANCH...  560629   \n",
       "\n",
       "                    X            Y            LATITUDE           LONGITUDE  \\\n",
       "0         30759.94902  38355.05955  1.3631439269999999         103.8581186   \n",
       "0         30581.59123  38301.87695  1.3626629780000001         103.8565159   \n",
       "0  28789.036030000003  40230.48807          1.38010475  103.84040870000001   \n",
       "1         28789.03909  40230.47711         1.380104651  103.84040870000001   \n",
       "2         28789.03909  40230.47711         1.380104651  103.84040870000001   \n",
       "\n",
       "           LONGTITUDE  \n",
       "0         103.8581186  \n",
       "0         103.8565159  \n",
       "0  103.84040870000001  \n",
       "1  103.84040870000001  \n",
       "2  103.84040870000001  "
      ]
     },
     "execution_count": 46,
     "metadata": {},
     "output_type": "execute_result"
    }
   ],
   "source": [
    "geo_df.head()"
   ]
  },
  {
   "cell_type": "code",
   "execution_count": 47,
   "metadata": {},
   "outputs": [],
   "source": [
    "geo_df[\"full_address\"] = geo_df[\"BLK_NO\"].map(str) + ' ' + geo_df[\"ROAD_NAME\"].map(str)"
   ]
  },
  {
   "cell_type": "code",
   "execution_count": 48,
   "metadata": {},
   "outputs": [],
   "source": [
    "# Do the same for the dataset which contains HDB resale addresses\n",
    "geo_df['lat_long'] = geo_df['LATITUDE'] +' '+ geo_df['LONGITUDE']\n",
    "geo_df['lat_long'] = geo_df['lat_long'].apply(lambda x: tuple(x.split(' ')))"
   ]
  },
  {
   "cell_type": "code",
   "execution_count": 50,
   "metadata": {},
   "outputs": [],
   "source": [
    " #train station information is in the shapefile and need to be converted to obtain the coords. \n",
    "def read_shapefile(shp_path):\n",
    "        \n",
    "    import shapefile\n",
    "\n",
    "    myshp = open(shp_path, \"rb\")\n",
    "    sf = shapefile.Reader(shp_path)\n",
    "    fields = [x[0] for x in sf.fields][1:]\n",
    "    records = sf.records()\n",
    "    shps = [s.points for s in sf.shapes()]\n",
    "\n",
    "    #write into a dataframe\n",
    "    df = pd.DataFrame(columns=fields, data=records)\n",
    "    df = df.assign(coords=shps)\n",
    "\n",
    "    return df"
   ]
  },
  {
   "cell_type": "code",
   "execution_count": 51,
   "metadata": {},
   "outputs": [],
   "source": [
    "#change the path where the shape file resides  on your pc \n",
    "mrt_geo_df = read_shapefile('C:/Users/Natasha/Desktop/TrainStation_Oct2017/MRTLRTStnPtt.shp') "
   ]
  },
  {
   "cell_type": "code",
   "execution_count": 52,
   "metadata": {},
   "outputs": [
    {
     "data": {
      "text/plain": [
       "164"
      ]
     },
     "execution_count": 52,
     "metadata": {},
     "output_type": "execute_result"
    }
   ],
   "source": [
    "station_address_list = mrt_geo_df['STN_NAME'].unique().tolist()\n",
    "len(station_address_list)"
   ]
  },
  {
   "cell_type": "code",
   "execution_count": 53,
   "metadata": {},
   "outputs": [
    {
     "name": "stdout",
     "output_type": "stream",
     "text": [
      "Search Done.\n"
     ]
    }
   ],
   "source": [
    "#obtain coords of train stations\n",
    "\n",
    "import requests\n",
    "\n",
    "station_search_results = []\n",
    "querystring = {}\n",
    "\n",
    "for x in station_address_list:\n",
    "    url = \"https://developers.onemap.sg/commonapi/search\"\n",
    "    \n",
    "\n",
    "    querystring.update({\"searchVal\":x,\"returnGeom\":\"Y\",\"getAddrDetails\":\"Y\",\"pageNum\":\"1\"})\n",
    "    #print (querystring['searchVal'])\n",
    "    \n",
    "    payload = \"------WebKitFormBoundary7MA4YWxkTrZu0gW\\r\\nContent-Disposition: form-data; name=\\\"searchVal\\\"\\r\\n\\r\\n\\r\\n------WebKitFormBoundary7MA4YWxkTrZu0gW\\r\\nContent-Disposition: form-data; name=\\\"returnGeom {Y/N}\\\"\\r\\n\\r\\n\\r\\n------WebKitFormBoundary7MA4YWxkTrZu0gW\\r\\nContent-Disposition: form-data; name=\\\"getAddrDetails {Y/N}\\\"\\r\\n\\r\\n\\r\\n------WebKitFormBoundary7MA4YWxkTrZu0gW\\r\\nContent-Disposition: form-data; name=\\\"pageNum\\\"\\r\\n\\r\\n\\r\\n------WebKitFormBoundary7MA4YWxkTrZu0gW--\"\n",
    "    headers = {\n",
    "    'content-type': \"multipart/form-data; boundary=----WebKitFormBoundary7MA4YWxkTrZu0gW\",\n",
    "    'Cache-Control': \"no-cache\",\n",
    "    'Postman-Token': \"5f4af03e-410e-4b28-93bc-05006b4de49a\"\n",
    "    }\n",
    "\n",
    "    response = requests.request(\"GET\", url, data=payload, headers=headers, params=querystring)\n",
    "    \n",
    "\n",
    "    station_search_results.append(response.json())\n",
    "\n",
    "#print(response.text)\n",
    "print('Search Done.')"
   ]
  },
  {
   "cell_type": "code",
   "execution_count": 54,
   "metadata": {},
   "outputs": [],
   "source": [
    "station_latlong_df = pd.DataFrame()\n",
    "for entry in range(len(station_search_results)):\n",
    "    temp_df = pd.DataFrame.from_dict(station_search_results[entry]['results'])\n",
    "    station_latlong_df = station_latlong_df.append(temp_df)"
   ]
  },
  {
   "cell_type": "code",
   "execution_count": 55,
   "metadata": {},
   "outputs": [
    {
     "data": {
      "text/html": [
       "<div>\n",
       "<style scoped>\n",
       "    .dataframe tbody tr th:only-of-type {\n",
       "        vertical-align: middle;\n",
       "    }\n",
       "\n",
       "    .dataframe tbody tr th {\n",
       "        vertical-align: top;\n",
       "    }\n",
       "\n",
       "    .dataframe thead th {\n",
       "        text-align: right;\n",
       "    }\n",
       "</style>\n",
       "<table border=\"1\" class=\"dataframe\">\n",
       "  <thead>\n",
       "    <tr style=\"text-align: right;\">\n",
       "      <th></th>\n",
       "      <th>SEARCHVAL</th>\n",
       "      <th>BLK_NO</th>\n",
       "      <th>ROAD_NAME</th>\n",
       "      <th>BUILDING</th>\n",
       "      <th>ADDRESS</th>\n",
       "      <th>POSTAL</th>\n",
       "      <th>X</th>\n",
       "      <th>Y</th>\n",
       "      <th>LATITUDE</th>\n",
       "      <th>LONGITUDE</th>\n",
       "      <th>LONGTITUDE</th>\n",
       "    </tr>\n",
       "  </thead>\n",
       "  <tbody>\n",
       "    <tr>\n",
       "      <td>0</td>\n",
       "      <td>EUNOS MRT STATION EXIT A</td>\n",
       "      <td></td>\n",
       "      <td>NIL</td>\n",
       "      <td>EUNOS MRT STATION EXIT A</td>\n",
       "      <td>EUNOS MRT STATION EXIT A</td>\n",
       "      <td>NIL</td>\n",
       "      <td>35743.0776</td>\n",
       "      <td>33531.14163</td>\n",
       "      <td>1.319517275</td>\n",
       "      <td>103.9028941</td>\n",
       "      <td>103.9028941</td>\n",
       "    </tr>\n",
       "    <tr>\n",
       "      <td>1</td>\n",
       "      <td>EUNOS MRT STATION EXIT B</td>\n",
       "      <td></td>\n",
       "      <td>NIL</td>\n",
       "      <td>EUNOS MRT STATION EXIT B</td>\n",
       "      <td>EUNOS MRT STATION EXIT B</td>\n",
       "      <td>NIL</td>\n",
       "      <td>35708.34817</td>\n",
       "      <td>33536.14644</td>\n",
       "      <td>1.319562546</td>\n",
       "      <td>103.9025821</td>\n",
       "      <td>103.9025821</td>\n",
       "    </tr>\n",
       "    <tr>\n",
       "      <td>2</td>\n",
       "      <td>EUNOS MRT STATION EXIT C</td>\n",
       "      <td></td>\n",
       "      <td>NIL</td>\n",
       "      <td>EUNOS MRT STATION EXIT C</td>\n",
       "      <td>EUNOS MRT STATION EXIT C</td>\n",
       "      <td>NIL</td>\n",
       "      <td>35774.73652</td>\n",
       "      <td>33541.2482</td>\n",
       "      <td>1.319608667</td>\n",
       "      <td>103.90317859999999</td>\n",
       "      <td>103.90317859999999</td>\n",
       "    </tr>\n",
       "    <tr>\n",
       "      <td>3</td>\n",
       "      <td>EUNOS MRT STATION (EW7)</td>\n",
       "      <td>30</td>\n",
       "      <td>EUNOS CRESCENT</td>\n",
       "      <td>EUNOS MRT STATION (EW7)</td>\n",
       "      <td>30 EUNOS CRESCENT EUNOS MRT STATION SINGAPORE ...</td>\n",
       "      <td>409423</td>\n",
       "      <td>35779.98898</td>\n",
       "      <td>33560.58575</td>\n",
       "      <td>1.319783548</td>\n",
       "      <td>103.90322579999999</td>\n",
       "      <td>103.90322579999999</td>\n",
       "    </tr>\n",
       "    <tr>\n",
       "      <td>4</td>\n",
       "      <td>DBS EUNOS MRT STATION</td>\n",
       "      <td>30</td>\n",
       "      <td>EUNOS CRESCENT</td>\n",
       "      <td>DBS EUNOS MRT STATION</td>\n",
       "      <td>30 EUNOS CRESCENT DBS EUNOS MRT STATION SINGAP...</td>\n",
       "      <td>409423</td>\n",
       "      <td>35766.0164</td>\n",
       "      <td>33554.35</td>\n",
       "      <td>1.319727157</td>\n",
       "      <td>103.9031003</td>\n",
       "      <td>103.9031003</td>\n",
       "    </tr>\n",
       "  </tbody>\n",
       "</table>\n",
       "</div>"
      ],
      "text/plain": [
       "                  SEARCHVAL BLK_NO       ROAD_NAME                  BUILDING  \\\n",
       "0  EUNOS MRT STATION EXIT A                    NIL  EUNOS MRT STATION EXIT A   \n",
       "1  EUNOS MRT STATION EXIT B                    NIL  EUNOS MRT STATION EXIT B   \n",
       "2  EUNOS MRT STATION EXIT C                    NIL  EUNOS MRT STATION EXIT C   \n",
       "3   EUNOS MRT STATION (EW7)     30  EUNOS CRESCENT   EUNOS MRT STATION (EW7)   \n",
       "4     DBS EUNOS MRT STATION     30  EUNOS CRESCENT     DBS EUNOS MRT STATION   \n",
       "\n",
       "                                             ADDRESS  POSTAL            X  \\\n",
       "0                           EUNOS MRT STATION EXIT A     NIL   35743.0776   \n",
       "1                           EUNOS MRT STATION EXIT B     NIL  35708.34817   \n",
       "2                           EUNOS MRT STATION EXIT C     NIL  35774.73652   \n",
       "3  30 EUNOS CRESCENT EUNOS MRT STATION SINGAPORE ...  409423  35779.98898   \n",
       "4  30 EUNOS CRESCENT DBS EUNOS MRT STATION SINGAP...  409423   35766.0164   \n",
       "\n",
       "             Y     LATITUDE           LONGITUDE          LONGTITUDE  \n",
       "0  33531.14163  1.319517275         103.9028941         103.9028941  \n",
       "1  33536.14644  1.319562546         103.9025821         103.9025821  \n",
       "2   33541.2482  1.319608667  103.90317859999999  103.90317859999999  \n",
       "3  33560.58575  1.319783548  103.90322579999999  103.90322579999999  \n",
       "4     33554.35  1.319727157         103.9031003         103.9031003  "
      ]
     },
     "execution_count": 55,
     "metadata": {},
     "output_type": "execute_result"
    }
   ],
   "source": [
    "station_latlong_df.head()"
   ]
  },
  {
   "cell_type": "code",
   "execution_count": 56,
   "metadata": {},
   "outputs": [],
   "source": [
    "\n",
    "# Concatenate latitude and longitude columns into one column\n",
    "station_latlong_df['lat_long'] = station_latlong_df['LATITUDE'] +' '+ station_latlong_df['LONGITUDE']\n",
    "\n",
    "# convert lat_long column to tuples\n",
    "station_latlong_df['lat_long'] = station_latlong_df['lat_long'].apply(lambda x: tuple(x.split(' ')))\n"
   ]
  },
  {
   "cell_type": "code",
   "execution_count": 57,
   "metadata": {},
   "outputs": [
    {
     "data": {
      "text/html": [
       "<div>\n",
       "<style scoped>\n",
       "    .dataframe tbody tr th:only-of-type {\n",
       "        vertical-align: middle;\n",
       "    }\n",
       "\n",
       "    .dataframe tbody tr th {\n",
       "        vertical-align: top;\n",
       "    }\n",
       "\n",
       "    .dataframe thead th {\n",
       "        text-align: right;\n",
       "    }\n",
       "</style>\n",
       "<table border=\"1\" class=\"dataframe\">\n",
       "  <thead>\n",
       "    <tr style=\"text-align: right;\">\n",
       "      <th></th>\n",
       "      <th>index</th>\n",
       "      <th>SEARCHVAL</th>\n",
       "      <th>BLK_NO</th>\n",
       "      <th>ROAD_NAME</th>\n",
       "      <th>BUILDING</th>\n",
       "      <th>ADDRESS</th>\n",
       "      <th>POSTAL</th>\n",
       "      <th>X</th>\n",
       "      <th>Y</th>\n",
       "      <th>LATITUDE</th>\n",
       "      <th>LONGITUDE</th>\n",
       "      <th>LONGTITUDE</th>\n",
       "      <th>lat_long</th>\n",
       "    </tr>\n",
       "  </thead>\n",
       "  <tbody>\n",
       "    <tr>\n",
       "      <td>0</td>\n",
       "      <td>0</td>\n",
       "      <td>EUNOS MRT STATION EXIT A</td>\n",
       "      <td></td>\n",
       "      <td>NIL</td>\n",
       "      <td>EUNOS MRT STATION EXIT A</td>\n",
       "      <td>EUNOS MRT STATION EXIT A</td>\n",
       "      <td>NIL</td>\n",
       "      <td>35743.0776</td>\n",
       "      <td>33531.14163</td>\n",
       "      <td>1.319517275</td>\n",
       "      <td>103.9028941</td>\n",
       "      <td>103.9028941</td>\n",
       "      <td>(1.319517275, 103.9028941)</td>\n",
       "    </tr>\n",
       "    <tr>\n",
       "      <td>1</td>\n",
       "      <td>1</td>\n",
       "      <td>EUNOS MRT STATION EXIT B</td>\n",
       "      <td></td>\n",
       "      <td>NIL</td>\n",
       "      <td>EUNOS MRT STATION EXIT B</td>\n",
       "      <td>EUNOS MRT STATION EXIT B</td>\n",
       "      <td>NIL</td>\n",
       "      <td>35708.34817</td>\n",
       "      <td>33536.14644</td>\n",
       "      <td>1.319562546</td>\n",
       "      <td>103.9025821</td>\n",
       "      <td>103.9025821</td>\n",
       "      <td>(1.319562546, 103.9025821)</td>\n",
       "    </tr>\n",
       "    <tr>\n",
       "      <td>2</td>\n",
       "      <td>2</td>\n",
       "      <td>EUNOS MRT STATION EXIT C</td>\n",
       "      <td></td>\n",
       "      <td>NIL</td>\n",
       "      <td>EUNOS MRT STATION EXIT C</td>\n",
       "      <td>EUNOS MRT STATION EXIT C</td>\n",
       "      <td>NIL</td>\n",
       "      <td>35774.73652</td>\n",
       "      <td>33541.2482</td>\n",
       "      <td>1.319608667</td>\n",
       "      <td>103.90317859999999</td>\n",
       "      <td>103.90317859999999</td>\n",
       "      <td>(1.319608667, 103.90317859999999)</td>\n",
       "    </tr>\n",
       "    <tr>\n",
       "      <td>3</td>\n",
       "      <td>3</td>\n",
       "      <td>EUNOS MRT STATION (EW7)</td>\n",
       "      <td>30</td>\n",
       "      <td>EUNOS CRESCENT</td>\n",
       "      <td>EUNOS MRT STATION (EW7)</td>\n",
       "      <td>30 EUNOS CRESCENT EUNOS MRT STATION SINGAPORE ...</td>\n",
       "      <td>409423</td>\n",
       "      <td>35779.98898</td>\n",
       "      <td>33560.58575</td>\n",
       "      <td>1.319783548</td>\n",
       "      <td>103.90322579999999</td>\n",
       "      <td>103.90322579999999</td>\n",
       "      <td>(1.319783548, 103.90322579999999)</td>\n",
       "    </tr>\n",
       "    <tr>\n",
       "      <td>4</td>\n",
       "      <td>4</td>\n",
       "      <td>DBS EUNOS MRT STATION</td>\n",
       "      <td>30</td>\n",
       "      <td>EUNOS CRESCENT</td>\n",
       "      <td>DBS EUNOS MRT STATION</td>\n",
       "      <td>30 EUNOS CRESCENT DBS EUNOS MRT STATION SINGAP...</td>\n",
       "      <td>409423</td>\n",
       "      <td>35766.0164</td>\n",
       "      <td>33554.35</td>\n",
       "      <td>1.319727157</td>\n",
       "      <td>103.9031003</td>\n",
       "      <td>103.9031003</td>\n",
       "      <td>(1.319727157, 103.9031003)</td>\n",
       "    </tr>\n",
       "    <tr>\n",
       "      <td>...</td>\n",
       "      <td>...</td>\n",
       "      <td>...</td>\n",
       "      <td>...</td>\n",
       "      <td>...</td>\n",
       "      <td>...</td>\n",
       "      <td>...</td>\n",
       "      <td>...</td>\n",
       "      <td>...</td>\n",
       "      <td>...</td>\n",
       "      <td>...</td>\n",
       "      <td>...</td>\n",
       "      <td>...</td>\n",
       "      <td>...</td>\n",
       "    </tr>\n",
       "    <tr>\n",
       "      <td>564</td>\n",
       "      <td>1</td>\n",
       "      <td>TELOK BLANGAH MRT STATION (CC28)</td>\n",
       "      <td>463</td>\n",
       "      <td>TELOK BLANGAH ROAD</td>\n",
       "      <td>TELOK BLANGAH MRT STATION (CC28)</td>\n",
       "      <td>463 TELOK BLANGAH ROAD TELOK BLANGAH MRT STATI...</td>\n",
       "      <td>109028</td>\n",
       "      <td>25378.2908</td>\n",
       "      <td>28133.79905</td>\n",
       "      <td>1.270706477</td>\n",
       "      <td>103.80976159999999</td>\n",
       "      <td>103.80976159999999</td>\n",
       "      <td>(1.270706477, 103.80976159999999)</td>\n",
       "    </tr>\n",
       "    <tr>\n",
       "      <td>565</td>\n",
       "      <td>0</td>\n",
       "      <td>TELOK AYER MRT STATION EXIT C</td>\n",
       "      <td></td>\n",
       "      <td>NIL</td>\n",
       "      <td>TELOK AYER MRT STATION EXIT C</td>\n",
       "      <td>TELOK AYER MRT STATION EXIT C</td>\n",
       "      <td>NIL</td>\n",
       "      <td>29728.088180000002</td>\n",
       "      <td>29413.06043</td>\n",
       "      <td>1.28227573</td>\n",
       "      <td>103.84884609999999</td>\n",
       "      <td>103.84884609999999</td>\n",
       "      <td>(1.28227573, 103.84884609999999)</td>\n",
       "    </tr>\n",
       "    <tr>\n",
       "      <td>566</td>\n",
       "      <td>1</td>\n",
       "      <td>TELOK AYER MRT STATION EXIT B</td>\n",
       "      <td></td>\n",
       "      <td>NIL</td>\n",
       "      <td>TELOK AYER MRT STATION EXIT B</td>\n",
       "      <td>TELOK AYER MRT STATION EXIT B</td>\n",
       "      <td>NIL</td>\n",
       "      <td>29719.28592</td>\n",
       "      <td>29437.864410000002</td>\n",
       "      <td>1.282500049</td>\n",
       "      <td>103.84876700000001</td>\n",
       "      <td>103.84876700000001</td>\n",
       "      <td>(1.282500049, 103.84876700000001)</td>\n",
       "    </tr>\n",
       "    <tr>\n",
       "      <td>567</td>\n",
       "      <td>2</td>\n",
       "      <td>TELOK AYER MRT STATION EXIT A</td>\n",
       "      <td></td>\n",
       "      <td>NIL</td>\n",
       "      <td>TELOK AYER MRT STATION EXIT A</td>\n",
       "      <td>TELOK AYER MRT STATION EXIT A</td>\n",
       "      <td>NIL</td>\n",
       "      <td>29691.000760000003</td>\n",
       "      <td>29370.527469999997</td>\n",
       "      <td>1.281891079</td>\n",
       "      <td>103.8485129</td>\n",
       "      <td>103.8485129</td>\n",
       "      <td>(1.281891079, 103.8485129)</td>\n",
       "    </tr>\n",
       "    <tr>\n",
       "      <td>568</td>\n",
       "      <td>3</td>\n",
       "      <td>TELOK AYER MRT STATION (DT18)</td>\n",
       "      <td>7</td>\n",
       "      <td>CROSS STREET</td>\n",
       "      <td>TELOK AYER MRT STATION (DT18)</td>\n",
       "      <td>7 CROSS STREET TELOK AYER MRT STATION SINGAPOR...</td>\n",
       "      <td>048416</td>\n",
       "      <td>29706.12592</td>\n",
       "      <td>29390.195389999997</td>\n",
       "      <td>1.282068948</td>\n",
       "      <td>103.8486488</td>\n",
       "      <td>103.8486488</td>\n",
       "      <td>(1.282068948, 103.8486488)</td>\n",
       "    </tr>\n",
       "  </tbody>\n",
       "</table>\n",
       "<p>569 rows × 13 columns</p>\n",
       "</div>"
      ],
      "text/plain": [
       "     index                         SEARCHVAL BLK_NO           ROAD_NAME  \\\n",
       "0        0          EUNOS MRT STATION EXIT A                        NIL   \n",
       "1        1          EUNOS MRT STATION EXIT B                        NIL   \n",
       "2        2          EUNOS MRT STATION EXIT C                        NIL   \n",
       "3        3           EUNOS MRT STATION (EW7)     30      EUNOS CRESCENT   \n",
       "4        4             DBS EUNOS MRT STATION     30      EUNOS CRESCENT   \n",
       "..     ...                               ...    ...                 ...   \n",
       "564      1  TELOK BLANGAH MRT STATION (CC28)    463  TELOK BLANGAH ROAD   \n",
       "565      0     TELOK AYER MRT STATION EXIT C                        NIL   \n",
       "566      1     TELOK AYER MRT STATION EXIT B                        NIL   \n",
       "567      2     TELOK AYER MRT STATION EXIT A                        NIL   \n",
       "568      3     TELOK AYER MRT STATION (DT18)      7        CROSS STREET   \n",
       "\n",
       "                             BUILDING  \\\n",
       "0            EUNOS MRT STATION EXIT A   \n",
       "1            EUNOS MRT STATION EXIT B   \n",
       "2            EUNOS MRT STATION EXIT C   \n",
       "3             EUNOS MRT STATION (EW7)   \n",
       "4               DBS EUNOS MRT STATION   \n",
       "..                                ...   \n",
       "564  TELOK BLANGAH MRT STATION (CC28)   \n",
       "565     TELOK AYER MRT STATION EXIT C   \n",
       "566     TELOK AYER MRT STATION EXIT B   \n",
       "567     TELOK AYER MRT STATION EXIT A   \n",
       "568     TELOK AYER MRT STATION (DT18)   \n",
       "\n",
       "                                               ADDRESS  POSTAL  \\\n",
       "0                             EUNOS MRT STATION EXIT A     NIL   \n",
       "1                             EUNOS MRT STATION EXIT B     NIL   \n",
       "2                             EUNOS MRT STATION EXIT C     NIL   \n",
       "3    30 EUNOS CRESCENT EUNOS MRT STATION SINGAPORE ...  409423   \n",
       "4    30 EUNOS CRESCENT DBS EUNOS MRT STATION SINGAP...  409423   \n",
       "..                                                 ...     ...   \n",
       "564  463 TELOK BLANGAH ROAD TELOK BLANGAH MRT STATI...  109028   \n",
       "565                      TELOK AYER MRT STATION EXIT C     NIL   \n",
       "566                      TELOK AYER MRT STATION EXIT B     NIL   \n",
       "567                      TELOK AYER MRT STATION EXIT A     NIL   \n",
       "568  7 CROSS STREET TELOK AYER MRT STATION SINGAPOR...  048416   \n",
       "\n",
       "                      X                   Y     LATITUDE           LONGITUDE  \\\n",
       "0            35743.0776         33531.14163  1.319517275         103.9028941   \n",
       "1           35708.34817         33536.14644  1.319562546         103.9025821   \n",
       "2           35774.73652          33541.2482  1.319608667  103.90317859999999   \n",
       "3           35779.98898         33560.58575  1.319783548  103.90322579999999   \n",
       "4            35766.0164            33554.35  1.319727157         103.9031003   \n",
       "..                  ...                 ...          ...                 ...   \n",
       "564          25378.2908         28133.79905  1.270706477  103.80976159999999   \n",
       "565  29728.088180000002         29413.06043   1.28227573  103.84884609999999   \n",
       "566         29719.28592  29437.864410000002  1.282500049  103.84876700000001   \n",
       "567  29691.000760000003  29370.527469999997  1.281891079         103.8485129   \n",
       "568         29706.12592  29390.195389999997  1.282068948         103.8486488   \n",
       "\n",
       "             LONGTITUDE                           lat_long  \n",
       "0           103.9028941         (1.319517275, 103.9028941)  \n",
       "1           103.9025821         (1.319562546, 103.9025821)  \n",
       "2    103.90317859999999  (1.319608667, 103.90317859999999)  \n",
       "3    103.90322579999999  (1.319783548, 103.90322579999999)  \n",
       "4           103.9031003         (1.319727157, 103.9031003)  \n",
       "..                  ...                                ...  \n",
       "564  103.80976159999999  (1.270706477, 103.80976159999999)  \n",
       "565  103.84884609999999   (1.28227573, 103.84884609999999)  \n",
       "566  103.84876700000001  (1.282500049, 103.84876700000001)  \n",
       "567         103.8485129         (1.281891079, 103.8485129)  \n",
       "568         103.8486488         (1.282068948, 103.8486488)  \n",
       "\n",
       "[569 rows x 13 columns]"
      ]
     },
     "execution_count": 57,
     "metadata": {},
     "output_type": "execute_result"
    }
   ],
   "source": [
    "station_latlong_df.reset_index()"
   ]
  },
  {
   "cell_type": "code",
   "execution_count": 58,
   "metadata": {},
   "outputs": [],
   "source": [
    "# convert the lat_long column in station_latlong_df to a list\n",
    "station_latlong_list = list(station_latlong_df.T.iloc[-1,:])"
   ]
  },
  {
   "cell_type": "code",
   "execution_count": 59,
   "metadata": {},
   "outputs": [
    {
     "data": {
      "text/plain": [
       "[('1.319517275', '103.9028941'),\n",
       " ('1.319562546', '103.9025821'),\n",
       " ('1.319608667', '103.90317859999999'),\n",
       " ('1.319783548', '103.90322579999999'),\n",
       " ('1.319727157', '103.9031003'),\n",
       " ('1.319727157', '103.9031003'),\n",
       " ('1.319727157', '103.9031003'),\n",
       " ('1.342440843', '103.7322246'),\n",
       " ('1.342101479', '103.7326688'),\n",
       " ('1.342234277', '103.73241479999999'),\n",
       " ('1.342352821', '103.7325967'),\n",
       " ('1.342244948', '103.73276659999999'),\n",
       " ('1.342244948', '103.73276659999999'),\n",
       " ('1.342244948', '103.73276659999999'),\n",
       " ('1.4171305459999999', '103.83269179999999'),\n",
       " ('1.4170363730000002', '103.8329527'),\n",
       " ('1.41789179', '103.8331718'),\n",
       " ('1.417887193', '103.83254050000001'),\n",
       " ('1.41738337', '103.83297990000001'),\n",
       " ('1.41738337', '103.83297990000001'),\n",
       " ('1.417589061', '103.833061'),\n",
       " ('1.417589061', '103.833061'),\n",
       " ('1.4248605980000002', '103.7619343'),\n",
       " ('1.4251259490000001', '103.7617547'),\n",
       " ('1.42513173', '103.7624922'),\n",
       " ('1.424739805', '103.7620183'),\n",
       " ('1.425086981', '103.7621375'),\n",
       " ('1.425069063', '103.76209940000001'),\n",
       " ('1.425069063', '103.76209940000001'),\n",
       " ('1.425069063', '103.76209940000001'),\n",
       " ('1.289367485', '103.8169976'),\n",
       " ('1.2894858759999999', '103.81724940000001'),\n",
       " ('1.2896345340000002', '103.81674100000001'),\n",
       " ('1.289348178', '103.817044'),\n",
       " ('1.289348178', '103.817044'),\n",
       " ('1.3975350180000001', '103.7474051'),\n",
       " ('1.39757979', '103.74745949999999'),\n",
       " ('1.3976916940000002', '103.7475068'),\n",
       " ('1.337342939', '103.6971431'),\n",
       " ('1.33782966', '103.6971319'),\n",
       " ('1.337586882', '103.6973215'),\n",
       " ('1.337593552', '103.69741850000001'),\n",
       " ('1.337593552', '103.69741850000001'),\n",
       " ('1.337563831', '103.6976315'),\n",
       " ('1.302648162', '103.7979583'),\n",
       " ('1.302083048', '103.7987682'),\n",
       " ('1.302757264', '103.7980551'),\n",
       " ('1.302021258', '103.79871429999999'),\n",
       " ('1.302508537', '103.7982261'),\n",
       " ('1.302447434', '103.798295'),\n",
       " ('1.302447434', '103.798295'),\n",
       " ('1.302447434', '103.798295'),\n",
       " ('1.318370313', '103.8922082'),\n",
       " ('1.318254585', '103.8927917'),\n",
       " ('1.318147366', '103.8917141'),\n",
       " ('1.316583783', '103.8920801'),\n",
       " ('1.317247385', '103.8922608'),\n",
       " ('1.318112082', '103.89306040000001'),\n",
       " ('1.31719912', '103.8923649'),\n",
       " ('1.317095299', '103.8923848'),\n",
       " ('1.318136491', '103.8931439'),\n",
       " ('1.318136491', '103.8931439'),\n",
       " ('1.342655786', '103.95382009999999'),\n",
       " ('1.343202895', '103.9533717'),\n",
       " ('1.343203421', '103.9533713'),\n",
       " ('1.343203421', '103.9533713'),\n",
       " ('1.353398313', '103.94490400000001'),\n",
       " ('1.3548806780000002', '103.94366550000001'),\n",
       " ('1.3537640130000002', '103.9447663'),\n",
       " ('1.354191795', '103.9426567'),\n",
       " ('1.353539082', '103.94508959999999'),\n",
       " ('1.355865325', '103.94265340000001'),\n",
       " ('1.354598789', '103.94271490000001'),\n",
       " ('1.3551504109999999', '103.9430099'),\n",
       " ('1.3533015330000002', '103.9451447'),\n",
       " ('1.353646585', '103.94483829999999'),\n",
       " ('1.4401624819999999', '103.8005272'),\n",
       " ('1.4405333880000002', '103.8013645'),\n",
       " ('1.4403433719999998', '103.8009842'),\n",
       " ('1.4406053730000001', '103.8005515'),\n",
       " ('1.4405850009999999', '103.800988'),\n",
       " ('1.4405697309999999', '103.8010493'),\n",
       " ('1.4405697309999999', '103.8010493'),\n",
       " ('1.4296655969999998', '103.8356437'),\n",
       " ('1.42940145', '103.83479059999999'),\n",
       " ('1.42964614', '103.8348671'),\n",
       " ('1.4291073580000002', '103.83512359999999'),\n",
       " ('1.429104039', '103.83486579999999'),\n",
       " ('1.42944308', '103.83500500000001'),\n",
       " ('1.429525229', '103.83499509999999'),\n",
       " ('1.429445808', '103.8350583'),\n",
       " ('1.429525229', '103.83499509999999'),\n",
       " ('1.372886237', '103.94913690000001'),\n",
       " ('1.372841969', '103.9493334'),\n",
       " ('1.3730432119999998', '103.94928459999998'),\n",
       " ('1.37300805', '103.94926509999999'),\n",
       " ('1.37300805', '103.94926509999999'),\n",
       " ('1.37300805', '103.94926509999999'),\n",
       " ('1.315463981', '103.7651555'),\n",
       " ('1.314169625', '103.76577359999999'),\n",
       " ('1.314065689', '103.7655414'),\n",
       " ('1.315405642', '103.7649827'),\n",
       " ('1.3152012640000001', '103.7651824'),\n",
       " ('1.315225203', '103.7651686'),\n",
       " ('1.315225203', '103.7651686'),\n",
       " ('1.3152012640000001', '103.7651824'),\n",
       " ('1.316487931', '103.88247290000001'),\n",
       " ('1.316238485', '103.8824967'),\n",
       " ('1.316432612', '103.882906'),\n",
       " ('1.316441188', '103.882964'),\n",
       " ('1.316441188', '103.882964'),\n",
       " ('1.369428557', '103.84945520000001'),\n",
       " ('1.335958692', '103.9621622'),\n",
       " ('1.334871157', '103.9621272'),\n",
       " ('1.335492099', '103.9618322'),\n",
       " ('1.335264775', '103.9620702'),\n",
       " ('1.334842826', '103.9630944'),\n",
       " ('1.33471425', '103.9628625'),\n",
       " ('1.335032564', '103.96305040000001'),\n",
       " ('1.3353825259999998', '103.9623747'),\n",
       " ('1.334549778', '103.96154820000001'),\n",
       " ('1.385426201', '103.744556'),\n",
       " ('1.385756501', '103.7445093'),\n",
       " ('1.3849696919999999', '103.74459190000002'),\n",
       " ('1.385710805', '103.744203'),\n",
       " ('1.385363165', '103.7443708'),\n",
       " ('1.3142216979999999', '103.8817525'),\n",
       " ('1.385363165', '103.7443708'),\n",
       " ('1.33400861', '103.74173509999999'),\n",
       " ('1.332753417', '103.7427536'),\n",
       " ('1.33253016', '103.7426431'),\n",
       " ('1.333576523', '103.74229240000001'),\n",
       " ('1.33315262', '103.7422865'),\n",
       " ('1.333295066', '103.7421539'),\n",
       " ('1.333295066', '103.7421539'),\n",
       " ('1.33315262', '103.7422865'),\n",
       " ('1.294250313', '103.8061795'),\n",
       " ('1.295456885', '103.80559040000001'),\n",
       " ('1.295380905', '103.8054769'),\n",
       " ('1.2943729529999999', '103.8063571'),\n",
       " ('1.294550852', '103.8060772'),\n",
       " ('1.29455843', '103.8060431'),\n",
       " ('1.294193622', '103.8061008'),\n",
       " ('1.294434065', '103.8061585'),\n",
       " ('1.340531698', '103.6372497'),\n",
       " ('1.340438332', '103.63666479999999'),\n",
       " ('1.340882425', '103.63699140000001'),\n",
       " ('1.3192785809999998', '103.6607917'),\n",
       " ('1.318886347', '103.659476'),\n",
       " ('1.319470868', '103.6605304'),\n",
       " ('1.436596431', '103.7858442'),\n",
       " ('1.436752791', '103.7863937'),\n",
       " ('1.437094408', '103.78722490000001'),\n",
       " ('1.436057617', '103.78793879999999'),\n",
       " ('1.43681963', '103.7860668'),\n",
       " ('1.43697563', '103.78671209999999'),\n",
       " ('1.43697563', '103.78671209999999'),\n",
       " ('1.320756144', '103.6490072'),\n",
       " ('1.321153373', '103.6493543'),\n",
       " ('1.3210269559999999', '103.6490782'),\n",
       " ('1.31178177', '103.8715871'),\n",
       " ('1.311540483', '103.87173059999999'),\n",
       " ('1.31148891', '103.8713865'),\n",
       " ('1.311487328', '103.8713473'),\n",
       " ('1.329850392', '103.63929949999999'),\n",
       " ('1.3301567090000002', '103.639813'),\n",
       " ('1.3299890890000001', '103.63961409999999'),\n",
       " ('1.306275348', '103.7903632'),\n",
       " ('1.311426541', '103.77829440000001'),\n",
       " ('1.311704743', '103.7784466'),\n",
       " ('1.311405293', '103.7786378'),\n",
       " ('1.311391537', '103.7786564'),\n",
       " ('1.311391537', '103.7786564'),\n",
       " ('1.311391537', '103.7786564'),\n",
       " ('1.448835628', '103.8201103'),\n",
       " ('1.44917158', '103.8197622'),\n",
       " ('1.4487733980000002', '103.8197832'),\n",
       " ('1.448927331', '103.8204016'),\n",
       " ('1.4490508219999998', '103.82004609999998'),\n",
       " ('1.449026685', '103.8201395'),\n",
       " ('1.449026685', '103.8201395'),\n",
       " ('1.449026685', '103.8201395'),\n",
       " ('1.320929673', '103.91294'),\n",
       " ('1.321152108', '103.9128993'),\n",
       " ('1.321038249', '103.9129494'),\n",
       " ('1.3210355409999999', '103.9129522'),\n",
       " ('1.3210355409999999', '103.9129522'),\n",
       " ('1.3210355409999999', '103.9129522'),\n",
       " ('1.349360664', '103.7499662'),\n",
       " ('1.34956122', '103.74997009999998'),\n",
       " ('1.349512469', '103.7497692'),\n",
       " ('1.3484237769999998', '103.74912640000001'),\n",
       " ('1.349034109', '103.7495668'),\n",
       " ('1.348710811', '103.7493345'),\n",
       " ('1.348710811', '103.7493345'),\n",
       " ('1.348932281', '103.7494922'),\n",
       " ('1.349034109', '103.7495668'),\n",
       " ('1.338284311', '103.70540550000001'),\n",
       " ('1.338753433', '103.7059554'),\n",
       " ('1.338520309', '103.7053495'),\n",
       " ('1.338275912', '103.70579040000001'),\n",
       " ('1.338420696', '103.70614549999999'),\n",
       " ('1.338631301', '103.70564279999999'),\n",
       " ('1.338604055', '103.70606459999999'),\n",
       " ('1.3386103390000001', '103.70608490000001'),\n",
       " ('1.338602389', '103.7059271'),\n",
       " ('1.3385309090000002', '103.7059113'),\n",
       " ('1.35906994', '103.7520673'),\n",
       " ('1.35906498', '103.7517266'),\n",
       " ('1.35869439', '103.752085'),\n",
       " ('1.359309377', '103.75194859999999'),\n",
       " ('1.3586115909999998', '103.7517909'),\n",
       " ('1.35868356', '103.7519063'),\n",
       " ('1.35868356', '103.7519063'),\n",
       " ('1.358662721', '103.7519133'),\n",
       " ('1.432757153', '103.7744045'),\n",
       " ('1.4324626180000002', '103.7738212'),\n",
       " ('1.43275723', '103.77398170000001'),\n",
       " ('1.432807925', '103.77420670000001'),\n",
       " ('1.432521149', '103.77407459999999'),\n",
       " ('1.432626035', '103.7740512'),\n",
       " ('1.432626035', '103.7740512'),\n",
       " ('1.432626035', '103.7740512'),\n",
       " ('1.3235686359999999', '103.9291571'),\n",
       " ('1.324268343', '103.92967309999999'),\n",
       " ('1.324084939', '103.9293973'),\n",
       " ('1.32039876', '103.95724200000001'),\n",
       " ('1.323979969', '103.9299845'),\n",
       " ('1.32398845', '103.9300325'),\n",
       " ('1.324001655', '103.93011120000001'),\n",
       " ('1.32750378', '103.6785247'),\n",
       " ('1.3279575829999999', '103.6786414'),\n",
       " ('1.327717173', '103.6783751'),\n",
       " ('1.327694365', '103.67808509999999'),\n",
       " ('1.327671454', '103.6782793'),\n",
       " ('1.3276860609999999', '103.67834549999999'),\n",
       " ('1.3443026000000002', '103.72171709999999'),\n",
       " ('1.3440753769999998', '103.7210633'),\n",
       " ('1.343987415', '103.72043769999999'),\n",
       " ('1.3442591309999998', '103.7209491'),\n",
       " ('1.344104775', '103.72030190000001'),\n",
       " ('1.344104775', '103.72030190000001'),\n",
       " ('1.344104775', '103.72030190000001'),\n",
       " ('1.3268651000000002', '103.9457914'),\n",
       " ('1.327064862', '103.9457231'),\n",
       " ('1.3271870940000001', '103.9463486'),\n",
       " ('1.327310982', '103.9464517'),\n",
       " ('1.3272623190000001', '103.9467715'),\n",
       " ('1.381650385', '103.844821'),\n",
       " ('1.38154128', '103.84495290000001'),\n",
       " ('1.381960215', '103.8446515'),\n",
       " ('1.381755887', '103.8449473'),\n",
       " ('1.3816826', '103.8449911'),\n",
       " ('1.381498825', '103.84517070000001'),\n",
       " ('1.402286677', '103.91272740000001'),\n",
       " ('1.409612685', '103.9048316'),\n",
       " ('1.397170196', '103.88930479999999'),\n",
       " ('1.3982128280000001', '103.88125620000001'),\n",
       " ('1.3867239219999998', '103.89053940000001'),\n",
       " ('1.3827254709999999', '103.7623443'),\n",
       " ('1.386736257', '103.7645331'),\n",
       " ('1.387785087', '103.7695997'),\n",
       " ('1.38002223', '103.77264740000001'),\n",
       " ('1.377926129', '103.763103'),\n",
       " ('1.3845731769999998', '103.7708872'),\n",
       " ('1.416848521', '103.9066508'),\n",
       " ('1.393909226', '103.9125809'),\n",
       " ('1.4051947009999999', '103.9024119'),\n",
       " ('1.415901719', '103.9021563'),\n",
       " ('1.396912053', '103.90895019999999'),\n",
       " ('1.3995091130000001', '103.916575'),\n",
       " ('1.399281985', '103.90596190000001'),\n",
       " ('1.402286677', '103.91272740000001'),\n",
       " ('1.411870459', '103.90031379999999'),\n",
       " ('1.3945244959999998', '103.9161661'),\n",
       " ('1.415901719', '103.9021563'),\n",
       " ('1.411870459', '103.90031379999999'),\n",
       " ('1.405323316', '103.8972905'),\n",
       " ('1.3995091130000001', '103.916575'),\n",
       " ('1.393909226', '103.9125809'),\n",
       " ('1.3973181559999999', '103.8756352'),\n",
       " ('1.378602766', '103.74905550000001'),\n",
       " ('1.405234836', '103.9086035'),\n",
       " ('1.399281985', '103.90596190000001'),\n",
       " ('1.3945244959999998', '103.9161661'),\n",
       " ('1.3827254709999999', '103.7623443'),\n",
       " ('1.386736257', '103.7645331'),\n",
       " ('1.3777720430000002', '103.76664579999999'),\n",
       " ('1.377926129', '103.763103'),\n",
       " ('1.376684679', '103.7537122'),\n",
       " ('1.3802982869999998', '103.74529179999999'),\n",
       " ('1.378615451', '103.75799559999999'),\n",
       " ('1.378602766', '103.74905550000001'),\n",
       " ('1.384755411', '103.7445377'),\n",
       " ('1.376684679', '103.7537122'),\n",
       " ('1.3802982869999998', '103.74529179999999'),\n",
       " ('1.392079839', '103.8800296'),\n",
       " ('1.383959115', '103.9022254'),\n",
       " ('1.396912053', '103.90895019999999'),\n",
       " ('1.3962776319999999', '103.89379720000001'),\n",
       " ('1.416848521', '103.9066508'),\n",
       " ('1.4051947009999999', '103.9024119'),\n",
       " ('1.408452426', '103.8985585'),\n",
       " ('1.3982128280000001', '103.88125620000001'),\n",
       " ('1.3973181559999999', '103.8756352'),\n",
       " ('1.391885888', '103.87630859999999'),\n",
       " ('1.3893479530000001', '103.8858441'),\n",
       " ('1.376135743', '103.77126120000001'),\n",
       " ('1.412770894', '103.90657759999999'),\n",
       " ('1.38002223', '103.77264740000001'),\n",
       " ('1.387992935', '103.90541400000001'),\n",
       " ('1.391468497', '103.9059736'),\n",
       " ('1.394493046', '103.9004925'),\n",
       " ('1.3842335609999998', '103.8971947'),\n",
       " ('1.378615451', '103.75799559999999'),\n",
       " ('1.387785087', '103.7695997'),\n",
       " ('1.3893479530000001', '103.8858441'),\n",
       " ('1.3867239219999998', '103.89053940000001'),\n",
       " ('1.3842335609999998', '103.8971947'),\n",
       " ('1.392079839', '103.8800296'),\n",
       " ('1.391609364', '103.8954426'),\n",
       " ('1.296867779', '103.8513212'),\n",
       " ('1.297018983', '103.85025470000001'),\n",
       " ('1.297533874', '103.85042469999999'),\n",
       " ('1.2960492959999999', '103.8504734'),\n",
       " ('1.297563928', '103.85016259999999'),\n",
       " ('1.296861686', '103.8506674'),\n",
       " ('1.296812442', '103.850895'),\n",
       " ('1.296857344', '103.8508366'),\n",
       " ('1.326839632', '103.8900079'),\n",
       " ('1.292989907', '103.85254259999999'),\n",
       " ('1.3556102559999998', '103.9551829'),\n",
       " ('1.3555613359999998', '103.95570529999999'),\n",
       " ('1.35646289', '103.95454009999999'),\n",
       " ('1.3569809080000002', '103.95570500000001'),\n",
       " ('1.3561914830000001', '103.9546345'),\n",
       " ('1.345643664', '103.9381809'),\n",
       " ('1.345008255', '103.9389568'),\n",
       " ('1.345515306', '103.938437'),\n",
       " ('1.321566573', '103.8715604'),\n",
       " ('1.321107783', '103.871785'),\n",
       " ('1.321301102', '103.8716226'),\n",
       " ('1.3138743290000001', '103.86306280000001'),\n",
       " ('1.313496045', '103.8632138'),\n",
       " ('1.313672528', '103.8629776'),\n",
       " ('1.2992013999999998', '103.85083829999999'),\n",
       " ('1.298112806', '103.84979240000001'),\n",
       " ('1.2981153559999998', '103.84958459999999'),\n",
       " ('1.298918434', '103.8503538'),\n",
       " ('1.2653893840000001', '103.8215302'),\n",
       " ('1.265311399', '103.8205573'),\n",
       " ('1.294115232', '103.860219'),\n",
       " ('1.293860521', '103.8601311'),\n",
       " ('1.291707988', '103.8606484'),\n",
       " ('1.293998569', '103.86035'),\n",
       " ('1.292891754', '103.86089179999999'),\n",
       " ('1.293998569', '103.86035'),\n",
       " ('1.293073896', '103.86106720000001'),\n",
       " ('1.293998569', '103.86035'),\n",
       " ('1.300366506', '103.8556367'),\n",
       " ('1.30026469', '103.8556148'),\n",
       " ('1.294317848', '103.7844655'),\n",
       " ('1.293988462', '103.7844649'),\n",
       " ('1.2932159859999999', '103.78452879999999'),\n",
       " ('1.292445523', '103.7848293'),\n",
       " ('1.2935369859999999', '103.7845724'),\n",
       " ('1.2935369859999999', '103.7845724'),\n",
       " ('1.4043063690000002', '103.90213759999999'),\n",
       " ('1.405356725', '103.90227790000002'),\n",
       " ('1.405156551', '103.9026363'),\n",
       " ('1.4044475019999998', '103.90177920000001'),\n",
       " ('1.4045467269999998', '103.9020726'),\n",
       " ('1.4043978259999998', '103.9020443'),\n",
       " ('1.4051295680000002', '103.9023698'),\n",
       " ('1.2760932759999999', '103.84652990000001'),\n",
       " ('1.2762671209999998', '103.8471021'),\n",
       " ('1.277379488', '103.8469276'),\n",
       " ('1.27778454', '103.8469531'),\n",
       " ('1.275450905', '103.84644509999998'),\n",
       " ('1.276060998', '103.8468917'),\n",
       " ('1.276392714', '103.8456638'),\n",
       " ('1.276398746', '103.8448205'),\n",
       " ('1.276662637', '103.8465547'),\n",
       " ('1.276561317', '103.8457252'),\n",
       " ('1.299714698', '103.7875655'),\n",
       " ('1.299035627', '103.7868968'),\n",
       " ('1.300371595', '103.7879245'),\n",
       " ('1.3000831929999999', '103.78778890000001'),\n",
       " ('1.299759878', '103.7874575'),\n",
       " ('1.3510188980000002', '103.85005720000001'),\n",
       " ('1.302511088', '103.8744'),\n",
       " ('1.303370226', '103.8762262'),\n",
       " ('1.302812468', '103.8753377'),\n",
       " ('1.3002528770000001', '103.8391583'),\n",
       " ('1.304897702', '103.8325251'),\n",
       " ('1.304560474', '103.83203979999999'),\n",
       " ('1.3043543990000002', '103.8326196'),\n",
       " ('1.3041533790000002', '103.83277029999999'),\n",
       " ('1.303167535', '103.8321716'),\n",
       " ('1.3039798740000001', '103.8322453'),\n",
       " ('1.303235834', '103.8313571'),\n",
       " ('1.3033433190000001', '103.8322947'),\n",
       " ('1.3033433190000001', '103.8322947'),\n",
       " ('1.3033433190000001', '103.8322947'),\n",
       " ('1.304890116', '103.8552925'),\n",
       " ('1.30549256', '103.8552371'),\n",
       " ('1.305171388', '103.8552957'),\n",
       " ('1.281275198', '103.858901'),\n",
       " ('1.281120894', '103.8584193'),\n",
       " ('1.281941042', '103.8611703'),\n",
       " ('1.282834909', '103.8595969'),\n",
       " ('1.282705224', '103.8597592'),\n",
       " ('1.281873789', '103.85907979999999'),\n",
       " ('1.282834354', '103.8594938'),\n",
       " ('1.281873789', '103.85907979999999'),\n",
       " ('1.39182912', '103.8954057'),\n",
       " ('1.390881586', '103.8952094'),\n",
       " ('1.39243991', '103.8957351'),\n",
       " ('1.391795637', '103.8956369'),\n",
       " ('1.391694626', '103.89548470000001'),\n",
       " ('1.391693492', '103.8954844'),\n",
       " ('1.333341876', '103.8296218'),\n",
       " ('1.333728883', '103.8306895'),\n",
       " ('1.306154061', '103.88304509999999'),\n",
       " ('1.35990192', '103.8844947'),\n",
       " ('1.292412616', '103.8441575'),\n",
       " ('1.2928245090000001', '103.8444139'),\n",
       " ('1.292481237', '103.8443311'),\n",
       " ('1.3175504', '103.8073843'),\n",
       " ('1.317495323', '103.8079666'),\n",
       " ('1.317439152', '103.8073792'),\n",
       " ('1.279843061', '103.85242029999999'),\n",
       " ('1.2794593', '103.85315779999999'),\n",
       " ('1.2796172270000001', '103.85291529999999'),\n",
       " ('1.278608051', '103.8522365'),\n",
       " ('1.279165661', '103.8530115'),\n",
       " ('1.279526962', '103.8524498'),\n",
       " ('1.279789511', '103.8526443'),\n",
       " ('1.27944619', '103.8528404'),\n",
       " ('1.2933588759999999', '103.85416479999999'),\n",
       " ('1.292910178', '103.85585309999999'),\n",
       " ('1.293125728', '103.8555641'),\n",
       " ('1.293379085', '103.8563033'),\n",
       " ('1.292923598', '103.8561721'),\n",
       " ('1.293593338', '103.85491809999999'),\n",
       " ('1.292617567', '103.855838'),\n",
       " ('1.293823412', '103.8551024'),\n",
       " ('1.293657725', '103.8550812'),\n",
       " ('1.293094086', '103.8555839'),\n",
       " ('1.300174562', '103.86350470000001'),\n",
       " ('1.299662598', '103.8641644'),\n",
       " ('1.299766835', '103.863637'),\n",
       " ('1.29956843', '103.8639777'),\n",
       " ('1.299587365', '103.8640401'),\n",
       " ('1.3373472229999999', '103.8395441'),\n",
       " ('1.2763111440000001', '103.854605'),\n",
       " ('1.272368386', '103.8034162'),\n",
       " ('1.283964052', '103.8431419'),\n",
       " ('1.312570317', '103.8380316'),\n",
       " ('1.326392241', '103.80654820000001'),\n",
       " ('1.286194579', '103.8269989'),\n",
       " ('1.362888457', '103.7677809'),\n",
       " ('1.335893496', '103.78323590000001'),\n",
       " ('1.327258786', '103.8827378'),\n",
       " ('1.326482826', '103.8837405'),\n",
       " ('1.326876715', '103.8832475'),\n",
       " ('1.329962128', '103.8998699'),\n",
       " ('1.329830436', '103.8985819'),\n",
       " ('1.329974629', '103.8992267'),\n",
       " ('1.34090149', '103.77574670000001'),\n",
       " ('1.334811349', '103.908996'),\n",
       " ('1.335322179', '103.9094061'),\n",
       " ('1.3349673020000001', '103.90845970000001'),\n",
       " ('1.335038537', '103.908776'),\n",
       " ('1.334450245', '103.9177959'),\n",
       " ('1.3351663409999999', '103.91803900000001'),\n",
       " ('1.334174701', '103.9190554'),\n",
       " ('1.334742117', '103.91797829999999'),\n",
       " ('1.299748471', '103.8453723'),\n",
       " ('1.29906443', '103.84522559999999'),\n",
       " ('1.2987013059999999', '103.8461152'),\n",
       " ('1.299649242', '103.8447479'),\n",
       " ('1.2999306659999998', '103.8450301'),\n",
       " ('1.2997054590000001', '103.84548819999999'),\n",
       " ('1.2984521470000001', '103.8467793'),\n",
       " ('1.299634892', '103.8458423'),\n",
       " ('1.298810409', '103.84634759999999'),\n",
       " ('1.298688723', '103.8461228'),\n",
       " ('1.35104829', '103.87107040000001'),\n",
       " ('1.339828246', '103.8709609'),\n",
       " ('1.321103004', '103.84440579999999'),\n",
       " ('1.319884008', '103.8433229'),\n",
       " ('1.320440791', '103.84382559999999'),\n",
       " ('1.320211007', '103.84365679999999'),\n",
       " ('1.320458518', '103.8438404'),\n",
       " ('1.320458355', '103.8438426'),\n",
       " ('1.336357975', '103.9328537'),\n",
       " ('1.336583483', '103.93348940000001'),\n",
       " ('1.33660783', '103.93223459999999'),\n",
       " ('1.270675235', '103.86228059999999'),\n",
       " ('1.271479202', '103.86356440000002'),\n",
       " ('1.271027036', '103.8624475'),\n",
       " ('1.3131403', '103.8547547'),\n",
       " ('1.3424454380000002', '103.88019709999999'),\n",
       " ('1.308431443', '103.8892682'),\n",
       " ('1.276008977', '103.7920338'),\n",
       " ('1.276213522', '103.7913503'),\n",
       " ('1.2802415329999999', '103.8400521'),\n",
       " ('1.2874521140000001', '103.8461192'),\n",
       " ('1.322386995', '103.8153855'),\n",
       " ('1.3489799080000002', '103.839088'),\n",
       " ('1.3478730819999998', '103.8400478'),\n",
       " ('1.348707263', '103.83942309999999'),\n",
       " ('1.348707263', '103.83942309999999'),\n",
       " ('1.281956887', '103.781989'),\n",
       " ('1.351531286', '103.8648122'),\n",
       " ('1.307391879', '103.86278459999998'),\n",
       " ('1.3360495479999999', '103.8885547'),\n",
       " ('1.334649765', '103.8882765'),\n",
       " ('1.335919836', '103.8876317'),\n",
       " ('1.3351415009999998', '103.88838929999999'),\n",
       " ('1.335339993', '103.88826540000001'),\n",
       " ('1.3036354959999998', '103.85265279999999'),\n",
       " ('1.304166597', '103.8530308'),\n",
       " ('1.303852185', '103.8527694'),\n",
       " ('1.3038521859999999', '103.8527694'),\n",
       " ('1.307698447', '103.8500936'),\n",
       " ('1.320329203', '103.8256843'),\n",
       " ('1.320065558', '103.82602440000001'),\n",
       " ('1.319334374', '103.825567'),\n",
       " ('1.3795612119999998', '103.76118890000001'),\n",
       " ('1.3698460140000002', '103.76431509999999'),\n",
       " ('1.330773169', '103.7965562'),\n",
       " ('1.33153906', '103.79682820000001'),\n",
       " ('1.330857645', '103.7969068'),\n",
       " ('1.330960581', '103.7969693'),\n",
       " ('1.333278746', '103.84651740000001'),\n",
       " ('1.332376442', '103.8477238'),\n",
       " ('1.332297176', '103.8475578'),\n",
       " ('1.333007442', '103.8473184'),\n",
       " ('1.332628988', '103.84750179999999'),\n",
       " ('1.332684091', '103.8476089'),\n",
       " ('1.332676149', '103.8475536'),\n",
       " ('1.427396053', '103.79326429999999'),\n",
       " ('1.331378085', '103.8693635'),\n",
       " ('1.3703347240000001', '103.8922618'),\n",
       " ('1.319939577', '103.8620527'),\n",
       " ('1.341878173', '103.96132850000001'),\n",
       " ('1.341044381', '103.9614589'),\n",
       " ('1.341984832', '103.9616254'),\n",
       " ('1.340856317', '103.96104059999999'),\n",
       " ('1.341739784', '103.9614726'),\n",
       " ('1.357220256', '103.9873046'),\n",
       " ('1.356341421', '103.9892766'),\n",
       " ('1.357478974', '103.98788359999999'),\n",
       " ('1.3401052070000001', '103.8467559'),\n",
       " ('1.3836941719999998', '103.89305'),\n",
       " ('1.2839332620000001', '103.85146309999999'),\n",
       " ('1.311223565', '103.7961344'),\n",
       " ('1.31071339', '103.7957443'),\n",
       " ('1.312240296', '103.79639909999999'),\n",
       " ('1.311071198', '103.79576970000001'),\n",
       " ('1.312240297', '103.79639909999999'),\n",
       " ('1.270734786', '103.80988459999999'),\n",
       " ('1.270706477', '103.80976159999999'),\n",
       " ('1.28227573', '103.84884609999999'),\n",
       " ('1.282500049', '103.84876700000001'),\n",
       " ('1.281891079', '103.8485129'),\n",
       " ('1.282068948', '103.8486488')]"
      ]
     },
     "execution_count": 59,
     "metadata": {},
     "output_type": "execute_result"
    }
   ],
   "source": [
    "station_latlong_list "
   ]
  },
  {
   "cell_type": "code",
   "execution_count": 60,
   "metadata": {},
   "outputs": [],
   "source": [
    "#obtain the distance between the sold flat and the mrt stations\n",
    "import geopy\n",
    "import geopy.distance\n",
    "\n",
    "station_distance_df = pd.DataFrame(geo_df[\"lat_long\"])\n",
    "for x in station_latlong_list:\n",
    "    station_distance_df[x]=geo_df['lat_long'].apply(lambda y: geopy.distance.distance(y, x).km)"
   ]
  },
  {
   "cell_type": "code",
   "execution_count": 61,
   "metadata": {},
   "outputs": [],
   "source": [
    "#use min to get the closest mrt \n",
    "station_distance_df['distance_to_nearest_station'] = station_distance_df.iloc[:,1:].apply(lambda x: min(x), axis=1)"
   ]
  },
  {
   "cell_type": "code",
   "execution_count": 62,
   "metadata": {},
   "outputs": [],
   "source": [
    "station_distance_df = station_distance_df.iloc[:,[0,-1]]"
   ]
  },
  {
   "cell_type": "code",
   "execution_count": 63,
   "metadata": {},
   "outputs": [
    {
     "data": {
      "text/html": [
       "<div>\n",
       "<style scoped>\n",
       "    .dataframe tbody tr th:only-of-type {\n",
       "        vertical-align: middle;\n",
       "    }\n",
       "\n",
       "    .dataframe tbody tr th {\n",
       "        vertical-align: top;\n",
       "    }\n",
       "\n",
       "    .dataframe thead th {\n",
       "        text-align: right;\n",
       "    }\n",
       "</style>\n",
       "<table border=\"1\" class=\"dataframe\">\n",
       "  <thead>\n",
       "    <tr style=\"text-align: right;\">\n",
       "      <th></th>\n",
       "      <th>lat_long</th>\n",
       "      <th>distance_to_nearest_station</th>\n",
       "    </tr>\n",
       "  </thead>\n",
       "  <tbody>\n",
       "    <tr>\n",
       "      <td>0</td>\n",
       "      <td>(1.3631439269999999, 103.8581186)</td>\n",
       "      <td>1.188474</td>\n",
       "    </tr>\n",
       "  </tbody>\n",
       "</table>\n",
       "</div>"
      ],
      "text/plain": [
       "                            lat_long  distance_to_nearest_station\n",
       "0  (1.3631439269999999, 103.8581186)                     1.188474"
      ]
     },
     "execution_count": 63,
     "metadata": {},
     "output_type": "execute_result"
    }
   ],
   "source": [
    "station_distance_df.head(1)"
   ]
  },
  {
   "cell_type": "code",
   "execution_count": 64,
   "metadata": {},
   "outputs": [],
   "source": [
    "house_mrt = pd.merge(geo_df, station_distance_df, on='lat_long', how='left')"
   ]
  },
  {
   "cell_type": "code",
   "execution_count": 65,
   "metadata": {},
   "outputs": [],
   "source": [
    "house_mrt = house_mrt.drop_duplicates('full_address')"
   ]
  },
  {
   "cell_type": "code",
   "execution_count": 66,
   "metadata": {},
   "outputs": [
    {
     "data": {
      "text/html": [
       "<div>\n",
       "<style scoped>\n",
       "    .dataframe tbody tr th:only-of-type {\n",
       "        vertical-align: middle;\n",
       "    }\n",
       "\n",
       "    .dataframe tbody tr th {\n",
       "        vertical-align: top;\n",
       "    }\n",
       "\n",
       "    .dataframe thead th {\n",
       "        text-align: right;\n",
       "    }\n",
       "</style>\n",
       "<table border=\"1\" class=\"dataframe\">\n",
       "  <thead>\n",
       "    <tr style=\"text-align: right;\">\n",
       "      <th></th>\n",
       "      <th>SEARCHVAL</th>\n",
       "      <th>BLK_NO</th>\n",
       "      <th>ROAD_NAME</th>\n",
       "      <th>BUILDING</th>\n",
       "      <th>ADDRESS</th>\n",
       "      <th>POSTAL</th>\n",
       "      <th>X</th>\n",
       "      <th>Y</th>\n",
       "      <th>LATITUDE</th>\n",
       "      <th>LONGITUDE</th>\n",
       "      <th>LONGTITUDE</th>\n",
       "      <th>full_address</th>\n",
       "      <th>lat_long</th>\n",
       "      <th>distance_to_nearest_station</th>\n",
       "    </tr>\n",
       "  </thead>\n",
       "  <tbody>\n",
       "    <tr>\n",
       "      <td>0</td>\n",
       "      <td>TECK GHEE HORIZON</td>\n",
       "      <td>472</td>\n",
       "      <td>ANG MO KIO AVENUE 10</td>\n",
       "      <td>TECK GHEE HORIZON</td>\n",
       "      <td>472 ANG MO KIO AVENUE 10 TECK GHEE HORIZON SIN...</td>\n",
       "      <td>560472</td>\n",
       "      <td>30759.94902</td>\n",
       "      <td>38355.05955</td>\n",
       "      <td>1.3631439269999999</td>\n",
       "      <td>103.8581186</td>\n",
       "      <td>103.8581186</td>\n",
       "      <td>472 ANG MO KIO AVENUE 10</td>\n",
       "      <td>(1.3631439269999999, 103.8581186)</td>\n",
       "      <td>1.188474</td>\n",
       "    </tr>\n",
       "    <tr>\n",
       "      <td>1</td>\n",
       "      <td>TECK GHEE HORIZON</td>\n",
       "      <td>475</td>\n",
       "      <td>ANG MO KIO AVENUE 10</td>\n",
       "      <td>TECK GHEE HORIZON</td>\n",
       "      <td>475 ANG MO KIO AVENUE 10 TECK GHEE HORIZON SIN...</td>\n",
       "      <td>560475</td>\n",
       "      <td>30581.59123</td>\n",
       "      <td>38301.87695</td>\n",
       "      <td>1.3626629780000001</td>\n",
       "      <td>103.8565159</td>\n",
       "      <td>103.8565159</td>\n",
       "      <td>475 ANG MO KIO AVENUE 10</td>\n",
       "      <td>(1.3626629780000001, 103.8565159)</td>\n",
       "      <td>1.084940</td>\n",
       "    </tr>\n",
       "    <tr>\n",
       "      <td>2</td>\n",
       "      <td>YIO CHU KANG VIEW</td>\n",
       "      <td>629</td>\n",
       "      <td>ANG MO KIO AVENUE 4</td>\n",
       "      <td>YIO CHU KANG VIEW</td>\n",
       "      <td>629 ANG MO KIO AVENUE 4 YIO CHU KANG VIEW SING...</td>\n",
       "      <td>560629</td>\n",
       "      <td>28789.036030000003</td>\n",
       "      <td>40230.48807</td>\n",
       "      <td>1.38010475</td>\n",
       "      <td>103.84040870000001</td>\n",
       "      <td>103.84040870000001</td>\n",
       "      <td>629 ANG MO KIO AVENUE 4</td>\n",
       "      <td>(1.38010475, 103.84040870000001)</td>\n",
       "      <td>0.514819</td>\n",
       "    </tr>\n",
       "    <tr>\n",
       "      <td>12</td>\n",
       "      <td>CHENG SAN GREEN</td>\n",
       "      <td>546</td>\n",
       "      <td>ANG MO KIO AVENUE 10</td>\n",
       "      <td>CHENG SAN GREEN</td>\n",
       "      <td>546 ANG MO KIO AVENUE 10 CHENG SAN GREEN SINGA...</td>\n",
       "      <td>560546</td>\n",
       "      <td>30637.924160000002</td>\n",
       "      <td>39516.90349</td>\n",
       "      <td>1.373651239</td>\n",
       "      <td>103.8570222</td>\n",
       "      <td>103.8570222</td>\n",
       "      <td>546 ANG MO KIO AVENUE 10</td>\n",
       "      <td>(1.373651239, 103.8570222)</td>\n",
       "      <td>0.962899</td>\n",
       "    </tr>\n",
       "    <tr>\n",
       "      <td>13</td>\n",
       "      <td>YIO CHU KANG VILLE</td>\n",
       "      <td>131</td>\n",
       "      <td>ANG MO KIO AVENUE 3</td>\n",
       "      <td>YIO CHU KANG VILLE</td>\n",
       "      <td>131 ANG MO KIO AVENUE 3 YIO CHU KANG VILLE SIN...</td>\n",
       "      <td>560131</td>\n",
       "      <td>28943.915039999996</td>\n",
       "      <td>39225.43046</td>\n",
       "      <td>1.371015364</td>\n",
       "      <td>103.8418003</td>\n",
       "      <td>103.8418003</td>\n",
       "      <td>131 ANG MO KIO AVENUE 3</td>\n",
       "      <td>(1.371015364, 103.8418003)</td>\n",
       "      <td>0.869779</td>\n",
       "    </tr>\n",
       "    <tr>\n",
       "      <td>...</td>\n",
       "      <td>...</td>\n",
       "      <td>...</td>\n",
       "      <td>...</td>\n",
       "      <td>...</td>\n",
       "      <td>...</td>\n",
       "      <td>...</td>\n",
       "      <td>...</td>\n",
       "      <td>...</td>\n",
       "      <td>...</td>\n",
       "      <td>...</td>\n",
       "      <td>...</td>\n",
       "      <td>...</td>\n",
       "      <td>...</td>\n",
       "      <td>...</td>\n",
       "    </tr>\n",
       "    <tr>\n",
       "      <td>8456</td>\n",
       "      <td>HDB-PASIR RIS</td>\n",
       "      <td>745</td>\n",
       "      <td>PASIR RIS STREET 71</td>\n",
       "      <td>HDB-PASIR RIS</td>\n",
       "      <td>745 PASIR RIS STREET 71 HDB-PASIR RIS SINGAPOR...</td>\n",
       "      <td>510745</td>\n",
       "      <td>39381.33667</td>\n",
       "      <td>40038.77438</td>\n",
       "      <td>1.378368761</td>\n",
       "      <td>103.9355882</td>\n",
       "      <td>103.9355882</td>\n",
       "      <td>745 PASIR RIS STREET 71</td>\n",
       "      <td>(1.378368761, 103.9355882)</td>\n",
       "      <td>1.625110</td>\n",
       "    </tr>\n",
       "    <tr>\n",
       "      <td>8457</td>\n",
       "      <td>COMPASSVALE PLAINS</td>\n",
       "      <td>229</td>\n",
       "      <td>COMPASSVALE WALK</td>\n",
       "      <td>COMPASSVALE PLAINS</td>\n",
       "      <td>229 COMPASSVALE WALK COMPASSVALE PLAINS SINGAP...</td>\n",
       "      <td>540229</td>\n",
       "      <td>35504.655060000005</td>\n",
       "      <td>41177.064139999995</td>\n",
       "      <td>1.3886642880000002</td>\n",
       "      <td>103.9007537</td>\n",
       "      <td>103.9007537</td>\n",
       "      <td>229 COMPASSVALE WALK</td>\n",
       "      <td>(1.3886642880000002, 103.9007537)</td>\n",
       "      <td>0.523917</td>\n",
       "    </tr>\n",
       "    <tr>\n",
       "      <td>8459</td>\n",
       "      <td>COMPASSVALE SOUTH GATE</td>\n",
       "      <td>200B</td>\n",
       "      <td>SENGKANG EAST ROAD</td>\n",
       "      <td>COMPASSVALE SOUTH GATE</td>\n",
       "      <td>200B SENGKANG EAST ROAD COMPASSVALE SOUTH GATE...</td>\n",
       "      <td>542200</td>\n",
       "      <td>34612.343389999995</td>\n",
       "      <td>41000.24076</td>\n",
       "      <td>1.3870653780000002</td>\n",
       "      <td>103.8927356</td>\n",
       "      <td>103.8927356</td>\n",
       "      <td>200B SENGKANG EAST ROAD</td>\n",
       "      <td>(1.3870653780000002, 103.8927356)</td>\n",
       "      <td>0.247308</td>\n",
       "    </tr>\n",
       "    <tr>\n",
       "      <td>8460</td>\n",
       "      <td>HDB-TAMPINES</td>\n",
       "      <td>207</td>\n",
       "      <td>TAMPINES STREET 21</td>\n",
       "      <td>HDB-TAMPINES</td>\n",
       "      <td>207 TAMPINES STREET 21 HDB-TAMPINES SINGAPORE ...</td>\n",
       "      <td>520207</td>\n",
       "      <td>41233.0903</td>\n",
       "      <td>37052.6625</td>\n",
       "      <td>1.3513627119999998</td>\n",
       "      <td>103.9522262</td>\n",
       "      <td>103.9522262</td>\n",
       "      <td>207 TAMPINES STREET 21</td>\n",
       "      <td>(1.3513627119999998, 103.9522262)</td>\n",
       "      <td>0.573466</td>\n",
       "    </tr>\n",
       "    <tr>\n",
       "      <td>8461</td>\n",
       "      <td>HDB-TAMPINES</td>\n",
       "      <td>440</td>\n",
       "      <td>TAMPINES STREET 43</td>\n",
       "      <td>HDB-TAMPINES</td>\n",
       "      <td>440 TAMPINES STREET 43 HDB-TAMPINES SINGAPORE ...</td>\n",
       "      <td>520440</td>\n",
       "      <td>41164.63365</td>\n",
       "      <td>38097.925460000006</td>\n",
       "      <td>1.360815708</td>\n",
       "      <td>103.95161159999999</td>\n",
       "      <td>103.95161159999999</td>\n",
       "      <td>440 TAMPINES STREET 43</td>\n",
       "      <td>(1.360815708, 103.95161159999999)</td>\n",
       "      <td>0.581273</td>\n",
       "    </tr>\n",
       "  </tbody>\n",
       "</table>\n",
       "<p>6455 rows × 14 columns</p>\n",
       "</div>"
      ],
      "text/plain": [
       "                   SEARCHVAL BLK_NO             ROAD_NAME  \\\n",
       "0          TECK GHEE HORIZON    472  ANG MO KIO AVENUE 10   \n",
       "1          TECK GHEE HORIZON    475  ANG MO KIO AVENUE 10   \n",
       "2          YIO CHU KANG VIEW    629   ANG MO KIO AVENUE 4   \n",
       "12           CHENG SAN GREEN    546  ANG MO KIO AVENUE 10   \n",
       "13        YIO CHU KANG VILLE    131   ANG MO KIO AVENUE 3   \n",
       "...                      ...    ...                   ...   \n",
       "8456           HDB-PASIR RIS    745   PASIR RIS STREET 71   \n",
       "8457      COMPASSVALE PLAINS    229      COMPASSVALE WALK   \n",
       "8459  COMPASSVALE SOUTH GATE   200B    SENGKANG EAST ROAD   \n",
       "8460            HDB-TAMPINES    207    TAMPINES STREET 21   \n",
       "8461            HDB-TAMPINES    440    TAMPINES STREET 43   \n",
       "\n",
       "                    BUILDING  \\\n",
       "0          TECK GHEE HORIZON   \n",
       "1          TECK GHEE HORIZON   \n",
       "2          YIO CHU KANG VIEW   \n",
       "12           CHENG SAN GREEN   \n",
       "13        YIO CHU KANG VILLE   \n",
       "...                      ...   \n",
       "8456           HDB-PASIR RIS   \n",
       "8457      COMPASSVALE PLAINS   \n",
       "8459  COMPASSVALE SOUTH GATE   \n",
       "8460            HDB-TAMPINES   \n",
       "8461            HDB-TAMPINES   \n",
       "\n",
       "                                                ADDRESS  POSTAL  \\\n",
       "0     472 ANG MO KIO AVENUE 10 TECK GHEE HORIZON SIN...  560472   \n",
       "1     475 ANG MO KIO AVENUE 10 TECK GHEE HORIZON SIN...  560475   \n",
       "2     629 ANG MO KIO AVENUE 4 YIO CHU KANG VIEW SING...  560629   \n",
       "12    546 ANG MO KIO AVENUE 10 CHENG SAN GREEN SINGA...  560546   \n",
       "13    131 ANG MO KIO AVENUE 3 YIO CHU KANG VILLE SIN...  560131   \n",
       "...                                                 ...     ...   \n",
       "8456  745 PASIR RIS STREET 71 HDB-PASIR RIS SINGAPOR...  510745   \n",
       "8457  229 COMPASSVALE WALK COMPASSVALE PLAINS SINGAP...  540229   \n",
       "8459  200B SENGKANG EAST ROAD COMPASSVALE SOUTH GATE...  542200   \n",
       "8460  207 TAMPINES STREET 21 HDB-TAMPINES SINGAPORE ...  520207   \n",
       "8461  440 TAMPINES STREET 43 HDB-TAMPINES SINGAPORE ...  520440   \n",
       "\n",
       "                       X                   Y            LATITUDE  \\\n",
       "0            30759.94902         38355.05955  1.3631439269999999   \n",
       "1            30581.59123         38301.87695  1.3626629780000001   \n",
       "2     28789.036030000003         40230.48807          1.38010475   \n",
       "12    30637.924160000002         39516.90349         1.373651239   \n",
       "13    28943.915039999996         39225.43046         1.371015364   \n",
       "...                  ...                 ...                 ...   \n",
       "8456         39381.33667         40038.77438         1.378368761   \n",
       "8457  35504.655060000005  41177.064139999995  1.3886642880000002   \n",
       "8459  34612.343389999995         41000.24076  1.3870653780000002   \n",
       "8460          41233.0903          37052.6625  1.3513627119999998   \n",
       "8461         41164.63365  38097.925460000006         1.360815708   \n",
       "\n",
       "               LONGITUDE          LONGTITUDE              full_address  \\\n",
       "0            103.8581186         103.8581186  472 ANG MO KIO AVENUE 10   \n",
       "1            103.8565159         103.8565159  475 ANG MO KIO AVENUE 10   \n",
       "2     103.84040870000001  103.84040870000001   629 ANG MO KIO AVENUE 4   \n",
       "12           103.8570222         103.8570222  546 ANG MO KIO AVENUE 10   \n",
       "13           103.8418003         103.8418003   131 ANG MO KIO AVENUE 3   \n",
       "...                  ...                 ...                       ...   \n",
       "8456         103.9355882         103.9355882   745 PASIR RIS STREET 71   \n",
       "8457         103.9007537         103.9007537      229 COMPASSVALE WALK   \n",
       "8459         103.8927356         103.8927356   200B SENGKANG EAST ROAD   \n",
       "8460         103.9522262         103.9522262    207 TAMPINES STREET 21   \n",
       "8461  103.95161159999999  103.95161159999999    440 TAMPINES STREET 43   \n",
       "\n",
       "                               lat_long  distance_to_nearest_station  \n",
       "0     (1.3631439269999999, 103.8581186)                     1.188474  \n",
       "1     (1.3626629780000001, 103.8565159)                     1.084940  \n",
       "2      (1.38010475, 103.84040870000001)                     0.514819  \n",
       "12           (1.373651239, 103.8570222)                     0.962899  \n",
       "13           (1.371015364, 103.8418003)                     0.869779  \n",
       "...                                 ...                          ...  \n",
       "8456         (1.378368761, 103.9355882)                     1.625110  \n",
       "8457  (1.3886642880000002, 103.9007537)                     0.523917  \n",
       "8459  (1.3870653780000002, 103.8927356)                     0.247308  \n",
       "8460  (1.3513627119999998, 103.9522262)                     0.573466  \n",
       "8461  (1.360815708, 103.95161159999999)                     0.581273  \n",
       "\n",
       "[6455 rows x 14 columns]"
      ]
     },
     "execution_count": 66,
     "metadata": {},
     "output_type": "execute_result"
    }
   ],
   "source": [
    "house_mrt"
   ]
  },
  {
   "cell_type": "code",
   "execution_count": 67,
   "metadata": {},
   "outputs": [],
   "source": [
    "df_raffles_mrt = [{'x': 30021.21296, 'y': 29670.828269999998, 'latitude': 1.284606874, 'longitude': 103.85148000000001, 'lat_long':(1.284606874,103.85148000000001) }]\n",
    "df_raffles_mrt =  pd.DataFrame(df_raffles_mrt, columns =['x', 'y', 'latitude', 'longitude', 'lat_long'])\n",
    "raffles_mrt_list = list(df_raffles_mrt.T.iloc[-1,:])"
   ]
  },
  {
   "cell_type": "code",
   "execution_count": 68,
   "metadata": {},
   "outputs": [
    {
     "data": {
      "text/html": [
       "<div>\n",
       "<style scoped>\n",
       "    .dataframe tbody tr th:only-of-type {\n",
       "        vertical-align: middle;\n",
       "    }\n",
       "\n",
       "    .dataframe tbody tr th {\n",
       "        vertical-align: top;\n",
       "    }\n",
       "\n",
       "    .dataframe thead th {\n",
       "        text-align: right;\n",
       "    }\n",
       "</style>\n",
       "<table border=\"1\" class=\"dataframe\">\n",
       "  <thead>\n",
       "    <tr style=\"text-align: right;\">\n",
       "      <th></th>\n",
       "      <th>x</th>\n",
       "      <th>y</th>\n",
       "      <th>latitude</th>\n",
       "      <th>longitude</th>\n",
       "      <th>lat_long</th>\n",
       "    </tr>\n",
       "  </thead>\n",
       "  <tbody>\n",
       "    <tr>\n",
       "      <td>0</td>\n",
       "      <td>30021.21296</td>\n",
       "      <td>29670.82827</td>\n",
       "      <td>1.284607</td>\n",
       "      <td>103.85148</td>\n",
       "      <td>(1.284606874, 103.85148000000001)</td>\n",
       "    </tr>\n",
       "  </tbody>\n",
       "</table>\n",
       "</div>"
      ],
      "text/plain": [
       "             x            y  latitude  longitude  \\\n",
       "0  30021.21296  29670.82827  1.284607  103.85148   \n",
       "\n",
       "                            lat_long  \n",
       "0  (1.284606874, 103.85148000000001)  "
      ]
     },
     "execution_count": 68,
     "metadata": {},
     "output_type": "execute_result"
    }
   ],
   "source": [
    "df_raffles_mrt.head()"
   ]
  },
  {
   "cell_type": "code",
   "execution_count": 69,
   "metadata": {},
   "outputs": [],
   "source": [
    "#get the distance to raffles mrt which is the proxy used for city\n",
    "raffles_station_distance_df = pd.DataFrame(geo_df[\"lat_long\"])\n",
    "for x in raffles_mrt_list:\n",
    "    raffles_station_distance_df[x]=geo_df['lat_long'].apply(lambda y: geopy.distance.distance(y, x).km)"
   ]
  },
  {
   "cell_type": "code",
   "execution_count": 70,
   "metadata": {},
   "outputs": [],
   "source": [
    "raffles_station_distance_df['distance_to_city'] = raffles_station_distance_df.iloc[:,1:].apply(lambda x: min(x), axis=1)"
   ]
  },
  {
   "cell_type": "code",
   "execution_count": 71,
   "metadata": {},
   "outputs": [],
   "source": [
    "raffles_station_distance_df = raffles_station_distance_df.iloc[:,[0,-1]]"
   ]
  },
  {
   "cell_type": "code",
   "execution_count": 72,
   "metadata": {},
   "outputs": [
    {
     "data": {
      "text/html": [
       "<div>\n",
       "<style scoped>\n",
       "    .dataframe tbody tr th:only-of-type {\n",
       "        vertical-align: middle;\n",
       "    }\n",
       "\n",
       "    .dataframe tbody tr th {\n",
       "        vertical-align: top;\n",
       "    }\n",
       "\n",
       "    .dataframe thead th {\n",
       "        text-align: right;\n",
       "    }\n",
       "</style>\n",
       "<table border=\"1\" class=\"dataframe\">\n",
       "  <thead>\n",
       "    <tr style=\"text-align: right;\">\n",
       "      <th></th>\n",
       "      <th>lat_long</th>\n",
       "      <th>distance_to_city</th>\n",
       "    </tr>\n",
       "  </thead>\n",
       "  <tbody>\n",
       "    <tr>\n",
       "      <td>0</td>\n",
       "      <td>(1.3631439269999999, 103.8581186)</td>\n",
       "      <td>8.715595</td>\n",
       "    </tr>\n",
       "    <tr>\n",
       "      <td>0</td>\n",
       "      <td>(1.3626629780000001, 103.8565159)</td>\n",
       "      <td>8.649220</td>\n",
       "    </tr>\n",
       "    <tr>\n",
       "      <td>0</td>\n",
       "      <td>(1.38010475, 103.84040870000001)</td>\n",
       "      <td>10.631306</td>\n",
       "    </tr>\n",
       "    <tr>\n",
       "      <td>1</td>\n",
       "      <td>(1.380104651, 103.84040870000001)</td>\n",
       "      <td>10.631295</td>\n",
       "    </tr>\n",
       "    <tr>\n",
       "      <td>2</td>\n",
       "      <td>(1.380104651, 103.84040870000001)</td>\n",
       "      <td>10.631295</td>\n",
       "    </tr>\n",
       "    <tr>\n",
       "      <td>...</td>\n",
       "      <td>...</td>\n",
       "      <td>...</td>\n",
       "    </tr>\n",
       "    <tr>\n",
       "      <td>0</td>\n",
       "      <td>(1.3886642880000002, 103.9007537)</td>\n",
       "      <td>12.746038</td>\n",
       "    </tr>\n",
       "    <tr>\n",
       "      <td>1</td>\n",
       "      <td>(1.3886642809999998, 103.9007537)</td>\n",
       "      <td>12.746037</td>\n",
       "    </tr>\n",
       "    <tr>\n",
       "      <td>0</td>\n",
       "      <td>(1.3870653780000002, 103.8927356)</td>\n",
       "      <td>12.224321</td>\n",
       "    </tr>\n",
       "    <tr>\n",
       "      <td>0</td>\n",
       "      <td>(1.3513627119999998, 103.9522262)</td>\n",
       "      <td>13.423758</td>\n",
       "    </tr>\n",
       "    <tr>\n",
       "      <td>0</td>\n",
       "      <td>(1.360815708, 103.95161159999999)</td>\n",
       "      <td>13.971096</td>\n",
       "    </tr>\n",
       "  </tbody>\n",
       "</table>\n",
       "<p>8074 rows × 2 columns</p>\n",
       "</div>"
      ],
      "text/plain": [
       "                             lat_long  distance_to_city\n",
       "0   (1.3631439269999999, 103.8581186)          8.715595\n",
       "0   (1.3626629780000001, 103.8565159)          8.649220\n",
       "0    (1.38010475, 103.84040870000001)         10.631306\n",
       "1   (1.380104651, 103.84040870000001)         10.631295\n",
       "2   (1.380104651, 103.84040870000001)         10.631295\n",
       "..                                ...               ...\n",
       "0   (1.3886642880000002, 103.9007537)         12.746038\n",
       "1   (1.3886642809999998, 103.9007537)         12.746037\n",
       "0   (1.3870653780000002, 103.8927356)         12.224321\n",
       "0   (1.3513627119999998, 103.9522262)         13.423758\n",
       "0   (1.360815708, 103.95161159999999)         13.971096\n",
       "\n",
       "[8074 rows x 2 columns]"
      ]
     },
     "execution_count": 72,
     "metadata": {},
     "output_type": "execute_result"
    }
   ],
   "source": [
    "raffles_station_distance_df"
   ]
  },
  {
   "cell_type": "code",
   "execution_count": 73,
   "metadata": {},
   "outputs": [],
   "source": [
    "house_mrt_city = pd.merge(house_mrt, raffles_station_distance_df, on='lat_long', how='left')"
   ]
  },
  {
   "cell_type": "code",
   "execution_count": 74,
   "metadata": {},
   "outputs": [],
   "source": [
    "house_mrt_city = house_mrt_city.drop_duplicates('full_address')"
   ]
  },
  {
   "cell_type": "code",
   "execution_count": 75,
   "metadata": {},
   "outputs": [],
   "source": [
    "#obtain the hdb property information dataset with additional information \n",
    "\n",
    "payload = \"------WebKitFormBoundary7MA4YWxkTrZu0gW\\r\\nContent-Disposition: form-data; name=\\\"searchVal\\\"\\r\\n\\r\\n\\r\\n------WebKitFormBoundary7MA4YWxkTrZu0gW\\r\\nContent-Disposition: form-data; name=\\\"returnGeom {Y/N}\\\"\\r\\n\\r\\n\\r\\n------WebKitFormBoundary7MA4YWxkTrZu0gW\\r\\nContent-Disposition: form-data; name=\\\"getAddrDetails {Y/N}\\\"\\r\\n\\r\\n\\r\\n------WebKitFormBoundary7MA4YWxkTrZu0gW\\r\\nContent-Disposition: form-data; name=\\\"pageNum\\\"\\r\\n\\r\\n\\r\\n------WebKitFormBoundary7MA4YWxkTrZu0gW--\"\n",
    "headers = {\n",
    "'content-type': \"multipart/form-data; boundary=----WebKitFormBoundary7MA4YWxkTrZu0gW\",\n",
    "'Cache-Control': \"no-cache\",\n",
    "'Postman-Token': \"5f4af03e-410e-4b28-93bc-05006b4de49a\"\n",
    " }\n",
    "url = 'https://data.gov.sg/api/action/datastore_search?resource_id=482bfa14-2977-4035-9c61-c85f871daf4e&limit=100000'\n",
    "   \n",
    "response = requests.request(\"GET\", url, data=payload, headers=headers)\n",
    "x=response.json()"
   ]
  },
  {
   "cell_type": "code",
   "execution_count": 76,
   "metadata": {},
   "outputs": [],
   "source": [
    "hdb_amenities= pd.DataFrame()\n",
    "for entry in range(len(x)):\n",
    "    temp_df = pd.DataFrame.from_dict(x['result']['records'])\n",
    "    hdb_amenities=hdb_amenities.append(temp_df)"
   ]
  },
  {
   "cell_type": "code",
   "execution_count": 77,
   "metadata": {},
   "outputs": [
    {
     "data": {
      "text/html": [
       "<div>\n",
       "<style scoped>\n",
       "    .dataframe tbody tr th:only-of-type {\n",
       "        vertical-align: middle;\n",
       "    }\n",
       "\n",
       "    .dataframe tbody tr th {\n",
       "        vertical-align: top;\n",
       "    }\n",
       "\n",
       "    .dataframe thead th {\n",
       "        text-align: right;\n",
       "    }\n",
       "</style>\n",
       "<table border=\"1\" class=\"dataframe\">\n",
       "  <thead>\n",
       "    <tr style=\"text-align: right;\">\n",
       "      <th></th>\n",
       "      <th>year_completed</th>\n",
       "      <th>multigen_sold</th>\n",
       "      <th>bldg_contract_town</th>\n",
       "      <th>multistorey_carpark</th>\n",
       "      <th>street</th>\n",
       "      <th>total_dwelling_units</th>\n",
       "      <th>blk_no</th>\n",
       "      <th>exec_sold</th>\n",
       "      <th>max_floor_lvl</th>\n",
       "      <th>residential</th>\n",
       "      <th>...</th>\n",
       "      <th>commercial</th>\n",
       "      <th>4room_sold</th>\n",
       "      <th>miscellaneous</th>\n",
       "      <th>studio_apartment_sold</th>\n",
       "      <th>2room_rental</th>\n",
       "      <th>2room_sold</th>\n",
       "      <th>1room_rental</th>\n",
       "      <th>3room_rental</th>\n",
       "      <th>market_hawker</th>\n",
       "      <th>_id</th>\n",
       "    </tr>\n",
       "  </thead>\n",
       "  <tbody>\n",
       "    <tr>\n",
       "      <td>0</td>\n",
       "      <td>1973</td>\n",
       "      <td>0</td>\n",
       "      <td>CT</td>\n",
       "      <td>N</td>\n",
       "      <td>CHIN SWEE RD</td>\n",
       "      <td>272</td>\n",
       "      <td>52</td>\n",
       "      <td>0</td>\n",
       "      <td>20</td>\n",
       "      <td>Y</td>\n",
       "      <td>...</td>\n",
       "      <td>Y</td>\n",
       "      <td>0</td>\n",
       "      <td>N</td>\n",
       "      <td>0</td>\n",
       "      <td>1</td>\n",
       "      <td>0</td>\n",
       "      <td>271</td>\n",
       "      <td>0</td>\n",
       "      <td>N</td>\n",
       "      <td>1</td>\n",
       "    </tr>\n",
       "    <tr>\n",
       "      <td>1</td>\n",
       "      <td>1965</td>\n",
       "      <td>0</td>\n",
       "      <td>GL</td>\n",
       "      <td>N</td>\n",
       "      <td>CIRCUIT RD</td>\n",
       "      <td>120</td>\n",
       "      <td>52</td>\n",
       "      <td>0</td>\n",
       "      <td>10</td>\n",
       "      <td>Y</td>\n",
       "      <td>...</td>\n",
       "      <td>N</td>\n",
       "      <td>0</td>\n",
       "      <td>N</td>\n",
       "      <td>0</td>\n",
       "      <td>78</td>\n",
       "      <td>22</td>\n",
       "      <td>0</td>\n",
       "      <td>1</td>\n",
       "      <td>N</td>\n",
       "      <td>2</td>\n",
       "    </tr>\n",
       "    <tr>\n",
       "      <td>2</td>\n",
       "      <td>2011</td>\n",
       "      <td>0</td>\n",
       "      <td>BM</td>\n",
       "      <td>N</td>\n",
       "      <td>HAVELOCK RD</td>\n",
       "      <td>184</td>\n",
       "      <td>52</td>\n",
       "      <td>0</td>\n",
       "      <td>35</td>\n",
       "      <td>Y</td>\n",
       "      <td>...</td>\n",
       "      <td>N</td>\n",
       "      <td>68</td>\n",
       "      <td>N</td>\n",
       "      <td>47</td>\n",
       "      <td>0</td>\n",
       "      <td>1</td>\n",
       "      <td>0</td>\n",
       "      <td>0</td>\n",
       "      <td>N</td>\n",
       "      <td>3</td>\n",
       "    </tr>\n",
       "    <tr>\n",
       "      <td>3</td>\n",
       "      <td>1959</td>\n",
       "      <td>0</td>\n",
       "      <td>KWN</td>\n",
       "      <td>N</td>\n",
       "      <td>JLN BAHAGIA</td>\n",
       "      <td>6</td>\n",
       "      <td>52</td>\n",
       "      <td>0</td>\n",
       "      <td>2</td>\n",
       "      <td>Y</td>\n",
       "      <td>...</td>\n",
       "      <td>N</td>\n",
       "      <td>0</td>\n",
       "      <td>N</td>\n",
       "      <td>0</td>\n",
       "      <td>0</td>\n",
       "      <td>0</td>\n",
       "      <td>0</td>\n",
       "      <td>0</td>\n",
       "      <td>N</td>\n",
       "      <td>4</td>\n",
       "    </tr>\n",
       "    <tr>\n",
       "      <td>4</td>\n",
       "      <td>1981</td>\n",
       "      <td>0</td>\n",
       "      <td>KWN</td>\n",
       "      <td>N</td>\n",
       "      <td>KENT RD</td>\n",
       "      <td>127</td>\n",
       "      <td>52</td>\n",
       "      <td>0</td>\n",
       "      <td>12</td>\n",
       "      <td>Y</td>\n",
       "      <td>...</td>\n",
       "      <td>N</td>\n",
       "      <td>127</td>\n",
       "      <td>Y</td>\n",
       "      <td>0</td>\n",
       "      <td>0</td>\n",
       "      <td>0</td>\n",
       "      <td>0</td>\n",
       "      <td>0</td>\n",
       "      <td>N</td>\n",
       "      <td>5</td>\n",
       "    </tr>\n",
       "  </tbody>\n",
       "</table>\n",
       "<p>5 rows × 25 columns</p>\n",
       "</div>"
      ],
      "text/plain": [
       "  year_completed multigen_sold bldg_contract_town multistorey_carpark  \\\n",
       "0           1973             0                 CT                   N   \n",
       "1           1965             0                 GL                   N   \n",
       "2           2011             0                 BM                   N   \n",
       "3           1959             0                KWN                   N   \n",
       "4           1981             0                KWN                   N   \n",
       "\n",
       "         street total_dwelling_units blk_no exec_sold max_floor_lvl  \\\n",
       "0  CHIN SWEE RD                  272     52         0            20   \n",
       "1    CIRCUIT RD                  120     52         0            10   \n",
       "2   HAVELOCK RD                  184     52         0            35   \n",
       "3   JLN BAHAGIA                    6     52         0             2   \n",
       "4       KENT RD                  127     52         0            12   \n",
       "\n",
       "  residential  ... commercial 4room_sold miscellaneous studio_apartment_sold  \\\n",
       "0           Y  ...          Y          0             N                     0   \n",
       "1           Y  ...          N          0             N                     0   \n",
       "2           Y  ...          N         68             N                    47   \n",
       "3           Y  ...          N          0             N                     0   \n",
       "4           Y  ...          N        127             Y                     0   \n",
       "\n",
       "  2room_rental 2room_sold 1room_rental 3room_rental market_hawker _id  \n",
       "0            1          0          271            0             N   1  \n",
       "1           78         22            0            1             N   2  \n",
       "2            0          1            0            0             N   3  \n",
       "3            0          0            0            0             N   4  \n",
       "4            0          0            0            0             N   5  \n",
       "\n",
       "[5 rows x 25 columns]"
      ]
     },
     "execution_count": 77,
     "metadata": {},
     "output_type": "execute_result"
    }
   ],
   "source": [
    "hdb_amenities.head()"
   ]
  },
  {
   "cell_type": "code",
   "execution_count": 78,
   "metadata": {},
   "outputs": [
    {
     "data": {
      "text/plain": [
       "Index(['year_completed', 'multigen_sold', 'bldg_contract_town',\n",
       "       'multistorey_carpark', 'street', 'total_dwelling_units', 'blk_no',\n",
       "       'exec_sold', 'max_floor_lvl', 'residential', '1room_sold',\n",
       "       'precinct_pavilion', 'other_room_rental', '5room_sold', '3room_sold',\n",
       "       'commercial', '4room_sold', 'miscellaneous', 'studio_apartment_sold',\n",
       "       '2room_rental', '2room_sold', '1room_rental', '3room_rental',\n",
       "       'market_hawker', '_id'],\n",
       "      dtype='object')"
      ]
     },
     "execution_count": 78,
     "metadata": {},
     "output_type": "execute_result"
    }
   ],
   "source": [
    "hdb_amenities.columns"
   ]
  },
  {
   "cell_type": "code",
   "execution_count": 81,
   "metadata": {},
   "outputs": [],
   "source": [
    "hdb_amenities= hdb_amenities.drop(['_id', 'bldg_contract_town', '1room_sold',\n",
    "       'other_room_rental', '5room_sold', '3room_sold',\n",
    "        '4room_sold', 'miscellaneous', 'studio_apartment_sold',\n",
    "       '2room_rental', '2room_sold', '1room_rental', '3room_rental','max_floor_lvl'], axis=1)"
   ]
  },
  {
   "cell_type": "code",
   "execution_count": 82,
   "metadata": {},
   "outputs": [],
   "source": [
    "new2= hdb_amenities['street'].copy()\n",
    "hdb_amenities['full_address'] = hdb_amenities['blk_no'].str.cat(new2, sep=\" \")\n"
   ]
  },
  {
   "cell_type": "code",
   "execution_count": 83,
   "metadata": {},
   "outputs": [
    {
     "data": {
      "text/html": [
       "<div>\n",
       "<style scoped>\n",
       "    .dataframe tbody tr th:only-of-type {\n",
       "        vertical-align: middle;\n",
       "    }\n",
       "\n",
       "    .dataframe tbody tr th {\n",
       "        vertical-align: top;\n",
       "    }\n",
       "\n",
       "    .dataframe thead th {\n",
       "        text-align: right;\n",
       "    }\n",
       "</style>\n",
       "<table border=\"1\" class=\"dataframe\">\n",
       "  <thead>\n",
       "    <tr style=\"text-align: right;\">\n",
       "      <th></th>\n",
       "      <th>year_completed</th>\n",
       "      <th>multigen_sold</th>\n",
       "      <th>multistorey_carpark</th>\n",
       "      <th>street</th>\n",
       "      <th>total_dwelling_units</th>\n",
       "      <th>blk_no</th>\n",
       "      <th>exec_sold</th>\n",
       "      <th>residential</th>\n",
       "      <th>precinct_pavilion</th>\n",
       "      <th>commercial</th>\n",
       "      <th>market_hawker</th>\n",
       "      <th>full_address</th>\n",
       "    </tr>\n",
       "  </thead>\n",
       "  <tbody>\n",
       "    <tr>\n",
       "      <td>0</td>\n",
       "      <td>1973</td>\n",
       "      <td>0</td>\n",
       "      <td>N</td>\n",
       "      <td>CHIN SWEE RD</td>\n",
       "      <td>272</td>\n",
       "      <td>52</td>\n",
       "      <td>0</td>\n",
       "      <td>Y</td>\n",
       "      <td>N</td>\n",
       "      <td>Y</td>\n",
       "      <td>N</td>\n",
       "      <td>52 CHIN SWEE RD</td>\n",
       "    </tr>\n",
       "    <tr>\n",
       "      <td>1</td>\n",
       "      <td>1965</td>\n",
       "      <td>0</td>\n",
       "      <td>N</td>\n",
       "      <td>CIRCUIT RD</td>\n",
       "      <td>120</td>\n",
       "      <td>52</td>\n",
       "      <td>0</td>\n",
       "      <td>Y</td>\n",
       "      <td>N</td>\n",
       "      <td>N</td>\n",
       "      <td>N</td>\n",
       "      <td>52 CIRCUIT RD</td>\n",
       "    </tr>\n",
       "    <tr>\n",
       "      <td>2</td>\n",
       "      <td>2011</td>\n",
       "      <td>0</td>\n",
       "      <td>N</td>\n",
       "      <td>HAVELOCK RD</td>\n",
       "      <td>184</td>\n",
       "      <td>52</td>\n",
       "      <td>0</td>\n",
       "      <td>Y</td>\n",
       "      <td>N</td>\n",
       "      <td>N</td>\n",
       "      <td>N</td>\n",
       "      <td>52 HAVELOCK RD</td>\n",
       "    </tr>\n",
       "    <tr>\n",
       "      <td>3</td>\n",
       "      <td>1959</td>\n",
       "      <td>0</td>\n",
       "      <td>N</td>\n",
       "      <td>JLN BAHAGIA</td>\n",
       "      <td>6</td>\n",
       "      <td>52</td>\n",
       "      <td>0</td>\n",
       "      <td>Y</td>\n",
       "      <td>N</td>\n",
       "      <td>N</td>\n",
       "      <td>N</td>\n",
       "      <td>52 JLN BAHAGIA</td>\n",
       "    </tr>\n",
       "    <tr>\n",
       "      <td>4</td>\n",
       "      <td>1981</td>\n",
       "      <td>0</td>\n",
       "      <td>N</td>\n",
       "      <td>KENT RD</td>\n",
       "      <td>127</td>\n",
       "      <td>52</td>\n",
       "      <td>0</td>\n",
       "      <td>Y</td>\n",
       "      <td>N</td>\n",
       "      <td>N</td>\n",
       "      <td>N</td>\n",
       "      <td>52 KENT RD</td>\n",
       "    </tr>\n",
       "  </tbody>\n",
       "</table>\n",
       "</div>"
      ],
      "text/plain": [
       "  year_completed multigen_sold multistorey_carpark        street  \\\n",
       "0           1973             0                   N  CHIN SWEE RD   \n",
       "1           1965             0                   N    CIRCUIT RD   \n",
       "2           2011             0                   N   HAVELOCK RD   \n",
       "3           1959             0                   N   JLN BAHAGIA   \n",
       "4           1981             0                   N       KENT RD   \n",
       "\n",
       "  total_dwelling_units blk_no exec_sold residential precinct_pavilion  \\\n",
       "0                  272     52         0           Y                 N   \n",
       "1                  120     52         0           Y                 N   \n",
       "2                  184     52         0           Y                 N   \n",
       "3                    6     52         0           Y                 N   \n",
       "4                  127     52         0           Y                 N   \n",
       "\n",
       "  commercial market_hawker     full_address  \n",
       "0          Y             N  52 CHIN SWEE RD  \n",
       "1          N             N    52 CIRCUIT RD  \n",
       "2          N             N   52 HAVELOCK RD  \n",
       "3          N             N   52 JLN BAHAGIA  \n",
       "4          N             N       52 KENT RD  "
      ]
     },
     "execution_count": 83,
     "metadata": {},
     "output_type": "execute_result"
    }
   ],
   "source": [
    "hdb_amenities.head()"
   ]
  },
  {
   "cell_type": "code",
   "execution_count": 84,
   "metadata": {},
   "outputs": [],
   "source": [
    "house_mrt_city['full_address'] = house_mrt_city['full_address'].str.replace('AVENUE', 'AVE') \\\n",
    "                                    .str.replace('CRESCENT', 'CRES') \\\n",
    "                                    .str.replace('ROAD', 'RD') \\\n",
    "                                    .str.replace('STREET', 'ST') \\\n",
    "                                    .str.replace('CENTRAL', 'CTRL') \\\n",
    "                                    .str.replace('HEIGHTS', 'HTS') \\\n",
    "                                    .str.replace('TERRACE', 'TER') \\\n",
    "                                    .str.replace('JALAN', 'JLN') \\\n",
    "                                    .str.replace('DRIVE', 'DR') \\\n",
    "                                    .str.replace('PLACE', 'PL') \\\n",
    "                                    .str.replace('CLOSE', 'CL') \\\n",
    "                                    .str.replace('PARK', 'PK') \\\n",
    "                                    .str.replace('GARDENS', 'GDNS') \\\n",
    "                                    .str.replace('NORTH', 'NTH') \\\n",
    "                                    .str.replace('SOUTH', 'STH') \\\n",
    "                                    .str.replace('BUKIT', 'BT') \\\n",
    "                                    .str.replace('UPPER', 'UPP}') \\\n",
    "                                    .str.replace('COMMONWEALTH', \"C'WEALTH\") \\\n",
    "                                    .str.replace('KAMPONG', \"KG\") \\\n",
    "                                    .str.replace('LORONG', \"LOR\") \\\n",
    "                                    .str.replace('TANJONG', \"TG\") \\\n",
    "                                    .str.replace('INDUSTRIAL', \"IND\") \\\n",
    "                                    \n",
    "                                    "
   ]
  },
  {
   "cell_type": "code",
   "execution_count": 85,
   "metadata": {},
   "outputs": [],
   "source": [
    "hdb_amentities = hdb_amenities[hdb_amenities['residential']== 'Y']"
   ]
  },
  {
   "cell_type": "code",
   "execution_count": 86,
   "metadata": {},
   "outputs": [
    {
     "data": {
      "text/html": [
       "<div>\n",
       "<style scoped>\n",
       "    .dataframe tbody tr th:only-of-type {\n",
       "        vertical-align: middle;\n",
       "    }\n",
       "\n",
       "    .dataframe tbody tr th {\n",
       "        vertical-align: top;\n",
       "    }\n",
       "\n",
       "    .dataframe thead th {\n",
       "        text-align: right;\n",
       "    }\n",
       "</style>\n",
       "<table border=\"1\" class=\"dataframe\">\n",
       "  <thead>\n",
       "    <tr style=\"text-align: right;\">\n",
       "      <th></th>\n",
       "      <th>year_completed</th>\n",
       "      <th>multigen_sold</th>\n",
       "      <th>multistorey_carpark</th>\n",
       "      <th>street</th>\n",
       "      <th>total_dwelling_units</th>\n",
       "      <th>blk_no</th>\n",
       "      <th>exec_sold</th>\n",
       "      <th>residential</th>\n",
       "      <th>precinct_pavilion</th>\n",
       "      <th>commercial</th>\n",
       "      <th>market_hawker</th>\n",
       "      <th>full_address</th>\n",
       "    </tr>\n",
       "  </thead>\n",
       "  <tbody>\n",
       "    <tr>\n",
       "      <td>0</td>\n",
       "      <td>1973</td>\n",
       "      <td>0</td>\n",
       "      <td>N</td>\n",
       "      <td>CHIN SWEE RD</td>\n",
       "      <td>272</td>\n",
       "      <td>52</td>\n",
       "      <td>0</td>\n",
       "      <td>Y</td>\n",
       "      <td>N</td>\n",
       "      <td>Y</td>\n",
       "      <td>N</td>\n",
       "      <td>52 CHIN SWEE RD</td>\n",
       "    </tr>\n",
       "    <tr>\n",
       "      <td>1</td>\n",
       "      <td>1965</td>\n",
       "      <td>0</td>\n",
       "      <td>N</td>\n",
       "      <td>CIRCUIT RD</td>\n",
       "      <td>120</td>\n",
       "      <td>52</td>\n",
       "      <td>0</td>\n",
       "      <td>Y</td>\n",
       "      <td>N</td>\n",
       "      <td>N</td>\n",
       "      <td>N</td>\n",
       "      <td>52 CIRCUIT RD</td>\n",
       "    </tr>\n",
       "    <tr>\n",
       "      <td>2</td>\n",
       "      <td>2011</td>\n",
       "      <td>0</td>\n",
       "      <td>N</td>\n",
       "      <td>HAVELOCK RD</td>\n",
       "      <td>184</td>\n",
       "      <td>52</td>\n",
       "      <td>0</td>\n",
       "      <td>Y</td>\n",
       "      <td>N</td>\n",
       "      <td>N</td>\n",
       "      <td>N</td>\n",
       "      <td>52 HAVELOCK RD</td>\n",
       "    </tr>\n",
       "    <tr>\n",
       "      <td>3</td>\n",
       "      <td>1959</td>\n",
       "      <td>0</td>\n",
       "      <td>N</td>\n",
       "      <td>JLN BAHAGIA</td>\n",
       "      <td>6</td>\n",
       "      <td>52</td>\n",
       "      <td>0</td>\n",
       "      <td>Y</td>\n",
       "      <td>N</td>\n",
       "      <td>N</td>\n",
       "      <td>N</td>\n",
       "      <td>52 JLN BAHAGIA</td>\n",
       "    </tr>\n",
       "    <tr>\n",
       "      <td>4</td>\n",
       "      <td>1981</td>\n",
       "      <td>0</td>\n",
       "      <td>N</td>\n",
       "      <td>KENT RD</td>\n",
       "      <td>127</td>\n",
       "      <td>52</td>\n",
       "      <td>0</td>\n",
       "      <td>Y</td>\n",
       "      <td>N</td>\n",
       "      <td>N</td>\n",
       "      <td>N</td>\n",
       "      <td>52 KENT RD</td>\n",
       "    </tr>\n",
       "  </tbody>\n",
       "</table>\n",
       "</div>"
      ],
      "text/plain": [
       "  year_completed multigen_sold multistorey_carpark        street  \\\n",
       "0           1973             0                   N  CHIN SWEE RD   \n",
       "1           1965             0                   N    CIRCUIT RD   \n",
       "2           2011             0                   N   HAVELOCK RD   \n",
       "3           1959             0                   N   JLN BAHAGIA   \n",
       "4           1981             0                   N       KENT RD   \n",
       "\n",
       "  total_dwelling_units blk_no exec_sold residential precinct_pavilion  \\\n",
       "0                  272     52         0           Y                 N   \n",
       "1                  120     52         0           Y                 N   \n",
       "2                  184     52         0           Y                 N   \n",
       "3                    6     52         0           Y                 N   \n",
       "4                  127     52         0           Y                 N   \n",
       "\n",
       "  commercial market_hawker     full_address  \n",
       "0          Y             N  52 CHIN SWEE RD  \n",
       "1          N             N    52 CIRCUIT RD  \n",
       "2          N             N   52 HAVELOCK RD  \n",
       "3          N             N   52 JLN BAHAGIA  \n",
       "4          N             N       52 KENT RD  "
      ]
     },
     "execution_count": 86,
     "metadata": {},
     "output_type": "execute_result"
    }
   ],
   "source": [
    "hdb_amentities.head()"
   ]
  },
  {
   "cell_type": "code",
   "execution_count": 87,
   "metadata": {},
   "outputs": [],
   "source": [
    "df = pd.merge(four_rm, house_mrt_city, on='full_address', how='left')"
   ]
  },
  {
   "cell_type": "code",
   "execution_count": 88,
   "metadata": {},
   "outputs": [
    {
     "data": {
      "text/plain": [
       "(104367, 28)"
      ]
     },
     "execution_count": 88,
     "metadata": {},
     "output_type": "execute_result"
    }
   ],
   "source": [
    "df.shape"
   ]
  },
  {
   "cell_type": "code",
   "execution_count": 89,
   "metadata": {},
   "outputs": [
    {
     "data": {
      "text/plain": [
       "town                             0\n",
       "flat_type                        0\n",
       "flat_model                       0\n",
       "floor_area_sqm                   0\n",
       "street_name                      0\n",
       "resale_price                     0\n",
       "month                            0\n",
       "remaining_lease                  0\n",
       "lease_commence_date              0\n",
       "storey_range                     0\n",
       "block                            0\n",
       "year                             0\n",
       "psf                              0\n",
       "full_address                     0\n",
       "SEARCHVAL                      918\n",
       "BLK_NO                         918\n",
       "ROAD_NAME                      918\n",
       "BUILDING                       918\n",
       "ADDRESS                        918\n",
       "POSTAL                         918\n",
       "X                              918\n",
       "Y                              918\n",
       "LATITUDE                       918\n",
       "LONGITUDE                      918\n",
       "LONGTITUDE                     918\n",
       "lat_long                       918\n",
       "distance_to_nearest_station    918\n",
       "distance_to_city               918\n",
       "dtype: int64"
      ]
     },
     "execution_count": 89,
     "metadata": {},
     "output_type": "execute_result"
    }
   ],
   "source": [
    "df.isnull().sum()"
   ]
  },
  {
   "cell_type": "code",
   "execution_count": 90,
   "metadata": {},
   "outputs": [],
   "source": [
    "flat_ready = pd.merge(df, hdb_amenities, on='full_address', how='left')"
   ]
  },
  {
   "cell_type": "code",
   "execution_count": 91,
   "metadata": {},
   "outputs": [
    {
     "data": {
      "text/plain": [
       "(417645, 39)"
      ]
     },
     "execution_count": 91,
     "metadata": {},
     "output_type": "execute_result"
    }
   ],
   "source": [
    "flat_ready.shape"
   ]
  },
  {
   "cell_type": "code",
   "execution_count": 92,
   "metadata": {},
   "outputs": [
    {
     "data": {
      "text/plain": [
       "town                              0\n",
       "flat_type                         0\n",
       "flat_model                        0\n",
       "floor_area_sqm                    0\n",
       "street_name                       0\n",
       "resale_price                      0\n",
       "month                             0\n",
       "remaining_lease                   0\n",
       "lease_commence_date               0\n",
       "storey_range                      0\n",
       "block                             0\n",
       "year                              0\n",
       "psf                               0\n",
       "full_address                      0\n",
       "SEARCHVAL                      3303\n",
       "BLK_NO                         3303\n",
       "ROAD_NAME                      3303\n",
       "BUILDING                       3303\n",
       "ADDRESS                        3303\n",
       "POSTAL                         3303\n",
       "X                              3303\n",
       "Y                              3303\n",
       "LATITUDE                       3303\n",
       "LONGITUDE                      3303\n",
       "LONGTITUDE                     3303\n",
       "lat_long                       3303\n",
       "distance_to_nearest_station    3303\n",
       "distance_to_city               3303\n",
       "year_completed                    0\n",
       "multigen_sold                     0\n",
       "multistorey_carpark               0\n",
       "street                            0\n",
       "total_dwelling_units              0\n",
       "blk_no                            0\n",
       "exec_sold                         0\n",
       "residential                       0\n",
       "precinct_pavilion                 0\n",
       "commercial                        0\n",
       "market_hawker                     0\n",
       "dtype: int64"
      ]
     },
     "execution_count": 92,
     "metadata": {},
     "output_type": "execute_result"
    }
   ],
   "source": [
    "flat_ready.isnull().sum()"
   ]
  },
  {
   "cell_type": "code",
   "execution_count": 93,
   "metadata": {},
   "outputs": [
    {
     "data": {
      "text/plain": [
       "0        472 ANG MO KIO AVE 10\n",
       "1        472 ANG MO KIO AVE 10\n",
       "2        472 ANG MO KIO AVE 10\n",
       "3        475 ANG MO KIO AVE 10\n",
       "4        475 ANG MO KIO AVE 10\n",
       "                ...           \n",
       "495    771 CHOA CHU KANG ST 54\n",
       "496    771 CHOA CHU KANG ST 54\n",
       "497    771 CHOA CHU KANG ST 54\n",
       "498     229 CHOA CHU KANG CTRL\n",
       "499     229 CHOA CHU KANG CTRL\n",
       "Name: full_address, Length: 500, dtype: object"
      ]
     },
     "execution_count": 93,
     "metadata": {},
     "output_type": "execute_result"
    }
   ],
   "source": [
    "flat_ready['full_address'].head(500)"
   ]
  },
  {
   "cell_type": "code",
   "execution_count": 94,
   "metadata": {},
   "outputs": [
    {
     "data": {
      "text/plain": [
       "(417645, 39)"
      ]
     },
     "execution_count": 94,
     "metadata": {},
     "output_type": "execute_result"
    }
   ],
   "source": [
    "flat_ready.shape"
   ]
  },
  {
   "cell_type": "code",
   "execution_count": 95,
   "metadata": {},
   "outputs": [],
   "source": [
    "flat_ready = flat_ready.dropna()"
   ]
  },
  {
   "cell_type": "code",
   "execution_count": 96,
   "metadata": {},
   "outputs": [
    {
     "data": {
      "text/plain": [
       "town                           0\n",
       "flat_type                      0\n",
       "flat_model                     0\n",
       "floor_area_sqm                 0\n",
       "street_name                    0\n",
       "resale_price                   0\n",
       "month                          0\n",
       "remaining_lease                0\n",
       "lease_commence_date            0\n",
       "storey_range                   0\n",
       "block                          0\n",
       "year                           0\n",
       "psf                            0\n",
       "full_address                   0\n",
       "SEARCHVAL                      0\n",
       "BLK_NO                         0\n",
       "ROAD_NAME                      0\n",
       "BUILDING                       0\n",
       "ADDRESS                        0\n",
       "POSTAL                         0\n",
       "X                              0\n",
       "Y                              0\n",
       "LATITUDE                       0\n",
       "LONGITUDE                      0\n",
       "LONGTITUDE                     0\n",
       "lat_long                       0\n",
       "distance_to_nearest_station    0\n",
       "distance_to_city               0\n",
       "year_completed                 0\n",
       "multigen_sold                  0\n",
       "multistorey_carpark            0\n",
       "street                         0\n",
       "total_dwelling_units           0\n",
       "blk_no                         0\n",
       "exec_sold                      0\n",
       "residential                    0\n",
       "precinct_pavilion              0\n",
       "commercial                     0\n",
       "market_hawker                  0\n",
       "dtype: int64"
      ]
     },
     "execution_count": 96,
     "metadata": {},
     "output_type": "execute_result"
    }
   ],
   "source": [
    "flat_ready.isnull().sum()"
   ]
  },
  {
   "cell_type": "code",
   "execution_count": 97,
   "metadata": {},
   "outputs": [],
   "source": [
    "flat_ready = flat_ready.drop(['block', 'street_name','flat_type', 'full_address', 'SEARCHVAL', 'BLK_NO', 'ROAD_NAME', 'BUILDING', 'ADDRESS', 'POSTAL', 'X',  'Y', 'LATITUDE', 'LONGITUDE', 'LONGTITUDE', 'lat_long', 'blk_no',  'street', 'year_completed'],axis=1)\n",
    "\n"
   ]
  },
  {
   "cell_type": "code",
   "execution_count": 98,
   "metadata": {},
   "outputs": [
    {
     "data": {
      "text/plain": [
       "town                           0\n",
       "flat_model                     0\n",
       "floor_area_sqm                 0\n",
       "resale_price                   0\n",
       "month                          0\n",
       "remaining_lease                0\n",
       "lease_commence_date            0\n",
       "storey_range                   0\n",
       "year                           0\n",
       "psf                            0\n",
       "distance_to_nearest_station    0\n",
       "distance_to_city               0\n",
       "multigen_sold                  0\n",
       "multistorey_carpark            0\n",
       "total_dwelling_units           0\n",
       "exec_sold                      0\n",
       "residential                    0\n",
       "precinct_pavilion              0\n",
       "commercial                     0\n",
       "market_hawker                  0\n",
       "dtype: int64"
      ]
     },
     "execution_count": 98,
     "metadata": {},
     "output_type": "execute_result"
    }
   ],
   "source": [
    "flat_ready.isna().sum()"
   ]
  },
  {
   "cell_type": "code",
   "execution_count": 99,
   "metadata": {},
   "outputs": [
    {
     "data": {
      "text/plain": [
       "<matplotlib.axes._subplots.AxesSubplot at 0x1890b1246c8>"
      ]
     },
     "execution_count": 99,
     "metadata": {},
     "output_type": "execute_result"
    },
    {
     "data": {
      "image/png": "[encoded data removed]",
      "text/plain": [
       "<Figure size 432x288 with 1 Axes>"
      ]
     },
     "metadata": {
      "needs_background": "light"
     },
     "output_type": "display_data"
    }
   ],
   "source": [
    "flat_ready_distance_mrt = flat_ready.groupby(['distance_to_nearest_station'],as_index=True).mean()[['resale_price']]\n",
    "flat_ready_distance_mrt.plot(kind='line')"
   ]
  },
  {
   "cell_type": "code",
   "execution_count": 100,
   "metadata": {},
   "outputs": [
    {
     "data": {
      "text/plain": [
       "<matplotlib.axes._subplots.AxesSubplot at 0x1890b007f48>"
      ]
     },
     "execution_count": 100,
     "metadata": {},
     "output_type": "execute_result"
    },
    {
     "data": {
      "image/png": "[encoded data removed]",
      "text/plain": [
       "<Figure size 432x288 with 1 Axes>"
      ]
     },
     "metadata": {
      "needs_background": "light"
     },
     "output_type": "display_data"
    }
   ],
   "source": [
    "flat_ready_distance_city = flat_ready.groupby(['distance_to_city'],as_index=True).mean()[['resale_price']]\n",
    "flat_ready_distance_city.plot(kind='line')"
   ]
  },
  {
   "cell_type": "code",
   "execution_count": 101,
   "metadata": {},
   "outputs": [],
   "source": [
    "#preparing the data to be able to create dummies and convert to specific data types \n",
    "to_convert= ['year','storey_range','flat_model','residential','market_hawker','town','commercial','multistorey_carpark']\n",
    "\n",
    "target=['resale_price']\n",
    "num_cols= ['distance_to_nearest_station','distance_to_city','psf', 'remaining_lease', 'floor_area_sqm']\n",
    "           \n",
    "cols = to_convert + num_cols + target\n",
    "cat_cols = to_convert\n",
    "\n",
    "flat_ready[cat_cols]= flat_ready[cat_cols].astype('category')\n",
    "flat_ready[num_cols]= flat_ready[num_cols].astype(float)\n",
    "flat_ready_model = flat_ready[cols].copy\n",
    "\n",
    "\n",
    "#'1room_sold','3room_sold','5room_sold','2room_sold','4room_sold','exec_sold','studio_apartment_sold','multigen_sold','1room_rental','2room_rental','3room_rental','other_room_rental'"
   ]
  },
  {
   "cell_type": "code",
   "execution_count": 102,
   "metadata": {},
   "outputs": [],
   "source": [
    "dummies=pd.get_dummies(flat_ready[to_convert], drop_first=True, dtype=float)\n",
    "flat_model = pd.concat([flat_ready[target],flat_ready[num_cols],dummies], axis=1)"
   ]
  },
  {
   "cell_type": "code",
   "execution_count": 103,
   "metadata": {},
   "outputs": [
    {
     "data": {
      "text/html": [
       "<div>\n",
       "<style scoped>\n",
       "    .dataframe tbody tr th:only-of-type {\n",
       "        vertical-align: middle;\n",
       "    }\n",
       "\n",
       "    .dataframe tbody tr th {\n",
       "        vertical-align: top;\n",
       "    }\n",
       "\n",
       "    .dataframe thead th {\n",
       "        text-align: right;\n",
       "    }\n",
       "</style>\n",
       "<table border=\"1\" class=\"dataframe\">\n",
       "  <thead>\n",
       "    <tr style=\"text-align: right;\">\n",
       "      <th></th>\n",
       "      <th>resale_price</th>\n",
       "      <th>distance_to_nearest_station</th>\n",
       "      <th>distance_to_city</th>\n",
       "      <th>psf</th>\n",
       "      <th>remaining_lease</th>\n",
       "      <th>floor_area_sqm</th>\n",
       "      <th>year_2017</th>\n",
       "      <th>year_2018</th>\n",
       "      <th>year_2019</th>\n",
       "      <th>storey_range_04 TO 06</th>\n",
       "      <th>...</th>\n",
       "      <th>town_QUEENSTOWN</th>\n",
       "      <th>town_SEMBAWANG</th>\n",
       "      <th>town_SENGKANG</th>\n",
       "      <th>town_SERANGOON</th>\n",
       "      <th>town_TAMPINES</th>\n",
       "      <th>town_TOA PAYOH</th>\n",
       "      <th>town_WOODLANDS</th>\n",
       "      <th>town_YISHUN</th>\n",
       "      <th>commercial_Y</th>\n",
       "      <th>multistorey_carpark_Y</th>\n",
       "    </tr>\n",
       "  </thead>\n",
       "  <tbody>\n",
       "    <tr>\n",
       "      <td>0</td>\n",
       "      <td>400000.0</td>\n",
       "      <td>1.188474</td>\n",
       "      <td>8.715595</td>\n",
       "      <td>76.0</td>\n",
       "      <td>61.0</td>\n",
       "      <td>92.0</td>\n",
       "      <td>1.0</td>\n",
       "      <td>0.0</td>\n",
       "      <td>0.0</td>\n",
       "      <td>0.0</td>\n",
       "      <td>...</td>\n",
       "      <td>0.0</td>\n",
       "      <td>0.0</td>\n",
       "      <td>0.0</td>\n",
       "      <td>0.0</td>\n",
       "      <td>0.0</td>\n",
       "      <td>0.0</td>\n",
       "      <td>0.0</td>\n",
       "      <td>0.0</td>\n",
       "      <td>0.0</td>\n",
       "      <td>0.0</td>\n",
       "    </tr>\n",
       "    <tr>\n",
       "      <td>1</td>\n",
       "      <td>400000.0</td>\n",
       "      <td>1.188474</td>\n",
       "      <td>8.715595</td>\n",
       "      <td>76.0</td>\n",
       "      <td>61.0</td>\n",
       "      <td>92.0</td>\n",
       "      <td>1.0</td>\n",
       "      <td>0.0</td>\n",
       "      <td>0.0</td>\n",
       "      <td>0.0</td>\n",
       "      <td>...</td>\n",
       "      <td>0.0</td>\n",
       "      <td>0.0</td>\n",
       "      <td>0.0</td>\n",
       "      <td>0.0</td>\n",
       "      <td>0.0</td>\n",
       "      <td>0.0</td>\n",
       "      <td>0.0</td>\n",
       "      <td>0.0</td>\n",
       "      <td>0.0</td>\n",
       "      <td>0.0</td>\n",
       "    </tr>\n",
       "    <tr>\n",
       "      <td>2</td>\n",
       "      <td>400000.0</td>\n",
       "      <td>1.188474</td>\n",
       "      <td>8.715595</td>\n",
       "      <td>76.0</td>\n",
       "      <td>61.0</td>\n",
       "      <td>92.0</td>\n",
       "      <td>1.0</td>\n",
       "      <td>0.0</td>\n",
       "      <td>0.0</td>\n",
       "      <td>0.0</td>\n",
       "      <td>...</td>\n",
       "      <td>0.0</td>\n",
       "      <td>0.0</td>\n",
       "      <td>0.0</td>\n",
       "      <td>0.0</td>\n",
       "      <td>0.0</td>\n",
       "      <td>0.0</td>\n",
       "      <td>0.0</td>\n",
       "      <td>0.0</td>\n",
       "      <td>0.0</td>\n",
       "      <td>0.0</td>\n",
       "    </tr>\n",
       "    <tr>\n",
       "      <td>3</td>\n",
       "      <td>400000.0</td>\n",
       "      <td>1.084940</td>\n",
       "      <td>8.649220</td>\n",
       "      <td>55.0</td>\n",
       "      <td>61.0</td>\n",
       "      <td>91.0</td>\n",
       "      <td>1.0</td>\n",
       "      <td>0.0</td>\n",
       "      <td>0.0</td>\n",
       "      <td>0.0</td>\n",
       "      <td>...</td>\n",
       "      <td>0.0</td>\n",
       "      <td>0.0</td>\n",
       "      <td>0.0</td>\n",
       "      <td>0.0</td>\n",
       "      <td>0.0</td>\n",
       "      <td>0.0</td>\n",
       "      <td>0.0</td>\n",
       "      <td>0.0</td>\n",
       "      <td>0.0</td>\n",
       "      <td>0.0</td>\n",
       "    </tr>\n",
       "    <tr>\n",
       "      <td>4</td>\n",
       "      <td>400000.0</td>\n",
       "      <td>1.084940</td>\n",
       "      <td>8.649220</td>\n",
       "      <td>55.0</td>\n",
       "      <td>61.0</td>\n",
       "      <td>91.0</td>\n",
       "      <td>1.0</td>\n",
       "      <td>0.0</td>\n",
       "      <td>0.0</td>\n",
       "      <td>0.0</td>\n",
       "      <td>...</td>\n",
       "      <td>0.0</td>\n",
       "      <td>0.0</td>\n",
       "      <td>0.0</td>\n",
       "      <td>0.0</td>\n",
       "      <td>0.0</td>\n",
       "      <td>0.0</td>\n",
       "      <td>0.0</td>\n",
       "      <td>0.0</td>\n",
       "      <td>0.0</td>\n",
       "      <td>0.0</td>\n",
       "    </tr>\n",
       "  </tbody>\n",
       "</table>\n",
       "<p>5 rows × 62 columns</p>\n",
       "</div>"
      ],
      "text/plain": [
       "   resale_price  distance_to_nearest_station  distance_to_city   psf  \\\n",
       "0      400000.0                     1.188474          8.715595  76.0   \n",
       "1      400000.0                     1.188474          8.715595  76.0   \n",
       "2      400000.0                     1.188474          8.715595  76.0   \n",
       "3      400000.0                     1.084940          8.649220  55.0   \n",
       "4      400000.0                     1.084940          8.649220  55.0   \n",
       "\n",
       "   remaining_lease  floor_area_sqm  year_2017  year_2018  year_2019  \\\n",
       "0             61.0            92.0        1.0        0.0        0.0   \n",
       "1             61.0            92.0        1.0        0.0        0.0   \n",
       "2             61.0            92.0        1.0        0.0        0.0   \n",
       "3             61.0            91.0        1.0        0.0        0.0   \n",
       "4             61.0            91.0        1.0        0.0        0.0   \n",
       "\n",
       "   storey_range_04 TO 06  ...  town_QUEENSTOWN  town_SEMBAWANG  town_SENGKANG  \\\n",
       "0                    0.0  ...              0.0             0.0            0.0   \n",
       "1                    0.0  ...              0.0             0.0            0.0   \n",
       "2                    0.0  ...              0.0             0.0            0.0   \n",
       "3                    0.0  ...              0.0             0.0            0.0   \n",
       "4                    0.0  ...              0.0             0.0            0.0   \n",
       "\n",
       "   town_SERANGOON  town_TAMPINES  town_TOA PAYOH  town_WOODLANDS  town_YISHUN  \\\n",
       "0             0.0            0.0             0.0             0.0          0.0   \n",
       "1             0.0            0.0             0.0             0.0          0.0   \n",
       "2             0.0            0.0             0.0             0.0          0.0   \n",
       "3             0.0            0.0             0.0             0.0          0.0   \n",
       "4             0.0            0.0             0.0             0.0          0.0   \n",
       "\n",
       "   commercial_Y  multistorey_carpark_Y  \n",
       "0           0.0                    0.0  \n",
       "1           0.0                    0.0  \n",
       "2           0.0                    0.0  \n",
       "3           0.0                    0.0  \n",
       "4           0.0                    0.0  \n",
       "\n",
       "[5 rows x 62 columns]"
      ]
     },
     "execution_count": 103,
     "metadata": {},
     "output_type": "execute_result"
    }
   ],
   "source": [
    "flat_model.head()"
   ]
  },
  {
   "cell_type": "code",
   "execution_count": 104,
   "metadata": {},
   "outputs": [],
   "source": [
    "flat_model = flat_model.drop_duplicates()"
   ]
  },
  {
   "cell_type": "code",
   "execution_count": 105,
   "metadata": {},
   "outputs": [
    {
     "data": {
      "text/plain": [
       "<matplotlib.axes._subplots.AxesSubplot at 0x1891abf8b88>"
      ]
     },
     "execution_count": 105,
     "metadata": {},
     "output_type": "execute_result"
    },
    {
     "data": {
      "image/png": "[encoded data removed]",
      "text/plain": [
       "<Figure size 432x288 with 2 Axes>"
      ]
     },
     "metadata": {
      "needs_background": "light"
     },
     "output_type": "display_data"
    }
   ],
   "source": [
    "import seaborn as sns\n",
    "corrMatrix = flat_ready.corr()\n",
    "sns.heatmap(corrMatrix, annot=False)"
   ]
  },
  {
   "cell_type": "code",
   "execution_count": 106,
   "metadata": {},
   "outputs": [],
   "source": [
    "flat_modelresale = flat_model.drop(['psf'], axis=1)"
   ]
  },
  {
   "cell_type": "code",
   "execution_count": 107,
   "metadata": {},
   "outputs": [],
   "source": [
    "yr= flat_modelresale['resale_price'].values.reshape(-1,1)\n",
    "xr = flat_modelresale.drop(['resale_price'], axis=1)"
   ]
  },
  {
   "cell_type": "code",
   "execution_count": 108,
   "metadata": {},
   "outputs": [],
   "source": [
    "from sklearn.model_selection import train_test_split\n",
    "X_train, X_test, y_train, y_test = train_test_split(xr, yr, test_size=0.2, random_state=0)"
   ]
  },
  {
   "cell_type": "code",
   "execution_count": 109,
   "metadata": {},
   "outputs": [
    {
     "name": "stdout",
     "output_type": "stream",
     "text": [
      "(27135, 60)\n",
      "(6784, 60)\n",
      "(27135, 1)\n",
      "(6784, 1)\n"
     ]
    }
   ],
   "source": [
    "print(X_train.shape)\n",
    "print(X_test.shape)\n",
    "print(y_train.shape)\n",
    "print(y_test.shape)"
   ]
  },
  {
   "cell_type": "code",
   "execution_count": 110,
   "metadata": {},
   "outputs": [],
   "source": [
    "import numpy as np\n",
    "from sklearn.linear_model import LinearRegression\n",
    "lr= LinearRegression()\n",
    "lr.fit(X_train, y_train)\n",
    "y_pred=lr.predict(X_test)\n",
    "\n"
   ]
  },
  {
   "cell_type": "code",
   "execution_count": 111,
   "metadata": {},
   "outputs": [
    {
     "name": "stdout",
     "output_type": "stream",
     "text": [
      "Mean Absolute Error: 30897.6698365197\n",
      "Mean Squared Error: 1633524354.6210926\n",
      "Root Mean Squared Error: 40416.88204972141\n"
     ]
    }
   ],
   "source": [
    "from sklearn import metrics\n",
    "print('Mean Absolute Error:', metrics.mean_absolute_error(y_test, y_pred))  \n",
    "print('Mean Squared Error:', metrics.mean_squared_error(y_test, y_pred))  \n",
    "print('Root Mean Squared Error:', np.sqrt(metrics.mean_squared_error(y_test, y_pred)))"
   ]
  },
  {
   "cell_type": "code",
   "execution_count": 112,
   "metadata": {},
   "outputs": [
    {
     "name": "stderr",
     "output_type": "stream",
     "text": [
      "C:\\Users\\Natasha\\Anaconda3\\lib\\site-packages\\numpy\\core\\fromnumeric.py:2389: FutureWarning: Method .ptp is deprecated and will be removed in a future version. Use numpy.ptp instead.\n",
      "  return ptp(axis=axis, out=out, **kwargs)\n"
     ]
    },
    {
     "name": "stdout",
     "output_type": "stream",
     "text": [
      "                                 OLS Regression Results                                \n",
      "=======================================================================================\n",
      "Dep. Variable:                      y   R-squared (uncentered):                   0.992\n",
      "Model:                            OLS   Adj. R-squared (uncentered):              0.992\n",
      "Method:                 Least Squares   F-statistic:                          5.405e+04\n",
      "Date:                Tue, 11 Feb 2020   Prob (F-statistic):                        0.00\n",
      "Time:                        09:37:29   Log-Likelihood:                     -3.2659e+05\n",
      "No. Observations:               27135   AIC:                                  6.533e+05\n",
      "Df Residuals:                   27075   BIC:                                  6.538e+05\n",
      "Df Model:                          60                                                  \n",
      "Covariance Type:            nonrobust                                                  \n",
      "================================================================================================\n",
      "                                   coef    std err          t      P>|t|      [0.025      0.975]\n",
      "------------------------------------------------------------------------------------------------\n",
      "distance_to_nearest_station  -7.525e+04    886.966    -84.841      0.000    -7.7e+04   -7.35e+04\n",
      "distance_to_city             -1.128e+04    324.600    -34.766      0.000   -1.19e+04   -1.06e+04\n",
      "remaining_lease               4350.8845     45.320     96.004      0.000    4262.055    4439.713\n",
      "floor_area_sqm                2562.7434     55.658     46.045      0.000    2453.652    2671.835\n",
      "year_2017                    -1328.8915    718.856     -1.849      0.065   -2737.887      80.104\n",
      "year_2018                    -3488.7416    715.884     -4.873      0.000   -4891.912   -2085.572\n",
      "year_2019                    -1007.1645    710.430     -1.418      0.156   -2399.644     385.315\n",
      "storey_range_04 TO 06         1.913e+04    789.390     24.229      0.000    1.76e+04    2.07e+04\n",
      "storey_range_07 TO 09         3.205e+04    803.039     39.907      0.000    3.05e+04    3.36e+04\n",
      "storey_range_10 TO 12         3.997e+04    827.633     48.295      0.000    3.83e+04    4.16e+04\n",
      "storey_range_13 TO 15         5.102e+04   1027.464     49.652      0.000     4.9e+04     5.3e+04\n",
      "storey_range_16 TO 18         5.859e+04   1377.111     42.547      0.000    5.59e+04    6.13e+04\n",
      "storey_range_19 TO 21         7.404e+04   2111.214     35.070      0.000    6.99e+04    7.82e+04\n",
      "storey_range_22 TO 24         7.757e+04   2249.800     34.478      0.000    7.32e+04     8.2e+04\n",
      "storey_range_25 TO 27         9.859e+04   2922.336     33.738      0.000    9.29e+04    1.04e+05\n",
      "storey_range_28 TO 30         1.135e+05   3348.097     33.901      0.000    1.07e+05     1.2e+05\n",
      "storey_range_31 TO 33         1.163e+05   4912.015     23.680      0.000    1.07e+05    1.26e+05\n",
      "storey_range_34 TO 36         1.292e+05   4704.687     27.456      0.000     1.2e+05    1.38e+05\n",
      "storey_range_37 TO 39         1.298e+05   5058.424     25.658      0.000     1.2e+05     1.4e+05\n",
      "storey_range_40 TO 42         1.504e+05   7736.959     19.437      0.000    1.35e+05    1.66e+05\n",
      "storey_range_43 TO 45          1.98e+05   2.08e+04      9.505      0.000    1.57e+05    2.39e+05\n",
      "storey_range_46 TO 48         1.718e+05   1.42e+04     12.090      0.000    1.44e+05       2e+05\n",
      "storey_range_49 TO 51         1.561e+05   1.87e+04      8.336      0.000    1.19e+05    1.93e+05\n",
      "flat_model_DBSS               1.667e+05   8625.254     19.324      0.000     1.5e+05    1.84e+05\n",
      "flat_model_Improved           4.664e+04   7070.685      6.596      0.000    3.28e+04    6.05e+04\n",
      "flat_model_Model A            6.395e+04   8140.736      7.856      0.000     4.8e+04    7.99e+04\n",
      "flat_model_Model A2            6.24e+04   7844.591      7.955      0.000     4.7e+04    7.78e+04\n",
      "flat_model_New Generation     7.041e+04   7375.738      9.547      0.000     5.6e+04    8.49e+04\n",
      "flat_model_Premium Apartment  8.141e+04   8236.969      9.883      0.000    6.53e+04    9.76e+04\n",
      "flat_model_Simplified         6.003e+04   7164.629      8.378      0.000     4.6e+04    7.41e+04\n",
      "flat_model_Standard           4.153e+04   1.03e+04      4.050      0.000    2.14e+04    6.16e+04\n",
      "flat_model_Terrace            4.569e+05   2.48e+04     18.414      0.000    4.08e+05    5.06e+05\n",
      "flat_model_Type S1            2.292e+05   1.01e+04     22.688      0.000    2.09e+05    2.49e+05\n",
      "town_BEDOK                    -3.72e+04   1943.717    -19.136      0.000    -4.1e+04   -3.34e+04\n",
      "town_BISHAN                   5.209e+04   2385.383     21.839      0.000    4.74e+04    5.68e+04\n",
      "town_BUKIT BATOK             -6.848e+04   2419.841    -28.299      0.000   -7.32e+04   -6.37e+04\n",
      "town_BUKIT MERAH               3.19e+04   2821.770     11.305      0.000    2.64e+04    3.74e+04\n",
      "town_BUKIT PANJANG           -1.355e+05   2666.678    -50.810      0.000   -1.41e+05    -1.3e+05\n",
      "town_BUKIT TIMAH              1.458e+05   4976.945     29.296      0.000    1.36e+05    1.56e+05\n",
      "town_CENTRAL AREA            -1.481e+04   4825.925     -3.069      0.002   -2.43e+04   -5350.468\n",
      "town_CHOA CHU KANG            -1.22e+05   3045.121    -40.065      0.000   -1.28e+05   -1.16e+05\n",
      "town_CLEMENTI                 5.964e+04   2401.344     24.836      0.000    5.49e+04    6.43e+04\n",
      "town_GEYLANG                 -2.993e+04   2534.761    -11.808      0.000   -3.49e+04    -2.5e+04\n",
      "town_HOUGANG                  -8.72e+04   1942.847    -44.883      0.000    -9.1e+04   -8.34e+04\n",
      "town_JURONG EAST             -3.066e+04   2854.144    -10.741      0.000   -3.62e+04   -2.51e+04\n",
      "town_JURONG WEST             -5.317e+04   3209.047    -16.570      0.000   -5.95e+04   -4.69e+04\n",
      "town_KALLANG/WHAMPOA         -2.397e+04   2938.516     -8.157      0.000   -2.97e+04   -1.82e+04\n",
      "town_MARINE PARADE            1.962e+05   4733.661     41.439      0.000    1.87e+05    2.05e+05\n",
      "town_PASIR RIS               -2.443e+04   2796.966     -8.735      0.000   -2.99e+04   -1.89e+04\n",
      "town_PUNGGOL                  -1.18e+05   2630.719    -44.852      0.000   -1.23e+05   -1.13e+05\n",
      "town_QUEENSTOWN               7.706e+04   2551.722     30.201      0.000    7.21e+04    8.21e+04\n",
      "town_SEMBAWANG               -9.957e+04   3809.612    -26.137      0.000   -1.07e+05   -9.21e+04\n",
      "town_SENGKANG                -1.548e+05   2209.702    -70.054      0.000   -1.59e+05    -1.5e+05\n",
      "town_SERANGOON               -2641.5839   2249.895     -1.174      0.240   -7051.494    1768.326\n",
      "town_TAMPINES                -3.512e+04   2246.668    -15.632      0.000   -3.95e+04   -3.07e+04\n",
      "town_TOA PAYOH               -5659.7366   2563.396     -2.208      0.027   -1.07e+04    -635.347\n",
      "town_WOODLANDS               -8.858e+04   3420.499    -25.897      0.000   -9.53e+04   -8.19e+04\n",
      "town_YISHUN                   -5.64e+04   2731.998    -20.644      0.000   -6.18e+04    -5.1e+04\n",
      "commercial_Y                  -808.6809    677.902     -1.193      0.233   -2137.404     520.042\n",
      "multistorey_carpark_Y        -4.891e+04   1.24e+04     -3.945      0.000   -7.32e+04   -2.46e+04\n",
      "==============================================================================\n",
      "Omnibus:                     1386.502   Durbin-Watson:                   1.997\n",
      "Prob(Omnibus):                  0.000   Jarque-Bera (JB):             2435.839\n",
      "Skew:                           0.408   Prob(JB):                         0.00\n",
      "Kurtosis:                       4.220   Cond. No.                     1.37e+04\n",
      "==============================================================================\n",
      "\n",
      "Warnings:\n",
      "[1] Standard Errors assume that the covariance matrix of the errors is correctly specified.\n",
      "[2] The condition number is large, 1.37e+04. This might indicate that there are\n",
      "strong multicollinearity or other numerical problems.\n"
     ]
    }
   ],
   "source": [
    "import statsmodels.api as sm\n",
    "X = sm.add_constant(xr) # adding a constant\n",
    "model = sm.OLS(y_train, X_train).fit()\n",
    "predictions = model.predict(X_test) \n",
    "\n",
    "print_model = model.summary()\n",
    "print(print_model)"
   ]
  },
  {
   "cell_type": "code",
   "execution_count": 113,
   "metadata": {},
   "outputs": [],
   "source": [
    "import xgboost as xgb\n",
    "from sklearn.metrics import mean_squared_error\n"
   ]
  },
  {
   "cell_type": "code",
   "execution_count": 115,
   "metadata": {},
   "outputs": [],
   "source": [
    "data_dmatrix = xgb.DMatrix(data=xr,label=yr)"
   ]
  },
  {
   "cell_type": "raw",
   "metadata": {},
   "source": [
    "from sklearn.model_selection import train_test_split\n",
    "\n",
    "X_train, X_test, y_train, y_test = train_test_split(xp, yp, test_size=0.2, random_state=0)"
   ]
  },
  {
   "cell_type": "code",
   "execution_count": 116,
   "metadata": {},
   "outputs": [],
   "source": [
    "xg_reg = xgb.XGBRegressor(objective ='reg:linear', colsample_bytree = 0.3, learning_rate = 0.1,\n",
    "                max_depth = 5, alpha = 10, n_estimators = 10)"
   ]
  },
  {
   "cell_type": "code",
   "execution_count": 117,
   "metadata": {},
   "outputs": [
    {
     "name": "stdout",
     "output_type": "stream",
     "text": [
      "[09:42:09] WARNING: C:/Jenkins/workspace/xgboost-win64_release_0.90/src/objective/regression_obj.cu:152: reg:linear is now deprecated in favor of reg:squarederror.\n"
     ]
    },
    {
     "data": {
      "text/plain": [
       "XGBRegressor(alpha=10, base_score=0.5, booster='gbtree', colsample_bylevel=1,\n",
       "             colsample_bynode=1, colsample_bytree=0.3, gamma=0,\n",
       "             importance_type='gain', learning_rate=0.1, max_delta_step=0,\n",
       "             max_depth=5, min_child_weight=1, missing=None, n_estimators=10,\n",
       "             n_jobs=1, nthread=None, objective='reg:linear', random_state=0,\n",
       "             reg_alpha=0, reg_lambda=1, scale_pos_weight=1, seed=None,\n",
       "             silent=None, subsample=1, verbosity=1)"
      ]
     },
     "execution_count": 117,
     "metadata": {},
     "output_type": "execute_result"
    }
   ],
   "source": [
    "xg_reg.fit(X_train,y_train)"
   ]
  },
  {
   "cell_type": "code",
   "execution_count": 118,
   "metadata": {},
   "outputs": [
    {
     "data": {
      "text/plain": [
       "array([263536.8 , 273549.06, 254300.55, ..., 286555.06, 277855.28,\n",
       "       293712.6 ], dtype=float32)"
      ]
     },
     "execution_count": 118,
     "metadata": {},
     "output_type": "execute_result"
    }
   ],
   "source": [
    "preds = xg_reg.predict(X_test)\n",
    "preds"
   ]
  },
  {
   "cell_type": "code",
   "execution_count": 119,
   "metadata": {},
   "outputs": [
    {
     "name": "stdout",
     "output_type": "stream",
     "text": [
      "RMSE: 174635.341590\n"
     ]
    }
   ],
   "source": [
    "rmse = np.sqrt(mean_squared_error(y_test, preds))\n",
    "print(\"RMSE: %f\" % (rmse))"
   ]
  },
  {
   "cell_type": "code",
   "execution_count": 120,
   "metadata": {},
   "outputs": [
    {
     "data": {
      "image/png": "[encoded data removed]",
      "text/plain": [
       "<Figure size 432x288 with 1 Axes>"
      ]
     },
     "metadata": {
      "needs_background": "light"
     },
     "output_type": "display_data"
    }
   ],
   "source": [
    "params = {\"objective\":\"reg:squarederror\",'colsample_bytree': 0.3,'learning_rate': 0.1,\n",
    "                'max_depth': 5, 'alpha': 10}\n",
    "\n",
    "cv_results = xgb.cv(dtrain=data_dmatrix, params=params, nfold=3, num_boost_round=50,early_stopping_rounds=10,metrics=\"rmse\", as_pandas=True, seed=123)\n",
    "\n",
    "xg_reg = xgb.train(params=params, dtrain=data_dmatrix, num_boost_round=10)\n",
    "\n",
    "import matplotlib.pyplot as plt\n",
    "xgb.plot_importance(xg_reg, max_num_features =20)\n",
    "plt.rcParams['figure.figsize'] = [5, 5]\n",
    "plt.show()"
   ]
  },
  {
   "cell_type": "code",
   "execution_count": 121,
   "metadata": {},
   "outputs": [],
   "source": [
    "flat_modelpsf = flat_model.drop(['resale_price'], axis=1)  # to evaluate psf we will need to remove resale price"
   ]
  },
  {
   "cell_type": "code",
   "execution_count": 122,
   "metadata": {},
   "outputs": [
    {
     "name": "stdout",
     "output_type": "stream",
     "text": [
      "(27135, 60)\n",
      "(6784, 60)\n",
      "(27135, 1)\n",
      "(6784, 1)\n",
      "Mean Absolute Error: 24.51893005852392\n",
      "Mean Squared Error: 808.9534474610612\n",
      "Root Mean Squared Error: 28.442106944828492\n"
     ]
    },
    {
     "name": "stderr",
     "output_type": "stream",
     "text": [
      "C:\\Users\\Natasha\\Anaconda3\\lib\\site-packages\\numpy\\core\\fromnumeric.py:2389: FutureWarning: Method .ptp is deprecated and will be removed in a future version. Use numpy.ptp instead.\n",
      "  return ptp(axis=axis, out=out, **kwargs)\n"
     ]
    },
    {
     "name": "stdout",
     "output_type": "stream",
     "text": [
      "                                 OLS Regression Results                                \n",
      "=======================================================================================\n",
      "Dep. Variable:                      y   R-squared (uncentered):                   0.710\n",
      "Model:                            OLS   Adj. R-squared (uncentered):              0.710\n",
      "Method:                 Least Squares   F-statistic:                              1106.\n",
      "Date:                Tue, 11 Feb 2020   Prob (F-statistic):                        0.00\n",
      "Time:                        09:44:37   Log-Likelihood:                     -1.2923e+05\n",
      "No. Observations:               27135   AIC:                                  2.586e+05\n",
      "Df Residuals:                   27075   BIC:                                  2.591e+05\n",
      "Df Model:                          60                                                  \n",
      "Covariance Type:            nonrobust                                                  \n",
      "================================================================================================\n",
      "                                   coef    std err          t      P>|t|      [0.025      0.975]\n",
      "------------------------------------------------------------------------------------------------\n",
      "distance_to_nearest_station     -1.3202      0.615     -2.145      0.032      -2.526      -0.114\n",
      "distance_to_city                -0.6946      0.225     -3.084      0.002      -1.136      -0.253\n",
      "remaining_lease                  0.0157      0.031      0.501      0.617      -0.046       0.077\n",
      "floor_area_sqm                   0.4402      0.039     11.399      0.000       0.364       0.516\n",
      "year_2017                       -0.3672      0.499     -0.736      0.462      -1.345       0.610\n",
      "year_2018                        0.8247      0.497      1.661      0.097      -0.149       1.798\n",
      "year_2019                        0.4223      0.493      0.857      0.392      -0.544       1.388\n",
      "storey_range_04 TO 06           -0.0331      0.548     -0.060      0.952      -1.107       1.040\n",
      "storey_range_07 TO 09           -0.0375      0.557     -0.067      0.946      -1.129       1.054\n",
      "storey_range_10 TO 12            0.7166      0.574      1.248      0.212      -0.409       1.842\n",
      "storey_range_13 TO 15           -1.0941      0.713     -1.535      0.125      -2.491       0.303\n",
      "storey_range_16 TO 18            0.2602      0.955      0.272      0.785      -1.612       2.133\n",
      "storey_range_19 TO 21           -0.4502      1.465     -0.307      0.759      -3.321       2.421\n",
      "storey_range_22 TO 24           -0.3292      1.561     -0.211      0.833      -3.388       2.730\n",
      "storey_range_25 TO 27            0.6976      2.027      0.344      0.731      -3.276       4.671\n",
      "storey_range_28 TO 30            0.4443      2.323      0.191      0.848      -4.108       4.997\n",
      "storey_range_31 TO 33           -0.6249      3.408     -0.183      0.854      -7.304       6.054\n",
      "storey_range_34 TO 36           -1.8563      3.264     -0.569      0.570      -8.254       4.541\n",
      "storey_range_37 TO 39            3.9559      3.509      1.127      0.260      -2.923      10.834\n",
      "storey_range_40 TO 42           -0.7686      5.368     -0.143      0.886     -11.289       9.752\n",
      "storey_range_43 TO 45          -23.5045     14.452     -1.626      0.104     -51.831       4.822\n",
      "storey_range_46 TO 48          -18.8036      9.860     -1.907      0.057     -38.129       0.522\n",
      "storey_range_49 TO 51          -22.9729     12.988     -1.769      0.077     -48.430       2.484\n",
      "flat_model_DBSS                 11.7810      5.984      1.969      0.049       0.052      23.510\n",
      "flat_model_Improved             10.7416      4.905      2.190      0.029       1.127      20.356\n",
      "flat_model_Model A               8.6166      5.648      1.526      0.127      -2.453      19.686\n",
      "flat_model_Model A2             10.3809      5.442      1.907      0.056      -0.286      21.048\n",
      "flat_model_New Generation       12.1654      5.117      2.377      0.017       2.136      22.195\n",
      "flat_model_Premium Apartment    10.3265      5.714      1.807      0.071      -0.874      21.527\n",
      "flat_model_Simplified           10.6922      4.971      2.151      0.031       0.950      20.435\n",
      "flat_model_Standard             16.5239      7.114      2.323      0.020       2.581      30.467\n",
      "flat_model_Terrace             -20.3506     17.216     -1.182      0.237     -54.094      13.393\n",
      "flat_model_Type S1              11.5818      7.009      1.652      0.098      -2.156      25.320\n",
      "town_BEDOK                       0.3863      1.348      0.286      0.775      -2.257       3.029\n",
      "town_BISHAN                     -2.6698      1.655     -1.613      0.107      -5.913       0.574\n",
      "town_BUKIT BATOK                 0.8873      1.679      0.529      0.597      -2.403       4.178\n",
      "town_BUKIT MERAH               -15.7746      1.958     -8.058      0.000     -19.612     -11.938\n",
      "town_BUKIT PANJANG               1.9895      1.850      1.075      0.282      -1.637       5.616\n",
      "town_BUKIT TIMAH                -2.4074      3.453     -0.697      0.486      -9.175       4.360\n",
      "town_CENTRAL AREA               -4.2036      3.348     -1.256      0.209     -10.766       2.359\n",
      "town_CHOA CHU KANG               1.7785      2.113      0.842      0.400      -2.362       5.919\n",
      "town_CLEMENTI                   -2.6072      1.666     -1.565      0.118      -5.873       0.658\n",
      "town_GEYLANG                    -1.4202      1.759     -0.808      0.419      -4.867       2.027\n",
      "town_HOUGANG                    -3.8749      1.348     -2.875      0.004      -6.517      -1.233\n",
      "town_JURONG EAST                 1.5675      1.980      0.792      0.429      -2.314       5.449\n",
      "town_JURONG WEST                 6.3809      2.226      2.866      0.004       2.017      10.745\n",
      "town_KALLANG/WHAMPOA            -3.8014      2.039     -1.865      0.062      -7.797       0.194\n",
      "town_MARINE PARADE              -1.4508      3.284     -0.442      0.659      -7.888       4.986\n",
      "town_PASIR RIS                   7.7988      1.940      4.019      0.000       3.995      11.602\n",
      "town_PUNGGOL                     2.2366      1.825      1.225      0.220      -1.341       5.814\n",
      "town_QUEENSTOWN                 -2.9835      1.770     -1.685      0.092      -6.453       0.486\n",
      "town_SEMBAWANG                   3.5195      2.643      1.332      0.183      -1.661       8.700\n",
      "town_SENGKANG                   -1.1978      1.533     -0.781      0.435      -4.203       1.807\n",
      "town_SERANGOON                  -2.8901      1.561     -1.852      0.064      -5.949       0.169\n",
      "town_TAMPINES                   -0.0013      1.559     -0.001      0.999      -3.056       3.054\n",
      "town_TOA PAYOH                  -4.3919      1.778     -2.470      0.014      -7.878      -0.906\n",
      "town_WOODLANDS                   1.4894      2.373      0.628      0.530      -3.162       6.141\n",
      "town_YISHUN                      6.2828      1.895      3.315      0.001       2.568       9.998\n",
      "commercial_Y                     0.6309      0.470      1.342      0.180      -0.291       1.553\n",
      "multistorey_carpark_Y            6.3126      8.602      0.734      0.463     -10.547      23.172\n",
      "==============================================================================\n",
      "Omnibus:                    14994.815   Durbin-Watson:                   2.021\n",
      "Prob(Omnibus):                  0.000   Jarque-Bera (JB):             1487.437\n",
      "Skew:                           0.049   Prob(JB):                         0.00\n",
      "Kurtosis:                       1.857   Cond. No.                     1.37e+04\n",
      "==============================================================================\n",
      "\n",
      "Warnings:\n",
      "[1] Standard Errors assume that the covariance matrix of the errors is correctly specified.\n",
      "[2] The condition number is large, 1.37e+04. This might indicate that there are\n",
      "strong multicollinearity or other numerical problems.\n"
     ]
    }
   ],
   "source": [
    "#regression with y as psf\n",
    "\n",
    "\n",
    "yp= flat_modelpsf['psf'].values.reshape(-1,1)\n",
    "xp = flat_modelpsf.drop(['psf'], axis=1)\n",
    "from sklearn.model_selection import train_test_split\n",
    "Xp_train, Xp_test, yp_train, yp_test = train_test_split(xp, yp, test_size=0.2, random_state=0)\n",
    "print(Xp_train.shape)\n",
    "print(Xp_test.shape)\n",
    "print(yp_train.shape)\n",
    "print(yp_test.shape)\n",
    "import numpy as np\n",
    "from sklearn.linear_model import LinearRegression\n",
    "lr= LinearRegression()\n",
    "lr.fit(Xp_train, yp_train)\n",
    "yp_pred= lr.predict(Xp_test)\n",
    "\n",
    "from sklearn import metrics\n",
    "print('Mean Absolute Error:', metrics.mean_absolute_error(yp_test, yp_pred))  \n",
    "print('Mean Squared Error:', metrics.mean_squared_error(yp_test, yp_pred))  \n",
    "print('Root Mean Squared Error:', np.sqrt(metrics.mean_squared_error(yp_test, yp_pred)))\n",
    "\n",
    "import statsmodels.api as sm\n",
    "X = sm.add_constant(xp) # adding a constant\n",
    "model = sm.OLS(yp_train, Xp_train).fit()\n",
    "predictions = model.predict(Xp_test) \n",
    "\n",
    "print_model = model.summary()\n",
    "print(print_model)"
   ]
  },
  {
   "cell_type": "code",
   "execution_count": 125,
   "metadata": {},
   "outputs": [
    {
     "name": "stdout",
     "output_type": "stream",
     "text": [
      "(27135, 60)\n",
      "(6784, 60)\n",
      "(27135, 1)\n",
      "(6784, 1)\n",
      "[09:53:23] WARNING: C:/Jenkins/workspace/xgboost-win64_release_0.90/src/objective/regression_obj.cu:152: reg:linear is now deprecated in favor of reg:squarederror.\n",
      "RMSE: 31.453310\n"
     ]
    },
    {
     "data": {
      "image/png": "[encoded data removed]",
      "text/plain": [
       "<Figure size 360x360 with 1 Axes>"
      ]
     },
     "metadata": {
      "needs_background": "light"
     },
     "output_type": "display_data"
    }
   ],
   "source": [
    "#running xgboost on y being psf\n",
    "\n",
    "data_dmatrix2 = xgb.DMatrix(data=xp,label=yp)\n",
    "Xp_train, Xp_test, yp_train, yp_test = train_test_split(xp, yp, test_size=0.2, random_state=0)\n",
    "print(Xp_train.shape)\n",
    "print(Xp_test.shape)\n",
    "print(yp_train.shape)\n",
    "print(yp_test.shape)\n",
    "\n",
    "xg_reg = xgb.XGBRegressor(objective ='reg:linear', colsample_bytree = 0.3, learning_rate = 0.1,\n",
    "                max_depth = 5, alpha = 10, n_estimators = 10)\n",
    "\n",
    "xg_reg.fit(Xp_train,yp_train)\n",
    "predsp = xg_reg.predict(Xp_test)\n",
    "rmse = np.sqrt(mean_squared_error(yp_test, predsp))\n",
    "print(\"RMSE: %f\" % (rmse))\n",
    "params = {\"objective\":\"reg:squarederror\",'colsample_bytree': 0.3,'learning_rate': 0.1,\n",
    "                'max_depth': 5, 'alpha': 10}\n",
    "\n",
    "cv_results = xgb.cv(dtrain=data_dmatrix2, params=params, nfold=3, num_boost_round=50,early_stopping_rounds=10,metrics=\"rmse\", as_pandas=True, seed=123)\n",
    "\n",
    "xg_reg = xgb.train(params=params, dtrain=data_dmatrix2, num_boost_round=10)\n",
    "\n",
    "import matplotlib.pyplot as plt\n",
    "xgb.plot_importance(xg_reg, max_num_features =20)\n",
    "plt.rcParams['figure.figsize'] = [5, 5]\n",
    "plt.show()"
   ]
  },
  {
   "cell_type": "code",
   "execution_count": null,
   "metadata": {},
   "outputs": [],
   "source": []
  },
  {
   "cell_type": "code",
   "execution_count": null,
   "metadata": {},
   "outputs": [],
   "source": []
  },
  {
   "cell_type": "code",
   "execution_count": null,
   "metadata": {},
   "outputs": [],
   "source": []
  },
  {
   "cell_type": "code",
   "execution_count": null,
   "metadata": {},
   "outputs": [],
   "source": []
  }
 ],
 "metadata": {
  "kernelspec": {
   "display_name": "Python 3",
   "language": "python",
   "name": "python3"
  },
  "language_info": {
   "codemirror_mode": {
    "name": "ipython",
    "version": 3
   },
   "file_extension": ".py",
   "mimetype": "text/x-python",
   "name": "python",
   "nbconvert_exporter": "python",
   "pygments_lexer": "ipython3",
   "version": "3.7.4"
  }
 },
 "nbformat": 4,
 "nbformat_minor": 2
}
